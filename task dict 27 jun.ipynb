{
 "cells": [
  {
   "cell_type": "markdown",
   "id": "6fae1bd7-3bea-49f4-be2f-120b58cf650f",
   "metadata": {},
   "source": [
    "# dictionary"
   ]
  },
  {
   "cell_type": "code",
   "execution_count": 1,
   "id": "538b921a-85b2-4ad6-b55b-46c0f7be710d",
   "metadata": {},
   "outputs": [
    {
     "data": {
      "text/plain": [
       "{}"
      ]
     },
     "execution_count": 1,
     "metadata": {},
     "output_type": "execute_result"
    }
   ],
   "source": [
    "h = {}\n",
    "h"
   ]
  },
  {
   "cell_type": "code",
   "execution_count": 3,
   "id": "1ed395c8-a961-45f3-803c-6fe462af11f3",
   "metadata": {},
   "outputs": [
    {
     "data": {
      "text/plain": [
       "dict"
      ]
     },
     "execution_count": 3,
     "metadata": {},
     "output_type": "execute_result"
    }
   ],
   "source": [
    "type(h)"
   ]
  },
  {
   "cell_type": "code",
   "execution_count": 4,
   "id": "f265870d-c961-426e-b143-282b4204808f",
   "metadata": {},
   "outputs": [
    {
     "data": {
      "text/plain": [
       "{1: 'A', 2: 'B', 3: 'C'}"
      ]
     },
     "execution_count": 4,
     "metadata": {},
     "output_type": "execute_result"
    }
   ],
   "source": [
    "h = {1:'A',2:'B',3:'C'}\n",
    "h"
   ]
  },
  {
   "cell_type": "code",
   "execution_count": 8,
   "id": "228a217d-3023-4855-9a8f-f59dcd1685b0",
   "metadata": {},
   "outputs": [
    {
     "data": {
      "text/plain": [
       "{1: 'A', 2: 'B', 3: 'C'}"
      ]
     },
     "execution_count": 8,
     "metadata": {},
     "output_type": "execute_result"
    }
   ],
   "source": [
    "h = dict({1:'A',2:'B',3:'C'})   #character keys\n",
    "h"
   ]
  },
  {
   "cell_type": "code",
   "execution_count": 12,
   "id": "6c987155-bdca-4f71-8f5f-eb7ddc99b531",
   "metadata": {},
   "outputs": [
    {
     "data": {
      "text/plain": [
       "{1: 'one', 'k': 'nice', 17.8: 'hat'}"
      ]
     },
     "execution_count": 12,
     "metadata": {},
     "output_type": "execute_result"
    }
   ],
   "source": [
    "h = {1:'one','k':'nice',17.8:'hat'} #mixed keys\n",
    "h "
   ]
  },
  {
   "cell_type": "code",
   "execution_count": 14,
   "id": "50460976-2178-4325-ab7f-6f4599535682",
   "metadata": {},
   "outputs": [
    {
     "data": {
      "text/plain": [
       "dict_keys([1, 'k', 17.8])"
      ]
     },
     "execution_count": 14,
     "metadata": {},
     "output_type": "execute_result"
    }
   ],
   "source": [
    "h.keys()   #return keys "
   ]
  },
  {
   "cell_type": "code",
   "execution_count": 15,
   "id": "fd97774c-8b5c-4e07-ae22-9dd7e9981d3e",
   "metadata": {},
   "outputs": [
    {
     "data": {
      "text/plain": [
       "dict_values(['one', 'nice', 'hat'])"
      ]
     },
     "execution_count": 15,
     "metadata": {},
     "output_type": "execute_result"
    }
   ],
   "source": [
    "h.values()  #return values"
   ]
  },
  {
   "cell_type": "code",
   "execution_count": 16,
   "id": "3e720275-5875-4e66-a053-4aa9912ca271",
   "metadata": {},
   "outputs": [
    {
     "data": {
      "text/plain": [
       "dict_items([(1, 'one'), ('k', 'nice'), (17.8, 'hat')])"
      ]
     },
     "execution_count": 16,
     "metadata": {},
     "output_type": "execute_result"
    }
   ],
   "source": [
    "h.items() # return key-value"
   ]
  },
  {
   "cell_type": "code",
   "execution_count": 17,
   "id": "1404bb4f-7985-4088-b12b-4935f88e2285",
   "metadata": {},
   "outputs": [
    {
     "data": {
      "text/plain": [
       "{1: 'ram',\n",
       " 2: 'sita',\n",
       " 'k': ('kite', 'might', 'right'),\n",
       " 'x': ('kasish', 'shantanu', 'karishma')}"
      ]
     },
     "execution_count": 17,
     "metadata": {},
     "output_type": "execute_result"
    }
   ],
   "source": [
    "h = {1:'ram',2:'sita','k':('kite','might','right'),'x':('kasish','shantanu','karishma')}\n",
    "h"
   ]
  },
  {
   "cell_type": "code",
   "execution_count": 22,
   "id": "d8955091-aac3-4cf9-a1c2-c38ccbbc56b7",
   "metadata": {},
   "outputs": [
    {
     "ename": "SyntaxError",
     "evalue": "':' expected after dictionary key (3765063955.py, line 1)",
     "output_type": "error",
     "traceback": [
      "\u001b[1;36m  Cell \u001b[1;32mIn[22], line 1\u001b[1;36m\u001b[0m\n\u001b[1;33m    h ={1:'one',2:'two','m':{'name':'jaya','age'=24},3:'three'}\u001b[0m\n\u001b[1;37m                                               ^\u001b[0m\n\u001b[1;31mSyntaxError\u001b[0m\u001b[1;31m:\u001b[0m ':' expected after dictionary key\n"
     ]
    }
   ],
   "source": [
    "h ={1:'one',2:'two','m':{'name':'jaya','age'=24},3:'three'}\n",
    "h"
   ]
  },
  {
   "cell_type": "code",
   "execution_count": 24,
   "id": "49bf3b92-9a94-4ae0-8280-c0f105b414e0",
   "metadata": {},
   "outputs": [
    {
     "data": {
      "text/plain": [
       "{'i': None, 'h': None, 'a': None, 'o': None}"
      ]
     },
     "execution_count": 24,
     "metadata": {},
     "output_type": "execute_result"
    }
   ],
   "source": [
    "keys={'a','h','i','o'}\n",
    "p = dict.fromkeys(keys)\n",
    "p"
   ]
  },
  {
   "cell_type": "code",
   "execution_count": 25,
   "id": "d3df46ee-ae49-4203-8e97-714ebeccbd7e",
   "metadata": {},
   "outputs": [
    {
     "data": {
      "text/plain": [
       "{'i': 37, 'h': 37, 'a': 37, 'o': 37}"
      ]
     },
     "execution_count": 25,
     "metadata": {},
     "output_type": "execute_result"
    }
   ],
   "source": [
    "keys = {'a','h','i','o'}\n",
    "value = 37\n",
    "p = dict.fromkeys(keys,value)\n",
    "p"
   ]
  },
  {
   "cell_type": "code",
   "execution_count": 33,
   "id": "ef3876d4-ee89-4028-a27b-5c071c35c467",
   "metadata": {},
   "outputs": [
    {
     "data": {
      "text/plain": [
       "{'i': {10, 20, 30, 40},\n",
       " 'h': {10, 20, 30, 40},\n",
       " 'a': {10, 20, 30, 40},\n",
       " 'o': {10, 20, 30, 40}}"
      ]
     },
     "execution_count": 33,
     "metadata": {},
     "output_type": "execute_result"
    }
   ],
   "source": [
    "keys = {'a','h','i','o'}\n",
    "values = { 10,20,30,40}\n",
    "p = dict.fromkeys(keys,values)\n",
    "p"
   ]
  },
  {
   "cell_type": "markdown",
   "id": "69ef6573-5e9d-4d0e-9dab-e64beff9b52a",
   "metadata": {},
   "source": [
    "# accessing dict"
   ]
  },
  {
   "cell_type": "code",
   "execution_count": 34,
   "id": "3ce85fb4-8944-4aaa-91d9-732e58ad9cbb",
   "metadata": {},
   "outputs": [
    {
     "data": {
      "text/plain": [
       "{'name': 'saloni', 'age': 21, 'DOB': 2004, 'job': 'developer'}"
      ]
     },
     "execution_count": 34,
     "metadata": {},
     "output_type": "execute_result"
    }
   ],
   "source": [
    "t ={'name':'saloni','age':21,'DOB':2004,'job':'developer'}\n",
    "t"
   ]
  },
  {
   "cell_type": "code",
   "execution_count": 36,
   "id": "5ca6fcdf-1719-4a5b-885a-d74c49ff9f51",
   "metadata": {},
   "outputs": [
    {
     "data": {
      "text/plain": [
       "21"
      ]
     },
     "execution_count": 36,
     "metadata": {},
     "output_type": "execute_result"
    }
   ],
   "source": [
    "t ['age']   #access using key"
   ]
  },
  {
   "cell_type": "code",
   "execution_count": 38,
   "id": "8b7b0e0a-3f08-4a60-aba3-1c33d7417dcf",
   "metadata": {},
   "outputs": [
    {
     "data": {
      "text/plain": [
       "'developer'"
      ]
     },
     "execution_count": 38,
     "metadata": {},
     "output_type": "execute_result"
    }
   ],
   "source": [
    "t.get('job')   #access using get"
   ]
  },
  {
   "cell_type": "markdown",
   "id": "366e76d6-9b16-4a18-a27f-73527bcd72aa",
   "metadata": {},
   "source": [
    "# add, remove & change item"
   ]
  },
  {
   "cell_type": "code",
   "execution_count": 34,
   "id": "39dd61e5-02ec-4a9a-840b-829853a08830",
   "metadata": {},
   "outputs": [
    {
     "data": {
      "text/plain": [
       "{'name': 'saloni', 'age': 21, 'DOB': 2004, 'job': 'developer'}"
      ]
     },
     "execution_count": 34,
     "metadata": {},
     "output_type": "execute_result"
    }
   ],
   "source": [
    "t ={'name':'saloni','age':21,'DOB':2004,'job':'developer'}\n",
    "t"
   ]
  },
  {
   "cell_type": "code",
   "execution_count": 40,
   "id": "ca6506fc-ceef-48c6-9a11-d3652d2b2440",
   "metadata": {},
   "outputs": [
    {
     "data": {
      "text/plain": [
       "{'name': 'saloni', 'age': 22, 'DOB': 2005, 'job': 'developer'}"
      ]
     },
     "execution_count": 40,
     "metadata": {},
     "output_type": "execute_result"
    }
   ],
   "source": [
    "t['DOB']=2005  #changing item\n",
    "t['age'] = 22\n",
    "t"
   ]
  },
  {
   "cell_type": "code",
   "execution_count": 41,
   "id": "e82f8a3c-6fb4-460a-a200-14ac3a828acf",
   "metadata": {},
   "outputs": [
    {
     "data": {
      "text/plain": [
       "{'name': 'saloni',\n",
       " 'age': 22,\n",
       " 'DOB': 2005,\n",
       " 'job': 'developer',\n",
       " 'address': 'yavatmal'}"
      ]
     },
     "execution_count": 41,
     "metadata": {},
     "output_type": "execute_result"
    }
   ],
   "source": [
    "t['address']='yavatmal'\n",
    "t"
   ]
  },
  {
   "cell_type": "code",
   "execution_count": 44,
   "id": "230207e8-e38d-45bf-986a-e0f6c32270c8",
   "metadata": {},
   "outputs": [
    {
     "data": {
      "text/plain": [
       "{'name': 'saloni', 'age': 22, 'DOB': 2005, 'address': 'yavatmal'}"
      ]
     },
     "execution_count": 44,
     "metadata": {},
     "output_type": "execute_result"
    }
   ],
   "source": [
    "t.pop('job')\n",
    "t"
   ]
  },
  {
   "cell_type": "code",
   "execution_count": 45,
   "id": "aac3901f-4e9b-4f43-b6e7-075433bfa224",
   "metadata": {},
   "outputs": [
    {
     "data": {
      "text/plain": [
       "{'name': 'saloni', 'age': 22, 'DOB': 2005}"
      ]
     },
     "execution_count": 45,
     "metadata": {},
     "output_type": "execute_result"
    }
   ],
   "source": [
    "t.popitem()\n",
    "t"
   ]
  },
  {
   "cell_type": "code",
   "execution_count": 46,
   "id": "1e2914f6-2b4c-4287-95ee-59083f0aefe9",
   "metadata": {},
   "outputs": [
    {
     "data": {
      "text/plain": [
       "{'name': 'saloni', 'age': 22, 'DOB': 2005}"
      ]
     },
     "execution_count": 46,
     "metadata": {},
     "output_type": "execute_result"
    }
   ],
   "source": [
    "t"
   ]
  },
  {
   "cell_type": "code",
   "execution_count": 47,
   "id": "a0c2b0cd-1af7-4402-8e30-58743df5dd5e",
   "metadata": {},
   "outputs": [
    {
     "data": {
      "text/plain": [
       "{'age': 22, 'DOB': 2005}"
      ]
     },
     "execution_count": 47,
     "metadata": {},
     "output_type": "execute_result"
    }
   ],
   "source": [
    "del[t['name']]\n",
    "t"
   ]
  },
  {
   "cell_type": "code",
   "execution_count": 48,
   "id": "52f4de1f-68a7-4ede-806f-fb11118a2ac5",
   "metadata": {},
   "outputs": [
    {
     "data": {
      "text/plain": [
       "{}"
      ]
     },
     "execution_count": 48,
     "metadata": {},
     "output_type": "execute_result"
    }
   ],
   "source": [
    "t.clear()\n",
    "t"
   ]
  },
  {
   "cell_type": "code",
   "execution_count": 51,
   "id": "2577702e-e653-4a12-bd98-7e349f7597d4",
   "metadata": {},
   "outputs": [
    {
     "ename": "NameError",
     "evalue": "name 't' is not defined",
     "output_type": "error",
     "traceback": [
      "\u001b[1;31m---------------------------------------------------------------------------\u001b[0m",
      "\u001b[1;31mNameError\u001b[0m                                 Traceback (most recent call last)",
      "Cell \u001b[1;32mIn[51], line 1\u001b[0m\n\u001b[1;32m----> 1\u001b[0m \u001b[38;5;28;01mdel\u001b[39;00m t\n\u001b[0;32m      2\u001b[0m t\n",
      "\u001b[1;31mNameError\u001b[0m: name 't' is not defined"
     ]
    }
   ],
   "source": [
    "del t\n",
    "t"
   ]
  },
  {
   "cell_type": "markdown",
   "id": "3566fa19-efe7-44df-a5e1-e1e15701c178",
   "metadata": {},
   "source": [
    "# copy dict"
   ]
  },
  {
   "cell_type": "code",
   "execution_count": 53,
   "id": "5f189fca-caff-485e-93b0-31be9744decc",
   "metadata": {},
   "outputs": [
    {
     "data": {
      "text/plain": [
       "{'name': 'saloni', 'age': 21, 'id': 584, 'address': 'yavatmal'}"
      ]
     },
     "execution_count": 53,
     "metadata": {},
     "output_type": "execute_result"
    }
   ],
   "source": [
    "r = {'name':'saloni','age':21,'id':584,'address':'yavatmal'}\n",
    "r"
   ]
  },
  {
   "cell_type": "code",
   "execution_count": 58,
   "id": "72114b1f-4c34-456f-b5f3-2a75917d9e79",
   "metadata": {},
   "outputs": [],
   "source": [
    "r1= r"
   ]
  },
  {
   "cell_type": "code",
   "execution_count": 61,
   "id": "42e220a5-673d-46d0-9e3f-13b991be5a42",
   "metadata": {},
   "outputs": [
    {
     "data": {
      "text/plain": [
       "True"
      ]
     },
     "execution_count": 61,
     "metadata": {},
     "output_type": "execute_result"
    }
   ],
   "source": [
    "id(r1) == id(r)"
   ]
  },
  {
   "cell_type": "code",
   "execution_count": 62,
   "id": "90f371d8-b7bc-492a-a553-68a65135df97",
   "metadata": {},
   "outputs": [
    {
     "data": {
      "text/plain": [
       "(2613333741056, 2613333741056)"
      ]
     },
     "execution_count": 62,
     "metadata": {},
     "output_type": "execute_result"
    }
   ],
   "source": [
    "id(r1) , id(r)"
   ]
  },
  {
   "cell_type": "code",
   "execution_count": 63,
   "id": "eae52dac-aeea-433b-bef7-28f76815f22a",
   "metadata": {},
   "outputs": [],
   "source": [
    "r2 = r.copy()"
   ]
  },
  {
   "cell_type": "code",
   "execution_count": 64,
   "id": "48bf5047-27d2-4504-be15-f39770baefd7",
   "metadata": {},
   "outputs": [
    {
     "data": {
      "text/plain": [
       "{'name': 'saloni', 'age': 21, 'id': 584, 'address': 'yavatmal'}"
      ]
     },
     "execution_count": 64,
     "metadata": {},
     "output_type": "execute_result"
    }
   ],
   "source": [
    "r2"
   ]
  },
  {
   "cell_type": "code",
   "execution_count": 65,
   "id": "e6817348-cde4-4450-9931-c413238d9c04",
   "metadata": {},
   "outputs": [
    {
     "data": {
      "text/plain": [
       "2613336830080"
      ]
     },
     "execution_count": 65,
     "metadata": {},
     "output_type": "execute_result"
    }
   ],
   "source": [
    "id(r2)"
   ]
  },
  {
   "cell_type": "code",
   "execution_count": 66,
   "id": "a16a55af-9f5f-4c48-8813-412a4431bd12",
   "metadata": {},
   "outputs": [
    {
     "data": {
      "text/plain": [
       "{'name': 'saloni',\n",
       " 'age': 21,\n",
       " 'id': 584,\n",
       " 'address': 'yavatmal',\n",
       " 'salary': 10000000}"
      ]
     },
     "execution_count": 66,
     "metadata": {},
     "output_type": "execute_result"
    }
   ],
   "source": [
    "r['salary']=10000000\n",
    "r"
   ]
  },
  {
   "cell_type": "code",
   "execution_count": 67,
   "id": "9f70ef32-7e97-4add-b3e7-cdb5da0f7aa1",
   "metadata": {},
   "outputs": [
    {
     "data": {
      "text/plain": [
       "{'name': 'saloni',\n",
       " 'age': 21,\n",
       " 'id': 584,\n",
       " 'address': 'yavatmal',\n",
       " 'salary': 10000000}"
      ]
     },
     "execution_count": 67,
     "metadata": {},
     "output_type": "execute_result"
    }
   ],
   "source": [
    "r1   #copy impacted"
   ]
  },
  {
   "cell_type": "code",
   "execution_count": 68,
   "id": "c212e6c5-2e9b-486d-aa71-83ade55ac8d2",
   "metadata": {},
   "outputs": [
    {
     "data": {
      "text/plain": [
       "{'name': 'saloni', 'age': 21, 'id': 584, 'address': 'yavatmal'}"
      ]
     },
     "execution_count": 68,
     "metadata": {},
     "output_type": "execute_result"
    }
   ],
   "source": [
    "r2  #copy won't impacted"
   ]
  },
  {
   "cell_type": "markdown",
   "id": "28936753-5c25-4ab6-83ff-ab0aeb65ff79",
   "metadata": {},
   "source": [
    "# loop through dict"
   ]
  },
  {
   "cell_type": "code",
   "execution_count": 69,
   "id": "668b128c-53fd-462a-9887-cff23ad8993d",
   "metadata": {},
   "outputs": [
    {
     "data": {
      "text/plain": [
       "{'name': 'saloni',\n",
       " 'age': 21,\n",
       " 'id': 584,\n",
       " 'address': 'yavatmal',\n",
       " 'salary': 10000000}"
      ]
     },
     "execution_count": 69,
     "metadata": {},
     "output_type": "execute_result"
    }
   ],
   "source": [
    "r1"
   ]
  },
  {
   "cell_type": "code",
   "execution_count": 70,
   "id": "179bf41f-1112-454d-914f-c87475ec0da3",
   "metadata": {},
   "outputs": [
    {
     "name": "stdout",
     "output_type": "stream",
     "text": [
      "name : saloni\n",
      "age : 21\n",
      "id : 584\n",
      "address : yavatmal\n",
      "salary : 10000000\n"
     ]
    }
   ],
   "source": [
    "for i in r1:\n",
    "    print(i,':',r1[i])"
   ]
  },
  {
   "cell_type": "code",
   "execution_count": 73,
   "id": "2a71a09e-9bac-45c3-881f-39fa59ff2818",
   "metadata": {},
   "outputs": [
    {
     "name": "stdout",
     "output_type": "stream",
     "text": [
      "saloni\n",
      "21\n",
      "584\n",
      "yavatmal\n",
      "10000000\n"
     ]
    }
   ],
   "source": [
    "for i in r1:\n",
    "    print(r1[i])"
   ]
  },
  {
   "cell_type": "markdown",
   "id": "f64719f3-fc71-4bf4-b3f2-bfc630db2840",
   "metadata": {},
   "source": [
    "# dict membership"
   ]
  },
  {
   "cell_type": "code",
   "execution_count": 74,
   "id": "713f6af6-2bb8-4694-ae91-ce1f30f3acd7",
   "metadata": {},
   "outputs": [
    {
     "data": {
      "text/plain": [
       "{'name': 'saloni',\n",
       " 'age': 21,\n",
       " 'id': 584,\n",
       " 'address': 'yavatmal',\n",
       " 'salary': 10000000}"
      ]
     },
     "execution_count": 74,
     "metadata": {},
     "output_type": "execute_result"
    }
   ],
   "source": [
    "r1"
   ]
  },
  {
   "cell_type": "code",
   "execution_count": 75,
   "id": "d2b413ea-e7d6-4df3-ab5f-87d3db5dbb9a",
   "metadata": {},
   "outputs": [
    {
     "data": {
      "text/plain": [
       "True"
      ]
     },
     "execution_count": 75,
     "metadata": {},
     "output_type": "execute_result"
    }
   ],
   "source": [
    "'name' in r1"
   ]
  },
  {
   "cell_type": "code",
   "execution_count": 76,
   "id": "02f218e3-5b48-48b5-a775-e2f1e32f790d",
   "metadata": {},
   "outputs": [
    {
     "data": {
      "text/plain": [
       "True"
      ]
     },
     "execution_count": 76,
     "metadata": {},
     "output_type": "execute_result"
    }
   ],
   "source": [
    "'salary' in r1"
   ]
  },
  {
   "cell_type": "code",
   "execution_count": 77,
   "id": "aa4c7992-807b-4bbd-8fb7-d293b84894d1",
   "metadata": {},
   "outputs": [
    {
     "data": {
      "text/plain": [
       "False"
      ]
     },
     "execution_count": 77,
     "metadata": {},
     "output_type": "execute_result"
    }
   ],
   "source": [
    "'DOB' in r1"
   ]
  },
  {
   "cell_type": "markdown",
   "id": "b244c130-40e9-4034-a021-17c942899138",
   "metadata": {},
   "source": [
    "# all /any"
   ]
  },
  {
   "cell_type": "code",
   "execution_count": 78,
   "id": "9b0aa795-5bda-47b0-af25-1f968f7d97d1",
   "metadata": {},
   "outputs": [
    {
     "data": {
      "text/plain": [
       "{'name': 'saloni',\n",
       " 'age': 21,\n",
       " 'id': 584,\n",
       " 'address': 'yavatmal',\n",
       " 'salary': 10000000}"
      ]
     },
     "execution_count": 78,
     "metadata": {},
     "output_type": "execute_result"
    }
   ],
   "source": [
    "r1"
   ]
  },
  {
   "cell_type": "code",
   "execution_count": 79,
   "id": "d6906c33-1d01-413d-a634-6a1beb26c0ca",
   "metadata": {},
   "outputs": [
    {
     "data": {
      "text/plain": [
       "True"
      ]
     },
     "execution_count": 79,
     "metadata": {},
     "output_type": "execute_result"
    }
   ],
   "source": [
    "all(r1)"
   ]
  },
  {
   "cell_type": "code",
   "execution_count": null,
   "id": "f9793e41-309e-4d5c-98e2-c7a48ce4921d",
   "metadata": {},
   "outputs": [],
   "source": []
  }
 ],
 "metadata": {
  "kernelspec": {
   "display_name": "Python [conda env:base] *",
   "language": "python",
   "name": "conda-base-py"
  },
  "language_info": {
   "codemirror_mode": {
    "name": "ipython",
    "version": 3
   },
   "file_extension": ".py",
   "mimetype": "text/x-python",
   "name": "python",
   "nbconvert_exporter": "python",
   "pygments_lexer": "ipython3",
   "version": "3.12.7"
  }
 },
 "nbformat": 4,
 "nbformat_minor": 5
}
