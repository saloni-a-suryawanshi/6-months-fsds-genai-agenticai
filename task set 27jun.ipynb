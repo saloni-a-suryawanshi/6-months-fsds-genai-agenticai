{
 "cells": [
  {
   "cell_type": "markdown",
   "id": "9ab375d3-ed24-4f1d-bf89-c9906e32126e",
   "metadata": {},
   "source": [
    "# set"
   ]
  },
  {
   "cell_type": "code",
   "execution_count": 1,
   "id": "8a7e6c09-8221-4a29-ae74-32ab42b62769",
   "metadata": {},
   "outputs": [
    {
     "data": {
      "text/plain": [
       "{}"
      ]
     },
     "execution_count": 1,
     "metadata": {},
     "output_type": "execute_result"
    }
   ],
   "source": [
    "s = {}\n",
    "s"
   ]
  },
  {
   "cell_type": "code",
   "execution_count": 2,
   "id": "e5586669-bae3-49d6-ba8f-7da8839d437f",
   "metadata": {},
   "outputs": [
    {
     "data": {
      "text/plain": [
       "dict"
      ]
     },
     "execution_count": 2,
     "metadata": {},
     "output_type": "execute_result"
    }
   ],
   "source": [
    "type(s)"
   ]
  },
  {
   "cell_type": "code",
   "execution_count": 4,
   "id": "883775d8-90ff-4c0f-b8a1-1471f4a878f1",
   "metadata": {},
   "outputs": [
    {
     "data": {
      "text/plain": [
       "set()"
      ]
     },
     "execution_count": 4,
     "metadata": {},
     "output_type": "execute_result"
    }
   ],
   "source": [
    "a = set(s)\n",
    "a"
   ]
  },
  {
   "cell_type": "code",
   "execution_count": 6,
   "id": "ed0c256e-de01-40fe-bfac-cd41676e06bd",
   "metadata": {},
   "outputs": [
    {
     "data": {
      "text/plain": [
       "{10, 20, 30, 40}"
      ]
     },
     "execution_count": 6,
     "metadata": {},
     "output_type": "execute_result"
    }
   ],
   "source": [
    "a.add(10)\n",
    "a.add(20)\n",
    "a.add(30)\n",
    "a.add(40)\n",
    "a"
   ]
  },
  {
   "cell_type": "code",
   "execution_count": 10,
   "id": "1bc36b13-6eed-4503-b173-8793af90fe4c",
   "metadata": {},
   "outputs": [
    {
     "data": {
      "text/plain": [
       "set()"
      ]
     },
     "execution_count": 10,
     "metadata": {},
     "output_type": "execute_result"
    }
   ],
   "source": [
    "b= set(s)\n",
    "b"
   ]
  },
  {
   "cell_type": "code",
   "execution_count": 11,
   "id": "fe7c9305-b656-4da0-bcc9-ee01f25f8cd9",
   "metadata": {},
   "outputs": [
    {
     "data": {
      "text/plain": [
       "{23, 56, 72, 89}"
      ]
     },
     "execution_count": 11,
     "metadata": {},
     "output_type": "execute_result"
    }
   ],
   "source": [
    "b.add(56)\n",
    "b.add(23)\n",
    "b.add(89)\n",
    "b.add(72)\n",
    "b"
   ]
  },
  {
   "cell_type": "code",
   "execution_count": 12,
   "id": "0ae1465b-b399-4bf9-9a9f-73466c7db0a8",
   "metadata": {},
   "outputs": [
    {
     "data": {
      "text/plain": [
       "{23, 56, 72, 89}"
      ]
     },
     "execution_count": 12,
     "metadata": {},
     "output_type": "execute_result"
    }
   ],
   "source": [
    "b.copy\n",
    "b"
   ]
  },
  {
   "cell_type": "code",
   "execution_count": 13,
   "id": "b4116e19-a784-4749-86a4-3fb3863f8752",
   "metadata": {},
   "outputs": [
    {
     "data": {
      "text/plain": [
       "{23, 72, 89}"
      ]
     },
     "execution_count": 13,
     "metadata": {},
     "output_type": "execute_result"
    }
   ],
   "source": [
    "b.pop()\n",
    "b"
   ]
  },
  {
   "cell_type": "code",
   "execution_count": 16,
   "id": "5f1f6c9b-b983-413f-af09-c27022ca22a9",
   "metadata": {},
   "outputs": [
    {
     "data": {
      "text/plain": [
       "{23, 72}"
      ]
     },
     "execution_count": 16,
     "metadata": {},
     "output_type": "execute_result"
    }
   ],
   "source": [
    "b.remove(89)\n",
    "b"
   ]
  },
  {
   "cell_type": "code",
   "execution_count": 17,
   "id": "0006ea19-6523-4791-a8c8-df217e66aa4f",
   "metadata": {},
   "outputs": [
    {
     "ename": "KeyError",
     "evalue": "2345",
     "output_type": "error",
     "traceback": [
      "\u001b[1;31m---------------------------------------------------------------------------\u001b[0m",
      "\u001b[1;31mKeyError\u001b[0m                                  Traceback (most recent call last)",
      "Cell \u001b[1;32mIn[17], line 1\u001b[0m\n\u001b[1;32m----> 1\u001b[0m b\u001b[38;5;241m.\u001b[39mremove(\u001b[38;5;241m2345\u001b[39m)\n\u001b[0;32m      2\u001b[0m b\n",
      "\u001b[1;31mKeyError\u001b[0m: 2345"
     ]
    }
   ],
   "source": [
    "b.remove(2345)\n",
    "b"
   ]
  },
  {
   "cell_type": "code",
   "execution_count": 18,
   "id": "801e9e3e-1411-4a82-9d39-522e4e50138c",
   "metadata": {},
   "outputs": [
    {
     "data": {
      "text/plain": [
       "{23, 72}"
      ]
     },
     "execution_count": 18,
     "metadata": {},
     "output_type": "execute_result"
    }
   ],
   "source": [
    "b.discard(89436)\n",
    "b"
   ]
  },
  {
   "cell_type": "code",
   "execution_count": 19,
   "id": "f6042906-ef94-4cc3-b1dc-e02cc634f5f3",
   "metadata": {},
   "outputs": [],
   "source": [
    "b.discard(72)"
   ]
  },
  {
   "cell_type": "code",
   "execution_count": 20,
   "id": "abe33eb5-cc55-47aa-85a0-6d02cb2e749a",
   "metadata": {},
   "outputs": [
    {
     "data": {
      "text/plain": [
       "{23}"
      ]
     },
     "execution_count": 20,
     "metadata": {},
     "output_type": "execute_result"
    }
   ],
   "source": [
    "b"
   ]
  },
  {
   "cell_type": "code",
   "execution_count": 36,
   "id": "56ad2aaa-285d-4219-9ddf-181b3bf3c7d5",
   "metadata": {},
   "outputs": [
    {
     "data": {
      "text/plain": [
       "set()"
      ]
     },
     "execution_count": 36,
     "metadata": {},
     "output_type": "execute_result"
    }
   ],
   "source": [
    "b.clear()\n",
    "b"
   ]
  },
  {
   "cell_type": "code",
   "execution_count": 37,
   "id": "e94c1635-30cc-451b-a974-512281834005",
   "metadata": {},
   "outputs": [],
   "source": [
    "o ={1,2,3,4,5,6,7,8,9}\n",
    "e ={8,9,4,78,24,67}\n",
    "v ={8,4,3,89,44,56}"
   ]
  },
  {
   "cell_type": "code",
   "execution_count": 38,
   "id": "a61dd88e-3e73-4590-9250-ba0ec2b01850",
   "metadata": {},
   "outputs": [
    {
     "data": {
      "text/plain": [
       "{1, 2, 3, 4, 5, 6, 7, 8, 9, 24, 67, 78}"
      ]
     },
     "execution_count": 38,
     "metadata": {},
     "output_type": "execute_result"
    }
   ],
   "source": [
    "o |e"
   ]
  },
  {
   "cell_type": "code",
   "execution_count": 39,
   "id": "04fc6030-ff2b-4994-8d72-70d07620d20b",
   "metadata": {},
   "outputs": [
    {
     "data": {
      "text/plain": [
       "{1, 2, 3, 4, 5, 6, 7, 8, 9, 24, 44, 56, 67, 78, 89}"
      ]
     },
     "execution_count": 39,
     "metadata": {},
     "output_type": "execute_result"
    }
   ],
   "source": [
    "o | e |v"
   ]
  },
  {
   "cell_type": "code",
   "execution_count": 40,
   "id": "38e13b92-b0be-448e-9908-049daea1d669",
   "metadata": {},
   "outputs": [
    {
     "data": {
      "text/plain": [
       "{1, 2, 3, 5, 6, 7}"
      ]
     },
     "execution_count": 40,
     "metadata": {},
     "output_type": "execute_result"
    }
   ],
   "source": [
    "o.difference(e)"
   ]
  },
  {
   "cell_type": "code",
   "execution_count": 41,
   "id": "d5c55c4b-b456-404f-b489-81baaa6b714c",
   "metadata": {},
   "outputs": [
    {
     "data": {
      "text/plain": [
       "{1, 2, 3, 4, 5, 6, 7, 8, 9}"
      ]
     },
     "execution_count": 41,
     "metadata": {},
     "output_type": "execute_result"
    }
   ],
   "source": [
    "o.intersection(v)\n",
    "o"
   ]
  },
  {
   "cell_type": "code",
   "execution_count": 42,
   "id": "7867d16e-83b1-45db-a706-0f72802fcf51",
   "metadata": {},
   "outputs": [
    {
     "data": {
      "text/plain": [
       "False"
      ]
     },
     "execution_count": 42,
     "metadata": {},
     "output_type": "execute_result"
    }
   ],
   "source": [
    "o.issuperset(e)"
   ]
  },
  {
   "cell_type": "code",
   "execution_count": 43,
   "id": "0ad524b5-2577-40ef-be52-b91ab9bf8939",
   "metadata": {},
   "outputs": [
    {
     "data": {
      "text/plain": [
       "False"
      ]
     },
     "execution_count": 43,
     "metadata": {},
     "output_type": "execute_result"
    }
   ],
   "source": [
    "o.issubset(e)"
   ]
  },
  {
   "cell_type": "code",
   "execution_count": 44,
   "id": "a18845bb-c575-417c-b5d7-305dcbd1bcf8",
   "metadata": {},
   "outputs": [
    {
     "data": {
      "text/plain": [
       "False"
      ]
     },
     "execution_count": 44,
     "metadata": {},
     "output_type": "execute_result"
    }
   ],
   "source": [
    "o.isdisjoint(v)"
   ]
  },
  {
   "cell_type": "code",
   "execution_count": 48,
   "id": "c5fe356e-3b14-4e63-93ea-34e0844ec4b4",
   "metadata": {},
   "outputs": [
    {
     "data": {
      "text/plain": [
       "{1, 2, 3, 5, 6, 7, 24, 67, 78}"
      ]
     },
     "execution_count": 48,
     "metadata": {},
     "output_type": "execute_result"
    }
   ],
   "source": [
    "o"
   ]
  },
  {
   "cell_type": "code",
   "execution_count": 50,
   "id": "39c127e3-e4b1-4973-8915-e4654d3fb882",
   "metadata": {},
   "outputs": [
    {
     "data": {
      "text/plain": [
       "{4, 8, 9, 24, 67, 78}"
      ]
     },
     "execution_count": 50,
     "metadata": {},
     "output_type": "execute_result"
    }
   ],
   "source": [
    "e"
   ]
  },
  {
   "cell_type": "code",
   "execution_count": 51,
   "id": "94b7c8c4-35bf-4ec2-a9df-fcf314cbcca3",
   "metadata": {},
   "outputs": [],
   "source": [
    "f ={1,2,3,4,5,6,7}\n",
    "c ={3,5,8,9,10}\n",
    "n ={3,5,9,99,34}"
   ]
  },
  {
   "cell_type": "code",
   "execution_count": 52,
   "id": "64053339-4082-4667-9509-833aa3ff6a96",
   "metadata": {},
   "outputs": [
    {
     "data": {
      "text/plain": [
       "{1, 2, 4, 6, 7, 8, 9, 10}"
      ]
     },
     "execution_count": 52,
     "metadata": {},
     "output_type": "execute_result"
    }
   ],
   "source": [
    "f.symmetric_difference(c)"
   ]
  },
  {
   "cell_type": "code",
   "execution_count": 53,
   "id": "e43b1f30-f9ed-4036-ab0c-10dfaea566b4",
   "metadata": {},
   "outputs": [],
   "source": [
    "f.symmetric_difference_update(c)"
   ]
  },
  {
   "cell_type": "code",
   "execution_count": 54,
   "id": "b4999908-1187-4a97-9390-52072fe00977",
   "metadata": {},
   "outputs": [
    {
     "data": {
      "text/plain": [
       "{1, 2, 4, 6, 7, 8, 9, 10}"
      ]
     },
     "execution_count": 54,
     "metadata": {},
     "output_type": "execute_result"
    }
   ],
   "source": [
    "f"
   ]
  },
  {
   "cell_type": "code",
   "execution_count": 55,
   "id": "5475a89c-484c-493a-bf73-09d5d8b9c988",
   "metadata": {},
   "outputs": [
    {
     "data": {
      "text/plain": [
       "{8, 9, 10}"
      ]
     },
     "execution_count": 55,
     "metadata": {},
     "output_type": "execute_result"
    }
   ],
   "source": [
    "f.intersection(c)"
   ]
  },
  {
   "cell_type": "code",
   "execution_count": 56,
   "id": "10b622bb-8469-415e-9a7a-fd7e67cbf293",
   "metadata": {},
   "outputs": [
    {
     "data": {
      "text/plain": [
       "{8, 9, 10}"
      ]
     },
     "execution_count": 56,
     "metadata": {},
     "output_type": "execute_result"
    }
   ],
   "source": [
    "f.intersection_update(c)\n",
    "f"
   ]
  },
  {
   "cell_type": "code",
   "execution_count": 57,
   "id": "a81cc07a-0ddb-49a0-8357-3dabe9d67406",
   "metadata": {},
   "outputs": [
    {
     "data": {
      "text/plain": [
       "{8, 10}"
      ]
     },
     "execution_count": 57,
     "metadata": {},
     "output_type": "execute_result"
    }
   ],
   "source": [
    "c.difference(n)"
   ]
  },
  {
   "cell_type": "code",
   "execution_count": 58,
   "id": "375963bb-00c7-460a-a662-d0bb1645175f",
   "metadata": {},
   "outputs": [
    {
     "data": {
      "text/plain": [
       "{8, 10}"
      ]
     },
     "execution_count": 58,
     "metadata": {},
     "output_type": "execute_result"
    }
   ],
   "source": [
    "c.difference_update(n)\n",
    "c"
   ]
  },
  {
   "cell_type": "code",
   "execution_count": 59,
   "id": "6127f975-0c89-4a8a-ac14-30c22b8589e0",
   "metadata": {},
   "outputs": [
    {
     "data": {
      "text/plain": [
       "set()"
      ]
     },
     "execution_count": 59,
     "metadata": {},
     "output_type": "execute_result"
    }
   ],
   "source": [
    "A =set()\n",
    "A"
   ]
  },
  {
   "cell_type": "code",
   "execution_count": 60,
   "id": "d6b0e199-28bb-40a7-8ba3-20b11dfbc5fa",
   "metadata": {},
   "outputs": [
    {
     "data": {
      "text/plain": [
       "{1, 2, 3, 4, 5, 6, 7, 8, 9, 10}"
      ]
     },
     "execution_count": 60,
     "metadata": {},
     "output_type": "execute_result"
    }
   ],
   "source": [
    "A ={1,2,3,4,5,6,7,8,9,10}\n",
    "A"
   ]
  },
  {
   "cell_type": "code",
   "execution_count": 61,
   "id": "e1b8b5f3-852a-4610-a564-7b47c9805a67",
   "metadata": {},
   "outputs": [
    {
     "data": {
      "text/plain": [
       "55"
      ]
     },
     "execution_count": 61,
     "metadata": {},
     "output_type": "execute_result"
    }
   ],
   "source": [
    "sum(A)"
   ]
  },
  {
   "cell_type": "code",
   "execution_count": 62,
   "id": "b2c966f3-9e5d-416c-9ac4-d26e4badb428",
   "metadata": {},
   "outputs": [
    {
     "data": {
      "text/plain": [
       "10"
      ]
     },
     "execution_count": 62,
     "metadata": {},
     "output_type": "execute_result"
    }
   ],
   "source": [
    "max(A)"
   ]
  },
  {
   "cell_type": "code",
   "execution_count": 63,
   "id": "5de164de-ac3a-4d27-9def-081e1adf875d",
   "metadata": {},
   "outputs": [
    {
     "data": {
      "text/plain": [
       "1"
      ]
     },
     "execution_count": 63,
     "metadata": {},
     "output_type": "execute_result"
    }
   ],
   "source": [
    "min(A)"
   ]
  },
  {
   "cell_type": "code",
   "execution_count": 65,
   "id": "38a33e46-a516-4ba8-8771-81abe0667363",
   "metadata": {},
   "outputs": [
    {
     "data": {
      "text/plain": [
       "[(0, 1),\n",
       " (1, 2),\n",
       " (2, 3),\n",
       " (3, 4),\n",
       " (4, 5),\n",
       " (5, 6),\n",
       " (6, 7),\n",
       " (7, 8),\n",
       " (8, 9),\n",
       " (9, 10)]"
      ]
     },
     "execution_count": 65,
     "metadata": {},
     "output_type": "execute_result"
    }
   ],
   "source": [
    "list(enumerate(A))"
   ]
  },
  {
   "cell_type": "code",
   "execution_count": 66,
   "id": "09062b45-c577-4c05-a804-872750762e3b",
   "metadata": {},
   "outputs": [],
   "source": [
    "S= sorted(A,reverse=False)"
   ]
  },
  {
   "cell_type": "code",
   "execution_count": 67,
   "id": "05392382-31ca-464b-a3de-e754f6b95bc0",
   "metadata": {},
   "outputs": [
    {
     "data": {
      "text/plain": [
       "[1, 2, 3, 4, 5, 6, 7, 8, 9, 10]"
      ]
     },
     "execution_count": 67,
     "metadata": {},
     "output_type": "execute_result"
    }
   ],
   "source": [
    "S"
   ]
  },
  {
   "cell_type": "code",
   "execution_count": 68,
   "id": "35cac8bf-170c-4d58-9425-31866a171ce8",
   "metadata": {},
   "outputs": [
    {
     "data": {
      "text/plain": [
       "[10, 9, 8, 7, 6, 5, 4, 3, 2, 1]"
      ]
     },
     "execution_count": 68,
     "metadata": {},
     "output_type": "execute_result"
    }
   ],
   "source": [
    "S = sorted(A,reverse= True)\n",
    "S"
   ]
  },
  {
   "cell_type": "code",
   "execution_count": 69,
   "id": "7e93fc8a-01cb-4b81-b1e8-dd33fd8581fa",
   "metadata": {},
   "outputs": [
    {
     "data": {
      "text/plain": [
       "[1, 2, 3, 4, 5, 6, 7, 8, 9, 10]"
      ]
     },
     "execution_count": 69,
     "metadata": {},
     "output_type": "execute_result"
    }
   ],
   "source": [
    "sorted(S)"
   ]
  },
  {
   "cell_type": "code",
   "execution_count": null,
   "id": "abf55724-9497-4086-bd70-ba961ae62972",
   "metadata": {},
   "outputs": [],
   "source": []
  }
 ],
 "metadata": {
  "kernelspec": {
   "display_name": "Python [conda env:base] *",
   "language": "python",
   "name": "conda-base-py"
  },
  "language_info": {
   "codemirror_mode": {
    "name": "ipython",
    "version": 3
   },
   "file_extension": ".py",
   "mimetype": "text/x-python",
   "name": "python",
   "nbconvert_exporter": "python",
   "pygments_lexer": "ipython3",
   "version": "3.12.7"
  }
 },
 "nbformat": 4,
 "nbformat_minor": 5
}
