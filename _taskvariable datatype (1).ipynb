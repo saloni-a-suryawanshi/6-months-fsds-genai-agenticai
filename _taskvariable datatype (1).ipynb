{
 "cells": [
  {
   "cell_type": "markdown",
   "id": "33237a5c-dcbe-4741-a45f-69fa4fe3f0a9",
   "metadata": {},
   "source": [
    "# variable"
   ]
  },
  {
   "cell_type": "code",
   "execution_count": 1,
   "id": "f7576b29-ca0c-4755-94e4-7ed896ed1638",
   "metadata": {},
   "outputs": [
    {
     "name": "stdout",
     "output_type": "stream",
     "text": [
      "34\n"
     ]
    }
   ],
   "source": [
    " a = 34    #variable = value\n",
    "print(a)"
   ]
  },
  {
   "cell_type": "code",
   "execution_count": 2,
   "id": "71a54508-3c34-4c54-8218-dad616e819ae",
   "metadata": {},
   "outputs": [
    {
     "name": "stdout",
     "output_type": "stream",
     "text": [
      "saloni\n"
     ]
    }
   ],
   "source": [
    "s = 'saloni'\n",
    "print(s)"
   ]
  },
  {
   "cell_type": "code",
   "execution_count": 4,
   "id": "c0acd7c1-c44d-4000-8ebe-c2120101cabb",
   "metadata": {},
   "outputs": [
    {
     "name": "stdout",
     "output_type": "stream",
     "text": [
      "30\n"
     ]
    }
   ],
   "source": [
    "w = 10\n",
    "q = 20\n",
    "add = w + q\n",
    "print(add)"
   ]
  },
  {
   "cell_type": "code",
   "execution_count": 5,
   "id": "90ea4ad4-39ee-4738-8973-4c582c930db6",
   "metadata": {},
   "outputs": [
    {
     "name": "stdout",
     "output_type": "stream",
     "text": [
      "37\n"
     ]
    }
   ],
   "source": [
    "d = 37   #initial value\n",
    "print(d)\n"
   ]
  },
  {
   "cell_type": "code",
   "execution_count": 6,
   "id": "a383e0a8-cda5-4207-8d19-f4679a7c362a",
   "metadata": {},
   "outputs": [
    {
     "name": "stdout",
     "output_type": "stream",
     "text": [
      "46\n"
     ]
    }
   ],
   "source": [
    "d = 46   #changing value\n",
    "print(d)"
   ]
  },
  {
   "cell_type": "code",
   "execution_count": 9,
   "id": "4aab54a9-ac7f-4d47-8888-9b9e10257afe",
   "metadata": {},
   "outputs": [
    {
     "name": "stdout",
     "output_type": "stream",
     "text": [
      "saloni suryawanshi\n"
     ]
    }
   ],
   "source": [
    "first_name ='saloni '    #concatination variable\n",
    "last_name ='suryawanshi'\n",
    "full_name = first_name + \"\" +last_name\n",
    "print (full_name)"
   ]
  },
  {
   "cell_type": "code",
   "execution_count": 10,
   "id": "5ccf1778-8888-4b3d-9e41-cb8e33c4c027",
   "metadata": {},
   "outputs": [
    {
     "name": "stdout",
     "output_type": "stream",
     "text": [
      "600\n"
     ]
    }
   ],
   "source": [
    "l = 20  #calculate the values \n",
    "b =30\n",
    "a = l * b\n",
    "print(a)"
   ]
  },
  {
   "cell_type": "markdown",
   "id": "81250efb-d360-4fb9-8006-634b7a4f1b0c",
   "metadata": {},
   "source": [
    "# datatype"
   ]
  },
  {
   "cell_type": "code",
   "execution_count": 4,
   "id": "d5cc15aa-8920-44b8-b23b-52c9f4e4d435",
   "metadata": {},
   "outputs": [
    {
     "name": "stdout",
     "output_type": "stream",
     "text": [
      "(12, 24, 36, 48, 60)\n"
     ]
    }
   ],
   "source": [
    " i =(12,24,36,48,60)    # integer datatype\n",
    "print(i)"
   ]
  },
  {
   "cell_type": "code",
   "execution_count": 2,
   "id": "a5524657-290c-4b0d-9350-bef1ff63f48c",
   "metadata": {},
   "outputs": [
    {
     "name": "stdout",
     "output_type": "stream",
     "text": [
      "(78.54, 90.56, 45.34, 23.67)\n"
     ]
    }
   ],
   "source": [
    "f = (78.54,90.56,45.34,23.67)    #float datatype\n",
    "print(f)"
   ]
  },
  {
   "cell_type": "code",
   "execution_count": 3,
   "id": "e40c8750-0dc4-4f1b-a76d-696d18f9611d",
   "metadata": {},
   "outputs": [
    {
     "name": "stdout",
     "output_type": "stream",
     "text": [
      "('True', 'False')\n"
     ]
    }
   ],
   "source": [
    "b = ('True','False')     #float datatype\n",
    "print(b)"
   ]
  },
  {
   "cell_type": "code",
   "execution_count": 5,
   "id": "8e618b1b-6c68-4b28-b5db-4da53ac4973f",
   "metadata": {},
   "outputs": [
    {
     "name": "stdout",
     "output_type": "stream",
     "text": [
      "('ram', 'sita', 'laxman', 'bharat')\n"
     ]
    }
   ],
   "source": [
    "s = ('ram','sita','laxman','bharat')     #string datatype\n",
    "print(s)"
   ]
  },
  {
   "cell_type": "code",
   "execution_count": null,
   "id": "823a5f4d-c511-4864-8f25-736c22b7133d",
   "metadata": {},
   "outputs": [],
   "source": []
  }
 ],
 "metadata": {
  "kernelspec": {
   "display_name": "Python [conda env:base] *",
   "language": "python",
   "name": "conda-base-py"
  },
  "language_info": {
   "codemirror_mode": {
    "name": "ipython",
    "version": 3
   },
   "file_extension": ".py",
   "mimetype": "text/x-python",
   "name": "python",
   "nbconvert_exporter": "python",
   "pygments_lexer": "ipython3",
   "version": "3.12.7"
  }
 },
 "nbformat": 4,
 "nbformat_minor": 5
}
