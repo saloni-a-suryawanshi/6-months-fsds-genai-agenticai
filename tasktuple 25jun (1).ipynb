{
 "cells": [
  {
   "cell_type": "markdown",
   "id": "c56ad7fc-6589-46e6-a121-8912e0970135",
   "metadata": {},
   "source": [
    "# tuple creation"
   ]
  },
  {
   "cell_type": "code",
   "execution_count": 1,
   "id": "5aa73ba8-4127-4173-8563-4918b84c013d",
   "metadata": {},
   "outputs": [],
   "source": [
    "tup1 = ()    #empty tuple"
   ]
  },
  {
   "cell_type": "code",
   "execution_count": 2,
   "id": "7380117a-1a86-47b2-8c9a-96366d2e062b",
   "metadata": {},
   "outputs": [
    {
     "data": {
      "text/plain": [
       "(10, 20, 30)"
      ]
     },
     "execution_count": 2,
     "metadata": {},
     "output_type": "execute_result"
    }
   ],
   "source": [
    "tup2 = (10,20,30)    #integer tuple\n",
    "tup2"
   ]
  },
  {
   "cell_type": "code",
   "execution_count": 3,
   "id": "418bb38b-6275-4cbc-a3d0-71736860cc68",
   "metadata": {},
   "outputs": [
    {
     "data": {
      "text/plain": [
       "(12.34, 78.35, 86.84, 90.34)"
      ]
     },
     "execution_count": 3,
     "metadata": {},
     "output_type": "execute_result"
    }
   ],
   "source": [
    "tup3 = (12.34,78.35,86.84,90.34)     #float tuple\n",
    "tup3"
   ]
  },
  {
   "cell_type": "code",
   "execution_count": 4,
   "id": "d98cb551-c9a7-4645-ba47-ab298b67d5a1",
   "metadata": {},
   "outputs": [
    {
     "data": {
      "text/plain": [
       "('ram', 'sita', 'laxman', 'surphanakha')"
      ]
     },
     "execution_count": 4,
     "metadata": {},
     "output_type": "execute_result"
    }
   ],
   "source": [
    "tup4 = ('ram','sita','laxman','surphanakha')     #string tuple\n",
    "tup4"
   ]
  },
  {
   "cell_type": "code",
   "execution_count": 5,
   "id": "338479b6-7354-4415-9719-202322d64d86",
   "metadata": {},
   "outputs": [
    {
     "data": {
      "text/plain": [
       "(34, 56, 56.46, 82.56, 'kanta', 'shanta')"
      ]
     },
     "execution_count": 5,
     "metadata": {},
     "output_type": "execute_result"
    }
   ],
   "source": [
    "tup5 = (34,56,56.46,82.56,'kanta','shanta')     #mix datatype tuple\n",
    "tup5"
   ]
  },
  {
   "cell_type": "code",
   "execution_count": 6,
   "id": "4b95aac9-a656-4636-a755-68c12b2225f4",
   "metadata": {},
   "outputs": [
    {
     "data": {
      "text/plain": [
       "(45, 37, 9282, [638, 34, 82, 90], [56, 829, 94])"
      ]
     },
     "execution_count": 6,
     "metadata": {},
     "output_type": "execute_result"
    }
   ],
   "source": [
    "tup6 = (45,37,9282,[638,34,82,90],[56,829,94])   #nested integer\n",
    "tup6"
   ]
  },
  {
   "cell_type": "code",
   "execution_count": 7,
   "id": "c2ce1075-60c1-4fe9-bf58-fad1c565b182",
   "metadata": {},
   "outputs": [
    {
     "data": {
      "text/plain": [
       "(32.67, 98.24, [84.48, 92.46], [43.67, 89.89])"
      ]
     },
     "execution_count": 7,
     "metadata": {},
     "output_type": "execute_result"
    }
   ],
   "source": [
    "tup7 = (32.67,98.24,[84.48,92.46],[43.67,89.89])    #nested float\n",
    "tup7"
   ]
  },
  {
   "cell_type": "code",
   "execution_count": 8,
   "id": "9658e014-faf3-474f-964f-64948a51946e",
   "metadata": {},
   "outputs": [
    {
     "data": {
      "text/plain": [
       "('radha', ['sakshi', 'minakshi'], ['maya', 'jaya'])"
      ]
     },
     "execution_count": 8,
     "metadata": {},
     "output_type": "execute_result"
    }
   ],
   "source": [
    "tup8 = ('radha',['sakshi','minakshi'],['maya','jaya'])   #nested string\n",
    "tup8"
   ]
  },
  {
   "cell_type": "code",
   "execution_count": 10,
   "id": "cadbcd17-8c06-40b2-90fd-153d6f239517",
   "metadata": {},
   "outputs": [
    {
     "data": {
      "text/plain": [
       "(45, 98.87, 72, 'ranchi', [23, 65.78, 'sanchi'], [47, 93.78, 'kanchi'])"
      ]
     },
     "execution_count": 10,
     "metadata": {},
     "output_type": "execute_result"
    }
   ],
   "source": [
    "tup9 = (45,98.87,72,'ranchi',[23,65.78,'sanchi'],[47,93.78,'kanchi'])      #nested mixed dataype tuple     \n",
    "tup9"
   ]
  },
  {
   "cell_type": "code",
   "execution_count": 11,
   "id": "4b9c837a-74c7-4938-a1ca-774ee0b381d1",
   "metadata": {},
   "outputs": [
    {
     "data": {
      "text/plain": [
       "6"
      ]
     },
     "execution_count": 11,
     "metadata": {},
     "output_type": "execute_result"
    }
   ],
   "source": [
    "len(tup9)        #length of tuple "
   ]
  },
  {
   "cell_type": "code",
   "execution_count": 12,
   "id": "1aed4614-c40a-43bc-aceb-3fe85ed879f4",
   "metadata": {},
   "outputs": [
    {
     "data": {
      "text/plain": [
       "3"
      ]
     },
     "execution_count": 12,
     "metadata": {},
     "output_type": "execute_result"
    }
   ],
   "source": [
    "len(tup8)"
   ]
  },
  {
   "cell_type": "code",
   "execution_count": null,
   "id": "f89f3795-6978-4ee2-9f00-cef6f2796ad1",
   "metadata": {},
   "outputs": [],
   "source": []
  },
  {
   "cell_type": "markdown",
   "id": "bf982d55-7988-4138-b759-744d7697a876",
   "metadata": {},
   "source": [
    "# tuple indexing"
   ]
  },
  {
   "cell_type": "code",
   "execution_count": 14,
   "id": "3929c3ca-7102-4c27-af04-dfc72092dd37",
   "metadata": {},
   "outputs": [
    {
     "data": {
      "text/plain": [
       "(12.34, 78.35, 86.84, 90.34)"
      ]
     },
     "execution_count": 14,
     "metadata": {},
     "output_type": "execute_result"
    }
   ],
   "source": [
    "tup3"
   ]
  },
  {
   "cell_type": "code",
   "execution_count": 16,
   "id": "550a71cf-a27e-4008-94ba-f4e2c852d2e6",
   "metadata": {},
   "outputs": [
    {
     "data": {
      "text/plain": [
       "12.34"
      ]
     },
     "execution_count": 16,
     "metadata": {},
     "output_type": "execute_result"
    }
   ],
   "source": [
    "tup3 [0]    #retreive first element"
   ]
  },
  {
   "cell_type": "code",
   "execution_count": 17,
   "id": "ec4411eb-aa1d-4a76-aceb-5b65ca80ad83",
   "metadata": {},
   "outputs": [
    {
     "data": {
      "text/plain": [
       "86.84"
      ]
     },
     "execution_count": 17,
     "metadata": {},
     "output_type": "execute_result"
    }
   ],
   "source": [
    "tup3 [2]     #retreive second index element "
   ]
  },
  {
   "cell_type": "code",
   "execution_count": 18,
   "id": "781d4323-4ff8-4d83-8f68-b937c70c36b3",
   "metadata": {},
   "outputs": [
    {
     "data": {
      "text/plain": [
       "90.34"
      ]
     },
     "execution_count": 18,
     "metadata": {},
     "output_type": "execute_result"
    }
   ],
   "source": [
    "tup3 [-1]    #reteive last element"
   ]
  },
  {
   "cell_type": "code",
   "execution_count": 24,
   "id": "4ef5a39f-919f-40c5-bd98-a9660a41274b",
   "metadata": {},
   "outputs": [
    {
     "data": {
      "text/plain": [
       "('radha', ['sakshi', 'minakshi'], ['maya', 'jaya'])"
      ]
     },
     "execution_count": 24,
     "metadata": {},
     "output_type": "execute_result"
    }
   ],
   "source": [
    "tup8"
   ]
  },
  {
   "cell_type": "code",
   "execution_count": 25,
   "id": "17e3b194-037e-47e4-a67c-2378cb03516a",
   "metadata": {},
   "outputs": [
    {
     "data": {
      "text/plain": [
       "'a'"
      ]
     },
     "execution_count": 25,
     "metadata": {},
     "output_type": "execute_result"
    }
   ],
   "source": [
    "tup8 [0][1]     #nested indexing     access the second element of the tuple "
   ]
  },
  {
   "cell_type": "code",
   "execution_count": 26,
   "id": "c0dc7da2-acee-4ec2-97ef-b36c5c1a02cf",
   "metadata": {},
   "outputs": [
    {
     "data": {
      "text/plain": [
       "(45, 37, 9282, [638, 34, 82, 90], [56, 829, 94])"
      ]
     },
     "execution_count": 26,
     "metadata": {},
     "output_type": "execute_result"
    }
   ],
   "source": [
    "tup6"
   ]
  },
  {
   "cell_type": "code",
   "execution_count": 27,
   "id": "e9c9e200-4a09-4db4-b345-4fb700cb9eca",
   "metadata": {},
   "outputs": [
    {
     "data": {
      "text/plain": [
       "34"
      ]
     },
     "execution_count": 27,
     "metadata": {},
     "output_type": "execute_result"
    }
   ],
   "source": [
    "tup6 [3][1]       #access first third index ---then access the first index from third index"
   ]
  },
  {
   "cell_type": "code",
   "execution_count": 28,
   "id": "e6af0cb6-3a18-46a9-8cef-20cc5dca3752",
   "metadata": {},
   "outputs": [
    {
     "data": {
      "text/plain": [
       "[56, 829, 94]"
      ]
     },
     "execution_count": 28,
     "metadata": {},
     "output_type": "execute_result"
    }
   ],
   "source": [
    "tup6 [-1]     #access the last item"
   ]
  },
  {
   "cell_type": "code",
   "execution_count": null,
   "id": "b563ec48-00b0-4b1f-bfc1-0a1b968e6a67",
   "metadata": {},
   "outputs": [],
   "source": []
  },
  {
   "cell_type": "markdown",
   "id": "4dd1e6b2-0db4-4f18-ade2-1a948057bc3b",
   "metadata": {},
   "source": [
    "# tuple slicing"
   ]
  },
  {
   "cell_type": "code",
   "execution_count": null,
   "id": "53783cd3-de40-4abb-b596-84c044ab1f40",
   "metadata": {},
   "outputs": [],
   "source": [
    "# [left:right]  left--- start from     right---- end in n-1 index"
   ]
  },
  {
   "cell_type": "code",
   "execution_count": 29,
   "id": "d3764833-1a7a-47fd-9231-81802c706b5a",
   "metadata": {},
   "outputs": [
    {
     "data": {
      "text/plain": [
       "('krishn',\n",
       " 'arjun',\n",
       " 'karn',\n",
       " 'bheem',\n",
       " 'draupadi',\n",
       " 'yudhishdter',\n",
       " 'nakul',\n",
       " 'sahdev',\n",
       " 'shakuni',\n",
       " 'duryodhan',\n",
       " 'dushashan')"
      ]
     },
     "execution_count": 29,
     "metadata": {},
     "output_type": "execute_result"
    }
   ],
   "source": [
    "mytuple = ('krishn','arjun','karn','bheem','draupadi','yudhishdter','nakul','sahdev','shakuni','duryodhan','dushashan')\n",
    "mytuple"
   ]
  },
  {
   "cell_type": "code",
   "execution_count": 30,
   "id": "03743319-b5ab-402f-8342-618b0d6817d8",
   "metadata": {},
   "outputs": [
    {
     "data": {
      "text/plain": [
       "('krishn',\n",
       " 'arjun',\n",
       " 'karn',\n",
       " 'bheem',\n",
       " 'draupadi',\n",
       " 'yudhishdter',\n",
       " 'nakul',\n",
       " 'sahdev',\n",
       " 'shakuni',\n",
       " 'duryodhan',\n",
       " 'dushashan')"
      ]
     },
     "execution_count": 30,
     "metadata": {},
     "output_type": "execute_result"
    }
   ],
   "source": [
    "mytuple [0:]   #return all item "
   ]
  },
  {
   "cell_type": "code",
   "execution_count": 32,
   "id": "4782e3f1-6494-4a3b-8206-352f26858230",
   "metadata": {},
   "outputs": [
    {
     "data": {
      "text/plain": [
       "('krishn', 'arjun', 'karn', 'bheem')"
      ]
     },
     "execution_count": 32,
     "metadata": {},
     "output_type": "execute_result"
    }
   ],
   "source": [
    "mytuple [0:4]  #'''return item from 0th index to 3rd index   4th index is not printed   (n-1)=(4-1)=3"
   ]
  },
  {
   "cell_type": "code",
   "execution_count": 33,
   "id": "029b8ccd-465f-471a-b947-a455b9e05451",
   "metadata": {},
   "outputs": [
    {
     "data": {
      "text/plain": [
       "('karn', 'bheem', 'draupadi')"
      ]
     },
     "execution_count": 33,
     "metadata": {},
     "output_type": "execute_result"
    }
   ],
   "source": [
    "mytuple [2:5]    #return item from 2nd index to n-1 4th index"
   ]
  },
  {
   "cell_type": "code",
   "execution_count": 34,
   "id": "635ebb96-0cd1-45a5-a4ec-723842d13735",
   "metadata": {},
   "outputs": [
    {
     "data": {
      "text/plain": [
       "('krishn', 'arjun', 'karn', 'bheem', 'draupadi', 'yudhishdter', 'nakul')"
      ]
     },
     "execution_count": 34,
     "metadata": {},
     "output_type": "execute_result"
    }
   ],
   "source": [
    "mytuple [ :7] #return 1st seven item     "
   ]
  },
  {
   "cell_type": "code",
   "execution_count": 35,
   "id": "0b0893b8-5100-4087-bb56-6f8e0c5e217d",
   "metadata": {},
   "outputs": [
    {
     "data": {
      "text/plain": [
       "('nakul', 'sahdev', 'shakuni', 'duryodhan', 'dushashan')"
      ]
     },
     "execution_count": 35,
     "metadata": {},
     "output_type": "execute_result"
    }
   ],
   "source": [
    "mytuple [-5:]  #return last 5 item"
   ]
  },
  {
   "cell_type": "code",
   "execution_count": 36,
   "id": "5296886a-4824-4e0b-965b-5b3cd4a53b7e",
   "metadata": {},
   "outputs": [
    {
     "data": {
      "text/plain": [
       "'dushashan'"
      ]
     },
     "execution_count": 36,
     "metadata": {},
     "output_type": "execute_result"
    }
   ],
   "source": [
    "mytuple [-1]  #return last items"
   ]
  },
  {
   "cell_type": "code",
   "execution_count": 37,
   "id": "bca73649-c21b-4f47-a2f0-10da9759f8d7",
   "metadata": {},
   "outputs": [
    {
     "data": {
      "text/plain": [
       "('krishn',\n",
       " 'arjun',\n",
       " 'karn',\n",
       " 'bheem',\n",
       " 'draupadi',\n",
       " 'yudhishdter',\n",
       " 'nakul',\n",
       " 'sahdev',\n",
       " 'shakuni',\n",
       " 'duryodhan',\n",
       " 'dushashan')"
      ]
     },
     "execution_count": 37,
     "metadata": {},
     "output_type": "execute_result"
    }
   ],
   "source": [
    "mytuple [:] #return whole items"
   ]
  },
  {
   "cell_type": "code",
   "execution_count": null,
   "id": "1c345756-5f61-40ba-8ca5-84de086998ef",
   "metadata": {},
   "outputs": [],
   "source": []
  },
  {
   "cell_type": "markdown",
   "id": "47f55cbd-24e0-4ee4-b633-b607ac3964c2",
   "metadata": {},
   "source": [
    "# remove & change items"
   ]
  },
  {
   "cell_type": "code",
   "execution_count": 38,
   "id": "6cf4af15-3cfd-4449-84ff-e2287dff5350",
   "metadata": {},
   "outputs": [
    {
     "data": {
      "text/plain": [
       "('krishn',\n",
       " 'arjun',\n",
       " 'karn',\n",
       " 'bheem',\n",
       " 'draupadi',\n",
       " 'yudhishdter',\n",
       " 'nakul',\n",
       " 'sahdev',\n",
       " 'shakuni',\n",
       " 'duryodhan',\n",
       " 'dushashan')"
      ]
     },
     "execution_count": 38,
     "metadata": {},
     "output_type": "execute_result"
    }
   ],
   "source": [
    "mytuple"
   ]
  },
  {
   "cell_type": "code",
   "execution_count": 39,
   "id": "4d46123f-a668-428f-b864-c026977f1a8a",
   "metadata": {},
   "outputs": [
    {
     "ename": "TypeError",
     "evalue": "'tuple' object doesn't support item deletion",
     "output_type": "error",
     "traceback": [
      "\u001b[1;31m---------------------------------------------------------------------------\u001b[0m",
      "\u001b[1;31mTypeError\u001b[0m                                 Traceback (most recent call last)",
      "Cell \u001b[1;32mIn[39], line 1\u001b[0m\n\u001b[1;32m----> 1\u001b[0m \u001b[38;5;28;01mdel\u001b[39;00m mytuple[\u001b[38;5;241m6\u001b[39m]\n",
      "\u001b[1;31mTypeError\u001b[0m: 'tuple' object doesn't support item deletion"
     ]
    }
   ],
   "source": [
    "del mytuple[6] #we cant delete becuz it is immutable"
   ]
  },
  {
   "cell_type": "code",
   "execution_count": 40,
   "id": "f5000e37-4cd1-44dd-9e8d-2541d9da2110",
   "metadata": {},
   "outputs": [
    {
     "ename": "TypeError",
     "evalue": "'tuple' object does not support item assignment",
     "output_type": "error",
     "traceback": [
      "\u001b[1;31m---------------------------------------------------------------------------\u001b[0m",
      "\u001b[1;31mTypeError\u001b[0m                                 Traceback (most recent call last)",
      "Cell \u001b[1;32mIn[40], line 1\u001b[0m\n\u001b[1;32m----> 1\u001b[0m mytuple [\u001b[38;5;241m6\u001b[39m]\u001b[38;5;241m=\u001b[39m\u001b[38;5;124m'\u001b[39m\u001b[38;5;124mradha\u001b[39m\u001b[38;5;124m'\u001b[39m\n",
      "\u001b[1;31mTypeError\u001b[0m: 'tuple' object does not support item assignment"
     ]
    }
   ],
   "source": [
    "mytuple [6]='radha'   # cant change item "
   ]
  },
  {
   "cell_type": "code",
   "execution_count": 42,
   "id": "91f5651e-6dec-4375-8d79-53e4e3956414",
   "metadata": {},
   "outputs": [],
   "source": [
    "del mytuple   #whole tuple is deleted"
   ]
  },
  {
   "cell_type": "code",
   "execution_count": null,
   "id": "25ea171a-a94f-4a9d-b20f-c5711ea3287d",
   "metadata": {},
   "outputs": [],
   "source": []
  },
  {
   "cell_type": "markdown",
   "id": "554a07d9-82de-4be8-a67f-01a9d25641df",
   "metadata": {},
   "source": [
    "# loop through tuple"
   ]
  },
  {
   "cell_type": "code",
   "execution_count": 46,
   "id": "e1a331af-613c-4839-aea8-3667d0eff759",
   "metadata": {},
   "outputs": [
    {
     "data": {
      "text/plain": [
       "('one', 'two', 'three', 'four', 'five', 'six', 'seven')"
      ]
     },
     "execution_count": 46,
     "metadata": {},
     "output_type": "execute_result"
    }
   ],
   "source": [
    "mytuple =('one','two','three','four','five','six','seven')\n",
    "mytuple"
   ]
  },
  {
   "cell_type": "code",
   "execution_count": 47,
   "id": "1053c9b1-b614-4af0-8805-eb948b71ee4f",
   "metadata": {},
   "outputs": [
    {
     "name": "stdout",
     "output_type": "stream",
     "text": [
      "one\n",
      "two\n",
      "three\n",
      "four\n",
      "five\n",
      "six\n",
      "seven\n"
     ]
    }
   ],
   "source": [
    "for i in mytuple:\n",
    "    print(i)"
   ]
  },
  {
   "cell_type": "code",
   "execution_count": 48,
   "id": "3d6cdcef-6d72-4fec-9a95-36ae1c2bc6a2",
   "metadata": {},
   "outputs": [
    {
     "name": "stdout",
     "output_type": "stream",
     "text": [
      "(0, 'one')\n",
      "(1, 'two')\n",
      "(2, 'three')\n",
      "(3, 'four')\n",
      "(4, 'five')\n",
      "(5, 'six')\n",
      "(6, 'seven')\n"
     ]
    }
   ],
   "source": [
    "for i in enumerate(mytuple):    #show the index number and value in it\n",
    "    print (i)"
   ]
  },
  {
   "cell_type": "code",
   "execution_count": null,
   "id": "a2639380-02bb-44b7-acf9-5c7916e8b676",
   "metadata": {},
   "outputs": [],
   "source": []
  },
  {
   "cell_type": "markdown",
   "id": "5e1826c1-2c31-4ae8-80dd-ee43668dcdbf",
   "metadata": {},
   "source": [
    "# tuple membership"
   ]
  },
  {
   "cell_type": "code",
   "execution_count": 50,
   "id": "ea1665b3-e357-46aa-a3c9-3af3f9d402ca",
   "metadata": {},
   "outputs": [
    {
     "data": {
      "text/plain": [
       "('one', 'two', 'three', 'four', 'five', 'six', 'seven')"
      ]
     },
     "execution_count": 50,
     "metadata": {},
     "output_type": "execute_result"
    }
   ],
   "source": [
    "mytuple"
   ]
  },
  {
   "cell_type": "code",
   "execution_count": 52,
   "id": "d1f9a5ae-1907-4877-920e-3d51071440a2",
   "metadata": {},
   "outputs": [
    {
     "data": {
      "text/plain": [
       "True"
      ]
     },
     "execution_count": 52,
     "metadata": {},
     "output_type": "execute_result"
    }
   ],
   "source": [
    "'five' in mytuple  #check 'one' exist or not"
   ]
  },
  {
   "cell_type": "code",
   "execution_count": 53,
   "id": "babfc588-cd2d-4745-b4c9-7a5f8e90f732",
   "metadata": {},
   "outputs": [
    {
     "data": {
      "text/plain": [
       "False"
      ]
     },
     "execution_count": 53,
     "metadata": {},
     "output_type": "execute_result"
    }
   ],
   "source": [
    "'eleven' in mytuple"
   ]
  },
  {
   "cell_type": "code",
   "execution_count": 54,
   "id": "dc1fd5b7-5a10-483a-9fdc-f4ac32483e57",
   "metadata": {},
   "outputs": [
    {
     "name": "stdout",
     "output_type": "stream",
     "text": [
      "two is present in tuple\n"
     ]
    }
   ],
   "source": [
    "if 'two' in mytuple:      # check if 'two' is present or not\n",
    "    print('two is present in tuple')\n",
    "else:\n",
    "    print('two is not present in tuple')"
   ]
  },
  {
   "cell_type": "code",
   "execution_count": 55,
   "id": "3ad94e5e-b94e-4db2-bfd3-56075a2209d7",
   "metadata": {},
   "outputs": [
    {
     "name": "stdout",
     "output_type": "stream",
     "text": [
      "eighteen is not persent in tuple\n"
     ]
    }
   ],
   "source": [
    "if 'eighteen' in mytuple:\n",
    "    print('eighteen is present in tuple')\n",
    "else:\n",
    "    print('eighteen is not persent in tuple')"
   ]
  },
  {
   "cell_type": "code",
   "execution_count": null,
   "id": "33a3eb46-10a1-45c5-9b03-d3426c118a6d",
   "metadata": {},
   "outputs": [],
   "source": []
  },
  {
   "cell_type": "markdown",
   "id": "ca750e56-f9cf-4c24-9210-a3aae2f4386e",
   "metadata": {},
   "source": [
    "# index position"
   ]
  },
  {
   "cell_type": "code",
   "execution_count": 56,
   "id": "bda328a0-b3cb-44b4-bf7c-a9ccbdcc5926",
   "metadata": {},
   "outputs": [
    {
     "data": {
      "text/plain": [
       "('one', 'two', 'three', 'four', 'five', 'six', 'seven')"
      ]
     },
     "execution_count": 56,
     "metadata": {},
     "output_type": "execute_result"
    }
   ],
   "source": [
    "mytuple"
   ]
  },
  {
   "cell_type": "code",
   "execution_count": 58,
   "id": "e0895998-7967-4b85-a1e0-d0f56556a461",
   "metadata": {},
   "outputs": [
    {
     "data": {
      "text/plain": [
       "2"
      ]
     },
     "execution_count": 58,
     "metadata": {},
     "output_type": "execute_result"
    }
   ],
   "source": [
    "mytuple.index('three') # show index of three"
   ]
  },
  {
   "cell_type": "code",
   "execution_count": 59,
   "id": "1260b695-ddb6-4ec0-8543-659e95e0ae0a",
   "metadata": {},
   "outputs": [
    {
     "data": {
      "text/plain": [
       "6"
      ]
     },
     "execution_count": 59,
     "metadata": {},
     "output_type": "execute_result"
    }
   ],
   "source": [
    "mytuple.index('seven')"
   ]
  },
  {
   "cell_type": "code",
   "execution_count": 61,
   "id": "3537ed2a-7689-4b6d-8367-d9741d54e977",
   "metadata": {},
   "outputs": [
    {
     "data": {
      "text/plain": [
       "('one', 'four', 'one', 'two', 'three', 'four')"
      ]
     },
     "execution_count": 61,
     "metadata": {},
     "output_type": "execute_result"
    }
   ],
   "source": [
    "mytuplee =('one','four','one','two','three','four')\n",
    "mytuplee"
   ]
  },
  {
   "cell_type": "code",
   "execution_count": 62,
   "id": "66ac072c-dfe0-483c-ad60-444d51a0b8a2",
   "metadata": {},
   "outputs": [
    {
     "data": {
      "text/plain": [
       "0"
      ]
     },
     "execution_count": 62,
     "metadata": {},
     "output_type": "execute_result"
    }
   ],
   "source": [
    "mytuplee.index('one')"
   ]
  },
  {
   "cell_type": "code",
   "execution_count": 63,
   "id": "0169c09d-fc04-45e8-8783-5bb4c82bed06",
   "metadata": {},
   "outputs": [
    {
     "data": {
      "text/plain": [
       "1"
      ]
     },
     "execution_count": 63,
     "metadata": {},
     "output_type": "execute_result"
    }
   ],
   "source": [
    "mytuplee.index('four')   # index of first element equal to 'four'"
   ]
  },
  {
   "cell_type": "code",
   "execution_count": null,
   "id": "ea2a8892-f11e-4167-ac39-ad30fdb30456",
   "metadata": {},
   "outputs": [],
   "source": []
  },
  {
   "cell_type": "markdown",
   "id": "e1c67439-c1a8-4293-a414-227c63ecc8d4",
   "metadata": {},
   "source": [
    "# sorting"
   ]
  },
  {
   "cell_type": "code",
   "execution_count": 67,
   "id": "8291414f-8497-4a34-a66e-30f2c4ecafb9",
   "metadata": {},
   "outputs": [
    {
     "data": {
      "text/plain": [
       "(43, 98, 13, 27, 98, 34, 62, 98, 78)"
      ]
     },
     "execution_count": 67,
     "metadata": {},
     "output_type": "execute_result"
    }
   ],
   "source": [
    "mytuple1 = (43,98,13,27,98,34,62,98,78)\n",
    "mytuple1"
   ]
  },
  {
   "cell_type": "code",
   "execution_count": 69,
   "id": "da01aa3d-9a81-4f18-a364-648b93561776",
   "metadata": {},
   "outputs": [
    {
     "data": {
      "text/plain": [
       "[13, 27, 34, 43, 62, 78, 98, 98, 98]"
      ]
     },
     "execution_count": 69,
     "metadata": {},
     "output_type": "execute_result"
    }
   ],
   "source": [
    "sorted(mytuple1) # sort the tuple , dosen't change tuple  ---ascending order"
   ]
  },
  {
   "cell_type": "code",
   "execution_count": 72,
   "id": "1c634e03-d87a-49ff-9fc7-438c0a5ca25a",
   "metadata": {},
   "outputs": [
    {
     "data": {
      "text/plain": [
       "[98, 98, 98, 78, 62, 43, 34, 27, 13]"
      ]
     },
     "execution_count": 72,
     "metadata": {},
     "output_type": "execute_result"
    }
   ],
   "source": [
    "sorted(mytuple1,reverse=True)   #sort in descending order"
   ]
  },
  {
   "cell_type": "code",
   "execution_count": null,
   "id": "65ba3563-2645-41ae-8d07-8adc002e903c",
   "metadata": {},
   "outputs": [],
   "source": []
  },
  {
   "cell_type": "code",
   "execution_count": 73,
   "id": "352fb9c4-65c7-40ad-9789-bc3be62eed06",
   "metadata": {},
   "outputs": [
    {
     "data": {
      "text/plain": [
       "(45, 9, 78, 24, 49, 57, 92, 47, 28, 44, 87)"
      ]
     },
     "execution_count": 73,
     "metadata": {},
     "output_type": "execute_result"
    }
   ],
   "source": [
    "mytuple2 = (45,9,78,24,49,57,92,47,28,44,87)\n",
    "mytuple2"
   ]
  },
  {
   "cell_type": "code",
   "execution_count": 74,
   "id": "d046056a-6006-43ce-9ca1-bc97fa42509e",
   "metadata": {},
   "outputs": [
    {
     "data": {
      "text/plain": [
       "[9, 24, 28, 44, 45, 47, 49, 57, 78, 87, 92]"
      ]
     },
     "execution_count": 74,
     "metadata": {},
     "output_type": "execute_result"
    }
   ],
   "source": [
    "sorted(mytuple2)"
   ]
  },
  {
   "cell_type": "code",
   "execution_count": 75,
   "id": "fc2cc904-a75f-426a-ae32-999043264bad",
   "metadata": {},
   "outputs": [
    {
     "data": {
      "text/plain": [
       "[92, 87, 78, 57, 49, 47, 45, 44, 28, 24, 9]"
      ]
     },
     "execution_count": 75,
     "metadata": {},
     "output_type": "execute_result"
    }
   ],
   "source": [
    "sorted(mytuple2,reverse=True)"
   ]
  },
  {
   "cell_type": "code",
   "execution_count": null,
   "id": "4c6683ab-5e8f-4ffb-aa3a-9b7b5e0ce95e",
   "metadata": {},
   "outputs": [],
   "source": []
  },
  {
   "cell_type": "code",
   "execution_count": null,
   "id": "13c630ba-1392-45bd-8607-2ddfd636706b",
   "metadata": {},
   "outputs": [],
   "source": []
  },
  {
   "cell_type": "code",
   "execution_count": 76,
   "id": "b31df1be-f11c-4939-9f42-15aa509b0e94",
   "metadata": {},
   "outputs": [
    {
     "data": {
      "text/plain": [
       "(0, 53, 67, 83, 98, 14, 73, 86)"
      ]
     },
     "execution_count": 76,
     "metadata": {},
     "output_type": "execute_result"
    }
   ],
   "source": [
    "mytupleee = (0,53,67,83,98,14,73,86)\n",
    "mytupleee"
   ]
  },
  {
   "cell_type": "code",
   "execution_count": null,
   "id": "62059e0c-09e3-4271-9d5c-77a2ae772f39",
   "metadata": {},
   "outputs": [],
   "source": []
  }
 ],
 "metadata": {
  "kernelspec": {
   "display_name": "Python [conda env:base] *",
   "language": "python",
   "name": "conda-base-py"
  },
  "language_info": {
   "codemirror_mode": {
    "name": "ipython",
    "version": 3
   },
   "file_extension": ".py",
   "mimetype": "text/x-python",
   "name": "python",
   "nbconvert_exporter": "python",
   "pygments_lexer": "ipython3",
   "version": "3.12.7"
  }
 },
 "nbformat": 4,
 "nbformat_minor": 5
}
