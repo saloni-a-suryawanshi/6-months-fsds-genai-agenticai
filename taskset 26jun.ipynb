{
 "cells": [
  {
   "cell_type": "markdown",
   "id": "e4beb01d-7a82-4c5d-b55a-8a437c16a432",
   "metadata": {},
   "source": [
    "# set"
   ]
  },
  {
   "cell_type": "code",
   "execution_count": 1,
   "id": "4020e492-0c5f-449d-80db-90aa4c8f3711",
   "metadata": {},
   "outputs": [
    {
     "data": {
      "text/plain": [
       "{}"
      ]
     },
     "execution_count": 1,
     "metadata": {},
     "output_type": "execute_result"
    }
   ],
   "source": [
    "y = {}\n",
    "y"
   ]
  },
  {
   "cell_type": "code",
   "execution_count": 2,
   "id": "25867a01-f542-47e4-96db-edf29503a799",
   "metadata": {},
   "outputs": [
    {
     "data": {
      "text/plain": [
       "dict"
      ]
     },
     "execution_count": 2,
     "metadata": {},
     "output_type": "execute_result"
    }
   ],
   "source": [
    "type(y)"
   ]
  },
  {
   "cell_type": "code",
   "execution_count": 3,
   "id": "514cf436-2c40-4217-83b1-67fa778c5ef9",
   "metadata": {},
   "outputs": [
    {
     "data": {
      "text/plain": [
       "set()"
      ]
     },
     "execution_count": 3,
     "metadata": {},
     "output_type": "execute_result"
    }
   ],
   "source": [
    "q =set(y)\n",
    "q"
   ]
  },
  {
   "cell_type": "code",
   "execution_count": 4,
   "id": "1135ab6d-7dc7-46a6-b270-4165acf030f3",
   "metadata": {},
   "outputs": [
    {
     "data": {
      "text/plain": [
       "set"
      ]
     },
     "execution_count": 4,
     "metadata": {},
     "output_type": "execute_result"
    }
   ],
   "source": [
    "type(q)"
   ]
  },
  {
   "cell_type": "code",
   "execution_count": 6,
   "id": "94adc505-37ef-46a4-9cb8-7f8df2a17e00",
   "metadata": {},
   "outputs": [
    {
     "data": {
      "text/plain": [
       "{12, 24, 36, 48}"
      ]
     },
     "execution_count": 6,
     "metadata": {},
     "output_type": "execute_result"
    }
   ],
   "source": [
    "q.add(12)      #adding element\n",
    "q.add(24)\n",
    "q.add(36)\n",
    "q.add(48)\n",
    "q"
   ]
  },
  {
   "cell_type": "code",
   "execution_count": 7,
   "id": "9ffa15ed-c64b-467f-8944-95af3416ba42",
   "metadata": {},
   "outputs": [
    {
     "data": {
      "text/plain": [
       "{11, 28, 36, 48, 98}"
      ]
     },
     "execution_count": 7,
     "metadata": {},
     "output_type": "execute_result"
    }
   ],
   "source": [
    "r = {11,36,28,48,98}\n",
    "r"
   ]
  },
  {
   "cell_type": "code",
   "execution_count": 8,
   "id": "fb7b93ab-8709-4ecf-9b18-5093d9818a9a",
   "metadata": {},
   "outputs": [
    {
     "data": {
      "text/plain": [
       "{11, 28, 33, 36, 48, 98}"
      ]
     },
     "execution_count": 8,
     "metadata": {},
     "output_type": "execute_result"
    }
   ],
   "source": [
    "r.add(33)\n",
    "r"
   ]
  },
  {
   "cell_type": "code",
   "execution_count": 10,
   "id": "5d18c6dc-5095-4c1d-a8a3-2a347622035d",
   "metadata": {},
   "outputs": [
    {
     "data": {
      "text/plain": [
       "33"
      ]
     },
     "execution_count": 10,
     "metadata": {},
     "output_type": "execute_result"
    }
   ],
   "source": [
    " r.pop()    #any element can pop/remove"
   ]
  },
  {
   "cell_type": "code",
   "execution_count": 11,
   "id": "16464a14-bb3e-4e9f-9ee1-3b0040bcb6be",
   "metadata": {},
   "outputs": [
    {
     "data": {
      "text/plain": [
       "{11, 36, 98}"
      ]
     },
     "execution_count": 11,
     "metadata": {},
     "output_type": "execute_result"
    }
   ],
   "source": [
    "r.remove(28)  #remove specific element\n",
    "r"
   ]
  },
  {
   "cell_type": "code",
   "execution_count": 14,
   "id": "522dbacc-1e02-42c1-8ae2-c99018e76ce0",
   "metadata": {},
   "outputs": [
    {
     "ename": "KeyError",
     "evalue": "342",
     "output_type": "error",
     "traceback": [
      "\u001b[1;31m---------------------------------------------------------------------------\u001b[0m",
      "\u001b[1;31mKeyError\u001b[0m                                  Traceback (most recent call last)",
      "Cell \u001b[1;32mIn[14], line 1\u001b[0m\n\u001b[1;32m----> 1\u001b[0m r\u001b[38;5;241m.\u001b[39mremove(\u001b[38;5;241m342\u001b[39m)\n\u001b[0;32m      2\u001b[0m r\n",
      "\u001b[1;31mKeyError\u001b[0m: 342"
     ]
    }
   ],
   "source": [
    "r.remove(342)   #show key error\n",
    "r"
   ]
  },
  {
   "cell_type": "code",
   "execution_count": 16,
   "id": "a8291988-5b7e-47ca-a5be-451fee281c3c",
   "metadata": {},
   "outputs": [],
   "source": [
    "r.discard(342)   # not show any error"
   ]
  },
  {
   "cell_type": "code",
   "execution_count": 17,
   "id": "4af40f21-b7bc-49f5-8e8b-7b8bb049e6ad",
   "metadata": {},
   "outputs": [
    {
     "data": {
      "text/plain": [
       "{11, 36}"
      ]
     },
     "execution_count": 17,
     "metadata": {},
     "output_type": "execute_result"
    }
   ],
   "source": [
    "r.discard(98)    #discard the value\n",
    "r"
   ]
  },
  {
   "cell_type": "code",
   "execution_count": 25,
   "id": "e028cd94-f7d3-4d30-94dc-8e182efcc797",
   "metadata": {},
   "outputs": [
    {
     "data": {
      "text/plain": [
       "{12, 24, 36, 48}"
      ]
     },
     "execution_count": 25,
     "metadata": {},
     "output_type": "execute_result"
    }
   ],
   "source": [
    "q = r.copy()  #copy the elements\n",
    "q"
   ]
  },
  {
   "cell_type": "markdown",
   "id": "d18ff96b-1ac0-4275-b407-4c116eaa1ede",
   "metadata": {},
   "source": [
    "# looping"
   ]
  },
  {
   "cell_type": "code",
   "execution_count": 26,
   "id": "69b02f33-3c92-4cc1-88ad-c862942d90a1",
   "metadata": {},
   "outputs": [
    {
     "name": "stdout",
     "output_type": "stream",
     "text": [
      "24\n",
      "48\n",
      "12\n",
      "36\n"
     ]
    }
   ],
   "source": [
    "for i in q:\n",
    "    print(i)"
   ]
  },
  {
   "cell_type": "code",
   "execution_count": 27,
   "id": "8f3bf0d7-608b-41d5-9483-58353363a18f",
   "metadata": {},
   "outputs": [
    {
     "name": "stdout",
     "output_type": "stream",
     "text": [
      "(0, 24)\n",
      "(1, 48)\n",
      "(2, 12)\n",
      "(3, 36)\n"
     ]
    }
   ],
   "source": [
    "for i in enumerate(q):\n",
    "    print(i)"
   ]
  },
  {
   "cell_type": "markdown",
   "id": "d52da443-10a5-4aba-a2b7-16f31548116a",
   "metadata": {},
   "source": [
    "# set operation"
   ]
  },
  {
   "cell_type": "code",
   "execution_count": 29,
   "id": "e9fe35ae-87a4-4e89-8f5f-fce4ebe03617",
   "metadata": {},
   "outputs": [
    {
     "data": {
      "text/plain": [
       "{10, 20, 100, 200, 1000, 2000, 10000, 20000}"
      ]
     },
     "execution_count": 29,
     "metadata": {},
     "output_type": "execute_result"
    }
   ],
   "source": [
    "a = {10,100,1000,10000}\n",
    "b = {1000,20,200,2000,20000,100}\n",
    "c = {20,30,300,30000,100,2000,}\n",
    "a.union(b)"
   ]
  },
  {
   "cell_type": "code",
   "execution_count": 31,
   "id": "38bb7a55-2a6c-43f4-be70-a59d98a408cc",
   "metadata": {},
   "outputs": [
    {
     "data": {
      "text/plain": [
       "{10, 20, 30, 100, 300, 1000, 2000, 10000, 30000}"
      ]
     },
     "execution_count": 31,
     "metadata": {},
     "output_type": "execute_result"
    }
   ],
   "source": [
    "a | c    #union operation"
   ]
  },
  {
   "cell_type": "code",
   "execution_count": 32,
   "id": "1c09d1d9-aae5-47f7-a793-67117f5c87bf",
   "metadata": {},
   "outputs": [
    {
     "data": {
      "text/plain": [
       "{10, 20, 30, 100, 200, 300, 1000, 2000, 10000, 20000, 30000}"
      ]
     },
     "execution_count": 32,
     "metadata": {},
     "output_type": "execute_result"
    }
   ],
   "source": [
    "a | b | c"
   ]
  },
  {
   "cell_type": "code",
   "execution_count": 33,
   "id": "0b2a888b-5419-4a79-bae5-791c29228ae3",
   "metadata": {},
   "outputs": [
    {
     "data": {
      "text/plain": [
       "{10, 10000}"
      ]
     },
     "execution_count": 33,
     "metadata": {},
     "output_type": "execute_result"
    }
   ],
   "source": [
    "a.difference(b)   #difference operation"
   ]
  },
  {
   "cell_type": "code",
   "execution_count": 34,
   "id": "fa0d0baa-0561-4c01-8cdd-8fa61fe15e30",
   "metadata": {},
   "outputs": [
    {
     "data": {
      "text/plain": [
       "{20, 30, 300, 2000, 30000}"
      ]
     },
     "execution_count": 34,
     "metadata": {},
     "output_type": "execute_result"
    }
   ],
   "source": [
    "c.difference(a)"
   ]
  },
  {
   "cell_type": "code",
   "execution_count": 35,
   "id": "1ea03a06-b9a2-434d-aa7e-ac090164aba0",
   "metadata": {},
   "outputs": [
    {
     "data": {
      "text/plain": [
       "set()"
      ]
     },
     "execution_count": 35,
     "metadata": {},
     "output_type": "execute_result"
    }
   ],
   "source": [
    "a.difference(a)    #it will be empty set"
   ]
  },
  {
   "cell_type": "code",
   "execution_count": null,
   "id": "0348507f-a961-4dbf-9f40-5dd4815df425",
   "metadata": {},
   "outputs": [],
   "source": []
  }
 ],
 "metadata": {
  "kernelspec": {
   "display_name": "Python [conda env:base] *",
   "language": "python",
   "name": "conda-base-py"
  },
  "language_info": {
   "codemirror_mode": {
    "name": "ipython",
    "version": 3
   },
   "file_extension": ".py",
   "mimetype": "text/x-python",
   "name": "python",
   "nbconvert_exporter": "python",
   "pygments_lexer": "ipython3",
   "version": "3.12.7"
  }
 },
 "nbformat": 4,
 "nbformat_minor": 5
}
