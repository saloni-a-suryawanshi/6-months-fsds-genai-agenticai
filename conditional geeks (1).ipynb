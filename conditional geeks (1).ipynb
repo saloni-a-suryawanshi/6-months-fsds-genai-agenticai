{
 "cells": [
  {
   "cell_type": "markdown",
   "id": "06b12af2-36cf-42d9-a3cf-e947b059ee11",
   "metadata": {},
   "source": [
    "## if statement"
   ]
  },
  {
   "cell_type": "code",
   "execution_count": 1,
   "id": "dfe35ff0-675a-45c3-b04d-edaa148b667c",
   "metadata": {},
   "outputs": [
    {
     "name": "stdout",
     "output_type": "stream",
     "text": [
      "eligible to vote\n"
     ]
    }
   ],
   "source": [
    "age = 20\n",
    "\n",
    "if age>=18:\n",
    "    print('eligible to vote')"
   ]
  },
  {
   "cell_type": "code",
   "execution_count": 2,
   "id": "28525812-c698-4c23-b71e-a659b7ca4972",
   "metadata": {},
   "outputs": [
    {
     "name": "stdout",
     "output_type": "stream",
     "text": [
      "Eligible for vote\n"
     ]
    }
   ],
   "source": [
    "age = 19\n",
    "if age >18:\n",
    "    print('Eligible for vote')"
   ]
  },
  {
   "cell_type": "code",
   "execution_count": 3,
   "id": "daa95be6-4071-4acd-98bc-561ad664b053",
   "metadata": {},
   "outputs": [
    {
     "name": "stdout",
     "output_type": "stream",
     "text": [
      "Travel for free\n"
     ]
    }
   ],
   "source": [
    "age = 10\n",
    "if age <=12:\n",
    "    print('Travel for free')\n",
    "else:\n",
    "    print('Pay for ticket')"
   ]
  },
  {
   "cell_type": "code",
   "execution_count": 4,
   "id": "42e2d306-6da1-418c-aa56-3bc54781e7e5",
   "metadata": {},
   "outputs": [
    {
     "name": "stdout",
     "output_type": "stream",
     "text": [
      "Fail\n"
     ]
    }
   ],
   "source": [
    "m = 35\n",
    "\n",
    "if m > 35:\n",
    "    print('Pass')\n",
    "else:\n",
    "    print('Fail')"
   ]
  },
  {
   "cell_type": "code",
   "execution_count": 5,
   "id": "8bac9ec9-3e50-423e-94d1-d126036e9b87",
   "metadata": {},
   "outputs": [
    {
     "name": "stdout",
     "output_type": "stream",
     "text": [
      "Young adult\n"
     ]
    }
   ],
   "source": [
    "age = 25\n",
    "\n",
    "if age <= 12:\n",
    "    print('child')\n",
    "elif age <= 19:\n",
    "    print('Teenage')\n",
    "elif age <= 30:\n",
    "    print('Young adult')\n",
    "else:\n",
    "    print('Adult')"
   ]
  },
  {
   "cell_type": "code",
   "execution_count": 6,
   "id": "7ab48db1-ce6c-4a60-9495-0aa71dac197d",
   "metadata": {},
   "outputs": [
    {
     "name": "stdout",
     "output_type": "stream",
     "text": [
      "Adult\n"
     ]
    }
   ],
   "source": [
    "age = 60\n",
    "\n",
    "if age <= 12:\n",
    "    print('child')\n",
    "elif age <= 19:\n",
    "    print('Teenage')\n",
    "elif age <= 30:\n",
    "    print('Young adult')\n",
    "else:\n",
    "    print('Adult')"
   ]
  },
  {
   "cell_type": "code",
   "execution_count": 7,
   "id": "53b34ecf-8a30-4498-a033-d7c02b1756c6",
   "metadata": {},
   "outputs": [
    {
     "name": "stdout",
     "output_type": "stream",
     "text": [
      "Not eligible for senior discount\n"
     ]
    }
   ],
   "source": [
    "age = 58\n",
    "s = True\n",
    "\n",
    "if age >= 60:\n",
    "    if s :\n",
    "        print('30% senior discount')\n",
    "    else:\n",
    "        print('20% senior discount')\n",
    "else:\n",
    "    print('Not eligible for senior discount')"
   ]
  },
  {
   "cell_type": "code",
   "execution_count": 8,
   "id": "4fdbc74c-a807-4177-84a7-0646cee45d15",
   "metadata": {},
   "outputs": [
    {
     "name": "stdout",
     "output_type": "stream",
     "text": [
      "Not eligible for senior discount\n"
     ]
    }
   ],
   "source": [
    "age = 14\n",
    "s = True\n",
    "\n",
    "if age >= 60:\n",
    "    if s :\n",
    "        print('30% senior discount')\n",
    "    else:\n",
    "        print('20% senior discount')\n",
    "else:\n",
    "    print('Not eligible for senior discount')"
   ]
  },
  {
   "cell_type": "code",
   "execution_count": 9,
   "id": "35adf6e1-c228-4a34-98f8-8ae2bfc3bb3c",
   "metadata": {},
   "outputs": [
    {
     "name": "stdout",
     "output_type": "stream",
     "text": [
      "You are in trouble\n"
     ]
    }
   ],
   "source": [
    "j = True  \n",
    "s = True\n",
    "if j == s:\n",
    "    print('You are in trouble')\n",
    "    "
   ]
  },
  {
   "cell_type": "code",
   "execution_count": 10,
   "id": "78b0fa49-cd23-4248-bfbd-2fcc09cebe72",
   "metadata": {},
   "outputs": [
    {
     "name": "stdout",
     "output_type": "stream",
     "text": [
      "You are not in trouble\n"
     ]
    }
   ],
   "source": [
    "j =True\n",
    "s=False\n",
    "if j==s:\n",
    "    print('you are in trouble')\n",
    "else:\n",
    "    print('You are not in trouble')"
   ]
  },
  {
   "cell_type": "markdown",
   "id": "f29c48bd-4536-4c26-9c10-e3219218e4f1",
   "metadata": {},
   "source": [
    "## even odd"
   ]
  },
  {
   "cell_type": "code",
   "execution_count": 11,
   "id": "cdcacf6a-b060-4cc7-bcfc-66a1250646f8",
   "metadata": {},
   "outputs": [
    {
     "name": "stdout",
     "output_type": "stream",
     "text": [
      "even Number\n"
     ]
    }
   ],
   "source": [
    "a = 12\n",
    "r = a%2\n",
    "if r==0:\n",
    "    print('even Number')\n",
    "else:\n",
    "    print('Odd Number')"
   ]
  },
  {
   "cell_type": "code",
   "execution_count": 12,
   "id": "13958752-48d0-4173-8cea-76cbd0ac2e8f",
   "metadata": {},
   "outputs": [
    {
     "name": "stdout",
     "output_type": "stream",
     "text": [
      "Odd Number\n"
     ]
    }
   ],
   "source": [
    "s = 5\n",
    "r =s%2\n",
    "if r==0:\n",
    "    print('Even Numebr')\n",
    "else:\n",
    "    print('Odd Number')"
   ]
  },
  {
   "cell_type": "markdown",
   "id": "d272ef85-eebc-49bc-abf9-d0d757774aac",
   "metadata": {},
   "source": [
    "## check status"
   ]
  },
  {
   "cell_type": "code",
   "execution_count": 13,
   "id": "ba9fc1f3-818b-4b50-b9f1-63bd92c8c2ef",
   "metadata": {},
   "outputs": [
    {
     "name": "stdout",
     "output_type": "stream",
     "text": [
      "10\n",
      "-20\n",
      "False\n"
     ]
    }
   ],
   "source": [
    " a = 10\n",
    " b = -20\n",
    "flag = False \n",
    "if a>0:\n",
    "    print(a)\n",
    "if b<0:\n",
    "   print (b)\n",
    "if flag==False:\n",
    "    print(flag)\n",
    "    "
   ]
  },
  {
   "cell_type": "code",
   "execution_count": 14,
   "id": "e32eba07-efab-4567-b284-ee3420971ecf",
   "metadata": {},
   "outputs": [
    {
     "name": "stdout",
     "output_type": "stream",
     "text": [
      "Result: -20\n"
     ]
    }
   ],
   "source": [
    "a = 10\n",
    "b = -20\n",
    "flag = False  # or False\n",
    "\n",
    "if flag:\n",
    "    result = a\n",
    "else:\n",
    "    result = b\n",
    "\n",
    "print(\"Result:\", result)\n",
    "\n",
    "\n"
   ]
  },
  {
   "cell_type": "code",
   "execution_count": 15,
   "id": "c02437ff-84eb-4bd1-8fe1-45031301b9f0",
   "metadata": {},
   "outputs": [
    {
     "name": "stdout",
     "output_type": "stream",
     "text": [
      "Result: 10\n"
     ]
    }
   ],
   "source": [
    "a = 10\n",
    "b = -20\n",
    "flag = True  # or False\n",
    "\n",
    "if flag:\n",
    "    result = a\n",
    "else:\n",
    "    result = b\n",
    "\n",
    "print(\"Result:\", result)\n"
   ]
  },
  {
   "cell_type": "markdown",
   "id": "5373fa06-8734-44f5-84fe-ce0d138d0df3",
   "metadata": {},
   "source": [
    "## cat hat str are same in count or not"
   ]
  },
  {
   "cell_type": "code",
   "execution_count": 16,
   "id": "ffccb9e5-2e8c-4064-8857-697324dfcd2b",
   "metadata": {},
   "outputs": [
    {
     "name": "stdout",
     "output_type": "stream",
     "text": [
      "result True\n"
     ]
    }
   ],
   "source": [
    "str = 'cat hat cat hat'\n",
    "\n",
    "cat_count = str.count('cat')\n",
    "hat_count = str.count('hat')\n",
    "\n",
    "if cat_count == hat_count:\n",
    "    result = True\n",
    "else:\n",
    "    result  =False\n",
    "    \n",
    "print('result',result)    "
   ]
  },
  {
   "cell_type": "code",
   "execution_count": 17,
   "id": "584c6fdc-2b74-4514-9812-09318ad37a94",
   "metadata": {},
   "outputs": [
    {
     "name": "stdout",
     "output_type": "stream",
     "text": [
      "result False\n"
     ]
    }
   ],
   "source": [
    "str = 'cat hat cat hat hat cat hat'\n",
    "\n",
    "cat_count = str.count('cat')\n",
    "hat_count = str.count('hat')\n",
    "\n",
    "if cat_count == hat_count:\n",
    "    result = True\n",
    "else:\n",
    "    result  =False\n",
    "    \n",
    "print('result',result)  \n",
    "\n"
   ]
  },
  {
   "cell_type": "markdown",
   "id": "4ef921ae-3552-4c93-b73e-435e395ff6cf",
   "metadata": {},
   "source": [
    "## if else statementstr str "
   ]
  },
  {
   "cell_type": "code",
   "execution_count": 18,
   "id": "14b185b8-1fe8-4c5e-ae0d-a5fdd3f5ff29",
   "metadata": {},
   "outputs": [
    {
     "name": "stdout",
     "output_type": "stream",
     "text": [
      "Number\n"
     ]
    }
   ],
   "source": [
    "a =10\n",
    "if a >= 10:\n",
    "\n",
    "    print('Number')\n",
    "else:\n",
    "    print('Big')"
   ]
  },
  {
   "cell_type": "code",
   "execution_count": 19,
   "id": "cf09917f-0a51-46ac-931e-2752803d5415",
   "metadata": {},
   "outputs": [
    {
     "name": "stdout",
     "output_type": "stream",
     "text": [
      "Big\n"
     ]
    }
   ],
   "source": [
    "a =101\n",
    "if a <= 100:\n",
    "\n",
    "    print('Number')\n",
    "else:\n",
    "    print('Big')"
   ]
  },
  {
   "cell_type": "markdown",
   "id": "717e4bdb-6b25-4355-b599-8b7a36e81a5e",
   "metadata": {},
   "source": [
    "## FizzBuzz program"
   ]
  },
  {
   "cell_type": "code",
   "execution_count": 20,
   "id": "5d766591-c666-434d-b04d-4874167aad11",
   "metadata": {},
   "outputs": [
    {
     "name": "stdout",
     "output_type": "stream",
     "text": [
      "Fizz\n"
     ]
    }
   ],
   "source": [
    "a = 3\n",
    "if a%3==0:\n",
    "    print('Fizz')\n",
    "else:\n",
    "    print('not divisible')"
   ]
  },
  {
   "cell_type": "code",
   "execution_count": 21,
   "id": "3fa73668-90ca-49db-b7c0-caebab8071de",
   "metadata": {},
   "outputs": [
    {
     "name": "stdout",
     "output_type": "stream",
     "text": [
      "Buzz\n"
     ]
    }
   ],
   "source": [
    "a = 5\n",
    "if a%5==0:\n",
    "    print('Buzz')\n",
    "else:\n",
    "    print('not divisible')"
   ]
  },
  {
   "cell_type": "code",
   "execution_count": 22,
   "id": "fbc31b1e-aac4-4177-9609-91b6ed60f330",
   "metadata": {},
   "outputs": [
    {
     "name": "stdout",
     "output_type": "stream",
     "text": [
      "FizzBuzz\n"
     ]
    }
   ],
   "source": [
    "a = 30\n",
    "if a % 3 == 0 and a % 5 == 0:\n",
    "    print('FizzBuzz')\n",
    "elif a % 3 == 0:\n",
    "    print('Fizz')\n",
    "elif a % 5 == 0:\n",
    "    print('Buzz')\n",
    "else:\n",
    "    print('not divisible')"
   ]
  },
  {
   "cell_type": "markdown",
   "id": "56e31412-7eaa-4641-bfa1-9893433d1311",
   "metadata": {},
   "source": [
    "## even odd"
   ]
  },
  {
   "cell_type": "code",
   "execution_count": 23,
   "id": "5b724d06-614c-4d2a-b0ac-5b70f1701474",
   "metadata": {},
   "outputs": [
    {
     "name": "stdout",
     "output_type": "stream",
     "text": [
      "Me\n"
     ]
    }
   ],
   "source": [
    "n = 9\n",
    "if n%2==1:\n",
    "    print('Me')\n",
    "else:\n",
    "    print('Friend')"
   ]
  },
  {
   "cell_type": "code",
   "execution_count": 24,
   "id": "d7e6a433-5a63-4ca2-867d-3c30072963ab",
   "metadata": {},
   "outputs": [
    {
     "name": "stdout",
     "output_type": "stream",
     "text": [
      "Friend\n"
     ]
    }
   ],
   "source": [
    "n = 4\n",
    "if n%2==1:\n",
    "    print('Me')\n",
    "else:\n",
    "    print('Friend')"
   ]
  },
  {
   "cell_type": "code",
   "execution_count": 25,
   "id": "a9274f77-ab78-4bc9-89b4-a8873e00a9a3",
   "metadata": {},
   "outputs": [
    {
     "name": "stdout",
     "output_type": "stream",
     "text": [
      "True\n"
     ]
    }
   ],
   "source": [
    "s = 8\n",
    "if s%2==0:\n",
    "    print('True')\n",
    "else:\n",
    "    print('False')"
   ]
  },
  {
   "cell_type": "code",
   "execution_count": 26,
   "id": "22053847-748d-43da-b3b9-3860aefec579",
   "metadata": {},
   "outputs": [
    {
     "name": "stdout",
     "output_type": "stream",
     "text": [
      "False\n"
     ]
    }
   ],
   "source": [
    "s = 15\n",
    "if s%2==0:\n",
    "    print('True')\n",
    "else:\n",
    "    print('False')"
   ]
  },
  {
   "cell_type": "markdown",
   "id": "339a2a40-8cba-4a71-bcb4-58d50011b161",
   "metadata": {},
   "source": [
    "## greater number"
   ]
  },
  {
   "cell_type": "code",
   "execution_count": 27,
   "id": "5b49bbde-6d86-4516-b719-bdf93b7b5d59",
   "metadata": {},
   "outputs": [
    {
     "name": "stdout",
     "output_type": "stream",
     "text": [
      "Greatest: 3\n"
     ]
    }
   ],
   "source": [
    "a=1 \n",
    "b=2 \n",
    "c=3\n",
    "if a>=b and a>=c:\n",
    "    print('Greatest:',a)\n",
    "elif b>=a and b>=c:\n",
    "    print('Greatest:',b)\n",
    "else:\n",
    "    print('Greatest:',c)\n"
   ]
  },
  {
   "cell_type": "code",
   "execution_count": 28,
   "id": "1d0a71b1-8d03-48d9-a1dc-0135a1bf319b",
   "metadata": {},
   "outputs": [
    {
     "name": "stdout",
     "output_type": "stream",
     "text": [
      "Greatest: 5\n"
     ]
    }
   ],
   "source": [
    "a = 2\n",
    "b = 2 \n",
    "c = 5\n",
    "if a>=b and a>=c:\n",
    "    print('Greatest:',a)\n",
    "elif b>=a and b>=c:\n",
    "    print('Greatest:',b)\n",
    "else:\n",
    "    print('Greatest:',c)"
   ]
  },
  {
   "cell_type": "markdown",
   "id": "11dfa38c-5513-4574-8b73-25862d72afef",
   "metadata": {},
   "source": [
    "## leap year"
   ]
  },
  {
   "cell_type": "code",
   "execution_count": 29,
   "id": "868cc7a1-fe18-4991-95ef-cdcf917c87e0",
   "metadata": {},
   "outputs": [
    {
     "name": "stdout",
     "output_type": "stream",
     "text": [
      "True\n"
     ]
    }
   ],
   "source": [
    "a = 2020\n",
    "if (a % 4 == 0 and a %100 !=0) :\n",
    "    print('True')\n",
    "else:\n",
    "    print('False')"
   ]
  },
  {
   "cell_type": "code",
   "execution_count": 30,
   "id": "418edc87-3b41-4126-832f-52565cddea3b",
   "metadata": {},
   "outputs": [
    {
     "name": "stdout",
     "output_type": "stream",
     "text": [
      "False\n"
     ]
    }
   ],
   "source": [
    " b =2022\n",
    "if (a% 4==0 and b %100 ==0) or (b%400==0):\n",
    "    print('True')\n",
    "else:\n",
    "    print('False')"
   ]
  },
  {
   "cell_type": "markdown",
   "id": "177558ac-752b-4c0f-bd5c-05d2cac1e957",
   "metadata": {},
   "source": [
    "## calculator"
   ]
  },
  {
   "cell_type": "code",
   "execution_count": 31,
   "id": "9b38a7f1-500c-4ae3-9291-609023f08f0b",
   "metadata": {},
   "outputs": [
    {
     "name": "stdout",
     "output_type": "stream",
     "text": [
      "38"
     ]
    }
   ],
   "source": [
    "s = 19\n",
    "t = 2\n",
    "operator = 3\n",
    "\n",
    "if operator == 1:\n",
    "    print(s+t,end='')\n",
    "elif operator==2:\n",
    "    print(s-t,end='')\n",
    "elif operator==3:\n",
    "    print(s*t,end='')\n",
    "elif operator==4:\n",
    "    print(s/t,end='')\n",
    "else:\n",
    "    print('invalid input',end='')"
   ]
  },
  {
   "cell_type": "markdown",
   "id": "07380145-c236-460d-a82e-2bcd0f8ed99c",
   "metadata": {},
   "source": [
    "## dice problem"
   ]
  },
  {
   "cell_type": "code",
   "execution_count": 32,
   "id": "66c16f36-95a4-496a-b485-01c5b187aa22",
   "metadata": {},
   "outputs": [
    {
     "name": "stdout",
     "output_type": "stream",
     "text": [
      "1\n"
     ]
    }
   ],
   "source": [
    "m = 6\n",
    "if 1<=m<=6:\n",
    "    print(7-m)\n",
    "else:\n",
    "    print('invalid input')"
   ]
  },
  {
   "cell_type": "code",
   "execution_count": 33,
   "id": "a2e1c807-d7fc-44ed-8ded-ba19c84cbfea",
   "metadata": {},
   "outputs": [
    {
     "name": "stdout",
     "output_type": "stream",
     "text": [
      "2\n"
     ]
    }
   ],
   "source": [
    "m = 5\n",
    "if 1<=m<=6:\n",
    "    print(7-m)\n",
    "else:\n",
    "    print('invalid input')"
   ]
  },
  {
   "cell_type": "markdown",
   "id": "12f941b4-eece-40df-8701-e5495d723803",
   "metadata": {},
   "source": [
    "## if tuple distinct"
   ]
  },
  {
   "cell_type": "code",
   "execution_count": 34,
   "id": "6552fa69-4418-4f00-9138-fad973c5b675",
   "metadata": {},
   "outputs": [
    {
     "name": "stdout",
     "output_type": "stream",
     "text": [
      "True\n"
     ]
    }
   ],
   "source": [
    "arr = (1, 2, 3, 4, 5)\n",
    "if len(set(arr))== len(arr):\n",
    "    print('True')\n",
    "else:\n",
    "    print('False')"
   ]
  },
  {
   "cell_type": "code",
   "execution_count": 35,
   "id": "a3d0c2ea-ea2d-4e96-93bf-14788ac45ea0",
   "metadata": {},
   "outputs": [
    {
     "name": "stdout",
     "output_type": "stream",
     "text": [
      "cde\n",
      "fgh\n",
      "ijk\n"
     ]
    }
   ],
   "source": [
    "dict = {1:\"abc\", 2: \"cde\", 3: \"fgh\"}\n",
    "query = [2, 3, 4]\n",
    "\n",
    "for key in query:\n",
    "    print(dict.get(key,'ijk'))"
   ]
  },
  {
   "cell_type": "code",
   "execution_count": 36,
   "id": "9a44c41a-cb46-4ff4-a77d-7c2981ea3ad8",
   "metadata": {},
   "outputs": [
    {
     "name": "stdout",
     "output_type": "stream",
     "text": [
      "cde\n",
      "fgh\n",
      "None\n"
     ]
    }
   ],
   "source": [
    "dict = {1:\"abc\", 2: \"cde\", 3: \"fgh\"}\n",
    "query = [2, 3, 4]\n",
    "\n",
    "for key in query:\n",
    "    print(dict.get(key,'None'))"
   ]
  },
  {
   "cell_type": "markdown",
   "id": "a297b362-3a5f-408a-a8e4-49a9e2c3cb50",
   "metadata": {},
   "source": [
    "## factorial"
   ]
  },
  {
   "cell_type": "code",
   "execution_count": 37,
   "id": "80d995ea-e6f7-4254-a324-6494315888b2",
   "metadata": {},
   "outputs": [
    {
     "name": "stdout",
     "output_type": "stream",
     "text": [
      "120\n"
     ]
    }
   ],
   "source": [
    "n = 5\n",
    "fact=1\n",
    "for b in range(1,n+1):\n",
    "    fact *=b\n",
    "print(fact)"
   ]
  },
  {
   "cell_type": "markdown",
   "id": "b9e1113a-7347-4642-a864-e5e1c5335935",
   "metadata": {},
   "source": [
    "## prime"
   ]
  },
  {
   "cell_type": "code",
   "execution_count": 38,
   "id": "976530d3-4d33-4185-9d53-722eaf424305",
   "metadata": {},
   "outputs": [
    {
     "name": "stdout",
     "output_type": "stream",
     "text": [
      " prime number\n"
     ]
    }
   ],
   "source": [
    "n = 5\n",
    "\n",
    "if n <= 1:\n",
    "    print(\"not a prime number\")\n",
    "else:\n",
    "    for i in range(2, n):\n",
    "        if n % i == 0:\n",
    "            print(\"not a prime number\")\n",
    "            break\n",
    "    else:\n",
    "        print(\" prime number\")"
   ]
  },
  {
   "cell_type": "code",
   "execution_count": 39,
   "id": "3bc48f33-1342-403a-9e54-3c7a60ffbf0f",
   "metadata": {},
   "outputs": [
    {
     "name": "stdout",
     "output_type": "stream",
     "text": [
      "not a prime number\n"
     ]
    }
   ],
   "source": [
    "m = 8\n",
    "if m <= 1:\n",
    "    print('not a prime number')\n",
    "else:\n",
    "    for i in range(2,m):\n",
    "        if m % i ==0:\n",
    "            print('not a prime number')\n",
    "            break\n",
    "        else:\n",
    "            print('prime number')"
   ]
  },
  {
   "cell_type": "markdown",
   "id": "e5cd1eec-dd26-4a33-8907-bcded93b8cc8",
   "metadata": {},
   "source": [
    "## next prime number"
   ]
  },
  {
   "cell_type": "code",
   "execution_count": 40,
   "id": "bf9b71c3-3773-4206-9f1b-ece0353bfb51",
   "metadata": {},
   "outputs": [
    {
     "name": "stdout",
     "output_type": "stream",
     "text": [
      "3\n"
     ]
    }
   ],
   "source": [
    "n = 2\n",
    "\n",
    "while True:\n",
    "    n += 1\n",
    "    for i in range(2, n):\n",
    "        if n % i == 0:\n",
    "            break\n",
    "    else:\n",
    "        print(n)\n",
    "        break"
   ]
  },
  {
   "cell_type": "markdown",
   "id": "932aef19-c62f-4cd4-b239-76a10dd55b07",
   "metadata": {},
   "source": [
    "## fabonacci number"
   ]
  },
  {
   "cell_type": "code",
   "execution_count": 41,
   "id": "5391cc4d-6032-4cc7-bb4b-fe1e4c63a5f8",
   "metadata": {},
   "outputs": [
    {
     "name": "stdout",
     "output_type": "stream",
     "text": [
      "13\n"
     ]
    }
   ],
   "source": [
    "n=7\n",
    "a,b = 0,1\n",
    "\n",
    "for i in range(n):\n",
    "    a, b = b, a + b\n",
    "\n",
    "print(a)"
   ]
  },
  {
   "cell_type": "markdown",
   "id": "d712c99d-49a6-46f1-9d3e-99543736a398",
   "metadata": {},
   "source": [
    "## perfect number"
   ]
  },
  {
   "cell_type": "code",
   "execution_count": 42,
   "id": "7a42772b-0fcb-49da-9611-342d69bbf23f",
   "metadata": {},
   "outputs": [
    {
     "name": "stdout",
     "output_type": "stream",
     "text": [
      "not perfect number\n"
     ]
    }
   ],
   "source": [
    "n = 7\n",
    "\n",
    "sum =0 \n",
    "for i in range(1,n):\n",
    "    if n%i==0:\n",
    "        sum+=i\n",
    "if sum==n:\n",
    "    print(\"perefect number\")\n",
    "else: \n",
    "    print(\"not perfect number\")\n",
    "    "
   ]
  },
  {
   "cell_type": "code",
   "execution_count": 43,
   "id": "a5712a0a-5f35-420b-ba51-de1eaae93d5a",
   "metadata": {},
   "outputs": [
    {
     "name": "stdout",
     "output_type": "stream",
     "text": [
      "perefect number\n"
     ]
    }
   ],
   "source": [
    "n = 6\n",
    "\n",
    "sum =0 \n",
    "for i in range(1,n):\n",
    "    if n%i==0:\n",
    "        sum+=i\n",
    "if sum==n:\n",
    "    print(\"perefect number\")\n",
    "else: \n",
    "    print(\"not perfect number\")\n",
    "    "
   ]
  },
  {
   "cell_type": "markdown",
   "id": "ddab93e5-6e9b-4ad3-87bd-99c491fa0b86",
   "metadata": {},
   "source": [
    "## strong number"
   ]
  },
  {
   "cell_type": "code",
   "execution_count": 44,
   "id": "18d3ffb1-629e-4999-9bbe-3a5260facaec",
   "metadata": {},
   "outputs": [
    {
     "name": "stdout",
     "output_type": "stream",
     "text": [
      "1\n"
     ]
    }
   ],
   "source": [
    "import math\n",
    "n =145\n",
    "temp = n\n",
    "sum =0\n",
    "\n",
    "while temp>0:\n",
    "    digit = temp%10\n",
    "    sum += math.factorial(digit)\n",
    "    temp//=10\n",
    "\n",
    "if sum== n:\n",
    "    print(1)\n",
    "else:\n",
    "    print(0)"
   ]
  },
  {
   "cell_type": "code",
   "execution_count": null,
   "id": "1392f541-9f9b-4b0f-a10f-91616777ca30",
   "metadata": {},
   "outputs": [],
   "source": []
  }
 ],
 "metadata": {
  "kernelspec": {
   "display_name": "Python [conda env:base] *",
   "language": "python",
   "name": "conda-base-py"
  },
  "language_info": {
   "codemirror_mode": {
    "name": "ipython",
    "version": 3
   },
   "file_extension": ".py",
   "mimetype": "text/x-python",
   "name": "python",
   "nbconvert_exporter": "python",
   "pygments_lexer": "ipython3",
   "version": "3.12.7"
  }
 },
 "nbformat": 4,
 "nbformat_minor": 5
}
