{
 "cells": [
  {
   "cell_type": "code",
   "execution_count": 2,
   "id": "949afaa1-d5c4-4382-a660-6ab161d817f5",
   "metadata": {},
   "outputs": [
    {
     "data": {
      "text/plain": [
       "20"
      ]
     },
     "execution_count": 2,
     "metadata": {},
     "output_type": "execute_result"
    }
   ],
   "source": [
    "a = 10\n",
    "b = 20\n",
    "a\n",
    "b        #always show last element "
   ]
  },
  {
   "cell_type": "code",
   "execution_count": 1,
   "id": "05247238-6b14-4674-aa87-54049c50de99",
   "metadata": {},
   "outputs": [],
   "source": [
    "#print is use for answer"
   ]
  },
  {
   "cell_type": "code",
   "execution_count": 2,
   "id": "a0904a8b-b78c-432e-99d0-c6acb76eebc0",
   "metadata": {},
   "outputs": [
    {
     "name": "stdout",
     "output_type": "stream",
     "text": [
      "45\n",
      "65\n"
     ]
    }
   ],
   "source": [
    "a = 45\n",
    "b = 65\n",
    "print(a)\n",
    "print(b)"
   ]
  },
  {
   "cell_type": "code",
   "execution_count": 5,
   "id": "cdc72e90-c88b-46ba-9c65-24c3c28057ff",
   "metadata": {},
   "outputs": [
    {
     "name": "stdout",
     "output_type": "stream",
     "text": [
      "25\n",
      "15\n",
      "100\n",
      "4.0\n"
     ]
    }
   ],
   "source": [
    "a = 20\n",
    "b = 5\n",
    "add = a + b    #addition\n",
    "sub = a - b    #substraction\n",
    "mult = a * b   #multiplication\n",
    "div = a / b    #division\n",
    "print (add)\n",
    "print (sub)\n",
    "print (mult)\n",
    "print (div)"
   ]
  },
  {
   "cell_type": "code",
   "execution_count": null,
   "id": "979f64a9-448a-4349-9859-cebf0736d51f",
   "metadata": {},
   "outputs": [],
   "source": []
  },
  {
   "cell_type": "markdown",
   "id": "7d966701-80d3-44e3-99ff-104f0ea3a371",
   "metadata": {},
   "source": [
    "# print result with string"
   ]
  },
  {
   "cell_type": "code",
   "execution_count": 6,
   "id": "af48c3fb-ce90-4ba2-90ba-b0d56997be5c",
   "metadata": {},
   "outputs": [
    {
     "name": "stdout",
     "output_type": "stream",
     "text": [
      "the addition of 40 and 20 is= 60\n"
     ]
    }
   ],
   "source": [
    "a = 40\n",
    "s = 20\n",
    "add = a+s\n",
    "print ('the addition of',a ,'and',s, 'is=',add)"
   ]
  },
  {
   "cell_type": "code",
   "execution_count": 9,
   "id": "fd9672c9-4653-4950-9ede-9a6603c9cafd",
   "metadata": {},
   "outputs": [
    {
     "name": "stdout",
     "output_type": "stream",
     "text": [
      "my name is saloni suryawanshi. i am 21 year old. i am from pusad,yavatmal. and studying from nit,\n"
     ]
    }
   ],
   "source": [
    "name = 'saloni suryawanshi.'\n",
    "age = '21'\n",
    "city = 'pusad,yavatmal.'\n",
    "institute ='nit,'\n",
    "print ('my name is',name,'i am',age,'year old.','i am from',city,'and studying from',institute)"
   ]
  },
  {
   "cell_type": "markdown",
   "id": "ecaff565-31ca-4964-87ab-2f01e8f40a6b",
   "metadata": {},
   "source": [
    "# print format method"
   ]
  },
  {
   "cell_type": "code",
   "execution_count": 11,
   "id": "4b991be5-5a41-4654-b3bc-fe8eddc859b8",
   "metadata": {},
   "outputs": [
    {
     "name": "stdout",
     "output_type": "stream",
     "text": [
      "the addition of 10 and 20 is = 30 \n"
     ]
    }
   ],
   "source": [
    "a = 10\n",
    "b = 20\n",
    "add = a + b\n",
    "print ('the addition of {} and {} is = {} '.format(a,b,add))"
   ]
  },
  {
   "cell_type": "code",
   "execution_count": 16,
   "id": "4d24563a-888d-47b7-8acd-eeb66bec3a4e",
   "metadata": {},
   "outputs": [
    {
     "name": "stdout",
     "output_type": "stream",
     "text": [
      "my name is saloni suryawanshi. iam 21 year old and from pusad, yavatmal and studying from nit.\n"
     ]
    }
   ],
   "source": [
    "name = 'saloni suryawanshi.'\n",
    "age = '21'\n",
    "city = 'pusad, yavatmal'\n",
    "institute = 'nit.'\n",
    "print ('my name is {} iam {} year old and from {} and studying from {}'.format(name ,age,city,institute))"
   ]
  },
  {
   "cell_type": "code",
   "execution_count": 18,
   "id": "599fbdf5-2403-428b-9329-d0a3dfd9a065",
   "metadata": {},
   "outputs": [
    {
     "name": "stdout",
     "output_type": "stream",
     "text": [
      "the addition of 10 and 20 is = 30\n"
     ]
    }
   ],
   "source": [
    "h = 10\n",
    "r = 20\n",
    "add = h+r\n",
    "print (f'the addition of {h} and {r} is = {add}')"
   ]
  },
  {
   "cell_type": "code",
   "execution_count": 19,
   "id": "e480386c-a921-4cb6-90b4-062a2f07fa35",
   "metadata": {},
   "outputs": [
    {
     "name": "stdout",
     "output_type": "stream",
     "text": [
      "my name is saloni. iam 21 year old and belong from pusad,yavatmal.\n"
     ]
    }
   ],
   "source": [
    "name = 'saloni.'\n",
    "age = '21'\n",
    "city = 'pusad,yavatmal.'\n",
    "print (f'my name is {name} iam {age} year old and belong from {city}')"
   ]
  },
  {
   "cell_type": "code",
   "execution_count": 20,
   "id": "d2fc13da-3df6-4572-be79-4ea35d5e8c29",
   "metadata": {},
   "outputs": [
    {
     "name": "stdout",
     "output_type": "stream",
     "text": [
      "the avg of 674,567and 890 is = 710.33\n"
     ]
    }
   ],
   "source": [
    "t = 674\n",
    "y = 567\n",
    "k = 890\n",
    "avg = round ((t+y+k)/3,2)\n",
    "print(f'the avg of {t},{y}and {k} is = {avg}')"
   ]
  },
  {
   "cell_type": "markdown",
   "id": "8bb43139-783c-4001-af81-5386ae480788",
   "metadata": {},
   "source": [
    "# end statemet"
   ]
  },
  {
   "cell_type": "code",
   "execution_count": 21,
   "id": "c2f727c6-b45b-4805-ac8f-f0485bf3f32a",
   "metadata": {},
   "outputs": [
    {
     "name": "stdout",
     "output_type": "stream",
     "text": [
      "hello\n",
      "how are you\n"
     ]
    }
   ],
   "source": [
    "print ('hello')\n",
    "print ('how are you')"
   ]
  },
  {
   "cell_type": "code",
   "execution_count": 22,
   "id": "220f0786-0f6b-43aa-aef4-cebae9264b78",
   "metadata": {},
   "outputs": [
    {
     "name": "stdout",
     "output_type": "stream",
     "text": [
      "hello how are you\n"
     ]
    }
   ],
   "source": [
    "print ('hello', end=' ')\n",
    "print ('how are you')\n"
   ]
  },
  {
   "cell_type": "code",
   "execution_count": null,
   "id": "8d4e23dd-6b68-4be8-8eaf-161f624cba39",
   "metadata": {},
   "outputs": [],
   "source": []
  },
  {
   "cell_type": "markdown",
   "id": "e55131f1-e655-412b-89c8-655ebac9bd1f",
   "metadata": {},
   "source": [
    "# seperator"
   ]
  },
  {
   "cell_type": "code",
   "execution_count": 24,
   "id": "f8eee03c-4366-4865-9d79-cf35525694a9",
   "metadata": {},
   "outputs": [
    {
     "name": "stdout",
     "output_type": "stream",
     "text": [
      "hello hi how are you\n"
     ]
    }
   ],
   "source": [
    "print ('hello ','hi ','how are you',sep='')"
   ]
  },
  {
   "cell_type": "code",
   "execution_count": 25,
   "id": "c10923f9-0dce-4da2-b18e-adb8d5bc3f25",
   "metadata": {},
   "outputs": [
    {
     "name": "stdout",
     "output_type": "stream",
     "text": [
      "hello&hii&how are you\n"
     ]
    }
   ],
   "source": [
    "print ('hello','hii','how are you',sep='&')  # all special character use here like this"
   ]
  },
  {
   "cell_type": "code",
   "execution_count": 27,
   "id": "ed59f615-3fae-464b-a9d4-77b2aa840ff2",
   "metadata": {},
   "outputs": [
    {
     "name": "stdout",
     "output_type": "stream",
     "text": [
      "7 .\n"
     ]
    }
   ],
   "source": [
    "print (7,'.')"
   ]
  },
  {
   "cell_type": "code",
   "execution_count": 28,
   "id": "1bf1036b-ae9d-43bc-bcb2-cd8270a37074",
   "metadata": {},
   "outputs": [
    {
     "name": "stdout",
     "output_type": "stream",
     "text": [
      "9.\n"
     ]
    }
   ],
   "source": [
    "print (9,'.',sep='')"
   ]
  },
  {
   "cell_type": "code",
   "execution_count": null,
   "id": "a8ddd0c6-f033-4b86-a78a-47709dac5f2b",
   "metadata": {},
   "outputs": [],
   "source": []
  }
 ],
 "metadata": {
  "kernelspec": {
   "display_name": "Python [conda env:base] *",
   "language": "python",
   "name": "conda-base-py"
  },
  "language_info": {
   "codemirror_mode": {
    "name": "ipython",
    "version": 3
   },
   "file_extension": ".py",
   "mimetype": "text/x-python",
   "name": "python",
   "nbconvert_exporter": "python",
   "pygments_lexer": "ipython3",
   "version": "3.12.7"
  }
 },
 "nbformat": 4,
 "nbformat_minor": 5
}
