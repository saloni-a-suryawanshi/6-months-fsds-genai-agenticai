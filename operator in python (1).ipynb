{
 "cells": [
  {
   "cell_type": "markdown",
   "id": "d57c4c9f-c441-4ebf-9117-575cf6d65f3c",
   "metadata": {},
   "source": [
    "# operator"
   ]
  },
  {
   "cell_type": "markdown",
   "id": "6e1b2b9a-80bb-449e-a4c7-3b94c6f5d8e8",
   "metadata": {},
   "source": [
    "#### 1.Arithmetic operator"
   ]
  },
  {
   "cell_type": "code",
   "execution_count": 5,
   "id": "6aa6eec8-9799-422d-9dd9-8579747fa7e1",
   "metadata": {},
   "outputs": [],
   "source": [
    "a,b=20,5"
   ]
  },
  {
   "cell_type": "code",
   "execution_count": 6,
   "id": "def640af-b791-4867-adaf-4291c9809554",
   "metadata": {},
   "outputs": [
    {
     "data": {
      "text/plain": [
       "25"
      ]
     },
     "execution_count": 6,
     "metadata": {},
     "output_type": "execute_result"
    }
   ],
   "source": [
    "a+b   #addition"
   ]
  },
  {
   "cell_type": "code",
   "execution_count": 7,
   "id": "59c04e49-12cb-4fb2-8cfc-b58809a26537",
   "metadata": {},
   "outputs": [
    {
     "data": {
      "text/plain": [
       "15"
      ]
     },
     "execution_count": 7,
     "metadata": {},
     "output_type": "execute_result"
    }
   ],
   "source": [
    "a - b   #substraction"
   ]
  },
  {
   "cell_type": "code",
   "execution_count": 8,
   "id": "a693ad5d-23a6-4c06-8689-7a207f9f44a8",
   "metadata": {},
   "outputs": [
    {
     "data": {
      "text/plain": [
       "100"
      ]
     },
     "execution_count": 8,
     "metadata": {},
     "output_type": "execute_result"
    }
   ],
   "source": [
    "a * b    #multiplication"
   ]
  },
  {
   "cell_type": "code",
   "execution_count": 9,
   "id": "51a860e9-3941-42d7-8077-f6012bcec7dc",
   "metadata": {},
   "outputs": [
    {
     "data": {
      "text/plain": [
       "4.0"
      ]
     },
     "execution_count": 9,
     "metadata": {},
     "output_type": "execute_result"
    }
   ],
   "source": [
    "a / b   #float division"
   ]
  },
  {
   "cell_type": "code",
   "execution_count": 10,
   "id": "83a85d3d-707e-4779-89b3-3956cd588d5d",
   "metadata": {},
   "outputs": [
    {
     "data": {
      "text/plain": [
       "4"
      ]
     },
     "execution_count": 10,
     "metadata": {},
     "output_type": "execute_result"
    }
   ],
   "source": [
    "a // b   #int division"
   ]
  },
  {
   "cell_type": "code",
   "execution_count": 11,
   "id": "30d9b677-705a-42dd-ab32-e943b981fb3f",
   "metadata": {},
   "outputs": [
    {
     "data": {
      "text/plain": [
       "0"
      ]
     },
     "execution_count": 11,
     "metadata": {},
     "output_type": "execute_result"
    }
   ],
   "source": [
    "a % b    #modulus (remainder)"
   ]
  },
  {
   "cell_type": "code",
   "execution_count": 12,
   "id": "c0bc0ffd-0f90-48c7-8c74-f465f0d932ab",
   "metadata": {},
   "outputs": [
    {
     "data": {
      "text/plain": [
       "3200000"
      ]
     },
     "execution_count": 12,
     "metadata": {},
     "output_type": "execute_result"
    }
   ],
   "source": [
    "a ** b   #power "
   ]
  },
  {
   "cell_type": "code",
   "execution_count": 14,
   "id": "0f62e3e7-185d-48b5-9cc4-d476c49877b9",
   "metadata": {},
   "outputs": [
    {
     "data": {
      "text/plain": [
       "4"
      ]
     },
     "execution_count": 14,
     "metadata": {},
     "output_type": "execute_result"
    }
   ],
   "source": [
    "m=2     \n",
    "m**m"
   ]
  },
  {
   "cell_type": "code",
   "execution_count": 15,
   "id": "887e26cb-e807-4b06-95e0-3186850e3338",
   "metadata": {},
   "outputs": [
    {
     "data": {
      "text/plain": [
       "27"
      ]
     },
     "execution_count": 15,
     "metadata": {},
     "output_type": "execute_result"
    }
   ],
   "source": [
    "n = 3\n",
    "n ** n"
   ]
  },
  {
   "cell_type": "code",
   "execution_count": null,
   "id": "120c6d57-7504-4ca8-a76a-3ba5727a92a4",
   "metadata": {},
   "outputs": [],
   "source": []
  },
  {
   "cell_type": "markdown",
   "id": "99dac4be-3c1a-4c27-93c8-00de4f3aeda0",
   "metadata": {},
   "source": [
    "#### 2.Assignment operator"
   ]
  },
  {
   "cell_type": "code",
   "execution_count": 42,
   "id": "c94cf751-f617-4fa0-b2ca-68290cfa2874",
   "metadata": {},
   "outputs": [
    {
     "data": {
      "text/plain": [
       "6"
      ]
     },
     "execution_count": 42,
     "metadata": {},
     "output_type": "execute_result"
    }
   ],
   "source": [
    "z = 6\n",
    "z"
   ]
  },
  {
   "cell_type": "code",
   "execution_count": 43,
   "id": "5753370d-7cbe-4dd3-a3e2-603f931f8037",
   "metadata": {},
   "outputs": [
    {
     "data": {
      "text/plain": [
       "8"
      ]
     },
     "execution_count": 43,
     "metadata": {},
     "output_type": "execute_result"
    }
   ],
   "source": [
    "z = z+2    \n",
    "z"
   ]
  },
  {
   "cell_type": "code",
   "execution_count": 44,
   "id": "dd281e39-6986-4d1d-a4cd-bdaf4a08adfc",
   "metadata": {},
   "outputs": [
    {
     "data": {
      "text/plain": [
       "10"
      ]
     },
     "execution_count": 44,
     "metadata": {},
     "output_type": "execute_result"
    }
   ],
   "source": [
    "z += 2      # addition assignment\n",
    "z"
   ]
  },
  {
   "cell_type": "code",
   "execution_count": 45,
   "id": "e11c45f9-0204-4631-927d-cdb04022edf8",
   "metadata": {},
   "outputs": [
    {
     "data": {
      "text/plain": [
       "8"
      ]
     },
     "execution_count": 45,
     "metadata": {},
     "output_type": "execute_result"
    }
   ],
   "source": [
    "z -= 2      # substraction assignment \n",
    "z"
   ]
  },
  {
   "cell_type": "code",
   "execution_count": 46,
   "id": "214c7be0-c9f8-481c-930e-5dd7107d5b2f",
   "metadata": {},
   "outputs": [
    {
     "data": {
      "text/plain": [
       "16"
      ]
     },
     "execution_count": 46,
     "metadata": {},
     "output_type": "execute_result"
    }
   ],
   "source": [
    "z *=2      #multiplication assignment\n",
    "z"
   ]
  },
  {
   "cell_type": "code",
   "execution_count": 47,
   "id": "d9f983bd-0252-42fc-87de-869bc80103bc",
   "metadata": {},
   "outputs": [
    {
     "data": {
      "text/plain": [
       "8.0"
      ]
     },
     "execution_count": 47,
     "metadata": {},
     "output_type": "execute_result"
    }
   ],
   "source": [
    "z /=2      # division assigment\n",
    "z "
   ]
  },
  {
   "cell_type": "code",
   "execution_count": 48,
   "id": "4a4f26df-a872-4e17-8066-cc2c4e4a1ebf",
   "metadata": {},
   "outputs": [],
   "source": [
    "z //=2       # floor division assignment"
   ]
  },
  {
   "cell_type": "code",
   "execution_count": 49,
   "id": "031d0388-5636-43ee-89d6-f1b28f542933",
   "metadata": {},
   "outputs": [
    {
     "data": {
      "text/plain": [
       "4.0"
      ]
     },
     "execution_count": 49,
     "metadata": {},
     "output_type": "execute_result"
    }
   ],
   "source": [
    "z"
   ]
  },
  {
   "cell_type": "code",
   "execution_count": 50,
   "id": "43f90645-927b-450c-abda-6860042ddef3",
   "metadata": {},
   "outputs": [
    {
     "data": {
      "text/plain": [
       "0.0"
      ]
     },
     "execution_count": 50,
     "metadata": {},
     "output_type": "execute_result"
    }
   ],
   "source": [
    "z %= 2     #modulus assignment\n",
    "z"
   ]
  },
  {
   "cell_type": "code",
   "execution_count": 51,
   "id": "eb3dffa8-6933-417b-8bb6-5588568a1605",
   "metadata": {},
   "outputs": [
    {
     "name": "stdout",
     "output_type": "stream",
     "text": [
      "10\n",
      "20\n"
     ]
    }
   ],
   "source": [
    "a,b = 10,20   # assign variable in one line\n",
    "print(a)\n",
    "print(b)"
   ]
  },
  {
   "cell_type": "code",
   "execution_count": 52,
   "id": "59201a12-59f2-4aca-8fc5-b17cc74afae8",
   "metadata": {},
   "outputs": [
    {
     "name": "stdout",
     "output_type": "stream",
     "text": [
      "20\n",
      "10\n"
     ]
    }
   ],
   "source": [
    "a = 20\n",
    "b = 10\n",
    "print (a)\n",
    "print (b)"
   ]
  },
  {
   "cell_type": "code",
   "execution_count": null,
   "id": "3027a643-bda9-4896-b58c-82f2bf45c759",
   "metadata": {},
   "outputs": [],
   "source": []
  },
  {
   "cell_type": "markdown",
   "id": "535e5dc3-3d16-4927-886c-bd46930c785f",
   "metadata": {},
   "source": [
    "#### 3.Unary operator"
   ]
  },
  {
   "cell_type": "code",
   "execution_count": 53,
   "id": "054e0b6f-f744-476e-9151-dc1a9c60cfec",
   "metadata": {},
   "outputs": [
    {
     "data": {
      "text/plain": [
       "4"
      ]
     },
     "execution_count": 53,
     "metadata": {},
     "output_type": "execute_result"
    }
   ],
   "source": [
    "u = 4     # negation apply  \n",
    "u"
   ]
  },
  {
   "cell_type": "code",
   "execution_count": 54,
   "id": "982bc50d-beef-424d-a0a8-9dfd59f7389a",
   "metadata": {},
   "outputs": [],
   "source": [
    " k = -(u)"
   ]
  },
  {
   "cell_type": "code",
   "execution_count": 55,
   "id": "732e57a7-b691-4219-a39c-ee85a3e6ea42",
   "metadata": {},
   "outputs": [
    {
     "data": {
      "text/plain": [
       "-4"
      ]
     },
     "execution_count": 55,
     "metadata": {},
     "output_type": "execute_result"
    }
   ],
   "source": [
    "k"
   ]
  },
  {
   "cell_type": "code",
   "execution_count": 56,
   "id": "847a3ad4-c4da-4523-adb7-cdb73d7e2052",
   "metadata": {},
   "outputs": [
    {
     "data": {
      "text/plain": [
       "4"
      ]
     },
     "execution_count": 56,
     "metadata": {},
     "output_type": "execute_result"
    }
   ],
   "source": [
    "u"
   ]
  },
  {
   "cell_type": "code",
   "execution_count": 57,
   "id": "2d3f37c6-42b5-4486-9cfd-f58e0046906d",
   "metadata": {},
   "outputs": [
    {
     "data": {
      "text/plain": [
       "-4"
      ]
     },
     "execution_count": 57,
     "metadata": {},
     "output_type": "execute_result"
    }
   ],
   "source": [
    "-u"
   ]
  },
  {
   "cell_type": "code",
   "execution_count": null,
   "id": "0f2d1f25-b78c-4beb-8a39-eaedb9fe1a47",
   "metadata": {},
   "outputs": [],
   "source": []
  },
  {
   "cell_type": "markdown",
   "id": "7eab655f-6ede-4217-8ee9-e667de74298a",
   "metadata": {},
   "source": [
    "#### 4.Relational operator "
   ]
  },
  {
   "cell_type": "code",
   "execution_count": 58,
   "id": "0c87d334-eb6d-45d5-9acc-244efc526b5a",
   "metadata": {},
   "outputs": [],
   "source": [
    "s = 10\n",
    "t = 5"
   ]
  },
  {
   "cell_type": "code",
   "execution_count": 60,
   "id": "19856d50-88f1-48a1-a040-b67bfd0b27c0",
   "metadata": {},
   "outputs": [
    {
     "data": {
      "text/plain": [
       "True"
      ]
     },
     "execution_count": 60,
     "metadata": {},
     "output_type": "execute_result"
    }
   ],
   "source": [
    "s > t   ##greater than"
   ]
  },
  {
   "cell_type": "code",
   "execution_count": 61,
   "id": "d82abd00-c7b2-4442-8b9c-db24b9dd3fb7",
   "metadata": {},
   "outputs": [
    {
     "data": {
      "text/plain": [
       "False"
      ]
     },
     "execution_count": 61,
     "metadata": {},
     "output_type": "execute_result"
    }
   ],
   "source": [
    "s < t     #less than"
   ]
  },
  {
   "cell_type": "code",
   "execution_count": 62,
   "id": "2317c6fa-5e0d-4105-8a7c-3a16dd4c4e27",
   "metadata": {},
   "outputs": [
    {
     "data": {
      "text/plain": [
       "True"
      ]
     },
     "execution_count": 62,
     "metadata": {},
     "output_type": "execute_result"
    }
   ],
   "source": [
    "s >= t   #greater than equal to"
   ]
  },
  {
   "cell_type": "code",
   "execution_count": 64,
   "id": "b48a2222-7a60-4618-83c8-2bd54c66efb4",
   "metadata": {},
   "outputs": [
    {
     "data": {
      "text/plain": [
       "False"
      ]
     },
     "execution_count": 64,
     "metadata": {},
     "output_type": "execute_result"
    }
   ],
   "source": [
    "s <= t     # less than equal to"
   ]
  },
  {
   "cell_type": "code",
   "execution_count": 65,
   "id": "e6b361d1-a2f1-485f-b9c5-6ff25f946538",
   "metadata": {},
   "outputs": [
    {
     "data": {
      "text/plain": [
       "True"
      ]
     },
     "execution_count": 65,
     "metadata": {},
     "output_type": "execute_result"
    }
   ],
   "source": [
    "s != t  # not equal to"
   ]
  },
  {
   "cell_type": "code",
   "execution_count": 66,
   "id": "30f37b83-0479-40d5-a69b-9178f7906401",
   "metadata": {},
   "outputs": [
    {
     "data": {
      "text/plain": [
       "False"
      ]
     },
     "execution_count": 66,
     "metadata": {},
     "output_type": "execute_result"
    }
   ],
   "source": [
    "s == t   # equal to"
   ]
  },
  {
   "cell_type": "code",
   "execution_count": 67,
   "id": "2c8db2f4-8948-405c-96d7-48b134f8c798",
   "metadata": {},
   "outputs": [],
   "source": [
    "# if we take \n",
    "a = 20\n",
    "b = 20\n"
   ]
  },
  {
   "cell_type": "code",
   "execution_count": 68,
   "id": "bdc05e8b-eac1-45b7-92c2-a0902dbf7b40",
   "metadata": {},
   "outputs": [
    {
     "data": {
      "text/plain": [
       "True"
      ]
     },
     "execution_count": 68,
     "metadata": {},
     "output_type": "execute_result"
    }
   ],
   "source": [
    "a == b  # equal to"
   ]
  },
  {
   "cell_type": "code",
   "execution_count": null,
   "id": "b39b07c2-d88f-4d15-83dc-d43788b8f593",
   "metadata": {},
   "outputs": [],
   "source": []
  },
  {
   "cell_type": "markdown",
   "id": "bd0b43c0-e834-44f7-8298-390e9df62c4c",
   "metadata": {},
   "source": [
    "#### 5.Logical operator"
   ]
  },
  {
   "cell_type": "code",
   "execution_count": 69,
   "id": "0b74a5b2-3021-4040-9378-bba30012c64b",
   "metadata": {},
   "outputs": [],
   "source": [
    "g = 10\n",
    "h = 5"
   ]
  },
  {
   "cell_type": "code",
   "execution_count": 70,
   "id": "7eae9382-746c-41d6-b570-350e444dd885",
   "metadata": {},
   "outputs": [
    {
     "data": {
      "text/plain": [
       "True"
      ]
     },
     "execution_count": 70,
     "metadata": {},
     "output_type": "execute_result"
    }
   ],
   "source": [
    "g < 20 and h < 8   ### fro truth table"
   ]
  },
  {
   "cell_type": "code",
   "execution_count": 71,
   "id": "14ef5cb6-5ba6-4ae9-8144-3d1037f1b5c3",
   "metadata": {},
   "outputs": [
    {
     "data": {
      "text/plain": [
       "False"
      ]
     },
     "execution_count": 71,
     "metadata": {},
     "output_type": "execute_result"
    }
   ],
   "source": [
    "g > 15 and h >7"
   ]
  },
  {
   "cell_type": "code",
   "execution_count": 73,
   "id": "1ef61044-e432-408d-9567-32bba58aa17d",
   "metadata": {},
   "outputs": [
    {
     "data": {
      "text/plain": [
       "True"
      ]
     },
     "execution_count": 73,
     "metadata": {},
     "output_type": "execute_result"
    }
   ],
   "source": [
    "g < 20 or h < 8"
   ]
  },
  {
   "cell_type": "code",
   "execution_count": 74,
   "id": "e42800a4-7c63-4221-9a27-6b5aaf2c3697",
   "metadata": {},
   "outputs": [
    {
     "data": {
      "text/plain": [
       "False"
      ]
     },
     "execution_count": 74,
     "metadata": {},
     "output_type": "execute_result"
    }
   ],
   "source": [
    "g > 15 or h >7"
   ]
  },
  {
   "cell_type": "code",
   "execution_count": 76,
   "id": "93c541cc-cf0c-4613-b28e-5aeab1f42e7c",
   "metadata": {},
   "outputs": [
    {
     "data": {
      "text/plain": [
       "False"
      ]
     },
     "execution_count": 76,
     "metadata": {},
     "output_type": "execute_result"
    }
   ],
   "source": [
    "not g     ### reverse the operation"
   ]
  },
  {
   "cell_type": "code",
   "execution_count": 77,
   "id": "3ee38d07-a46e-4cf4-8799-c449e99949be",
   "metadata": {},
   "outputs": [
    {
     "data": {
      "text/plain": [
       "False"
      ]
     },
     "execution_count": 77,
     "metadata": {},
     "output_type": "execute_result"
    }
   ],
   "source": [
    "g = not g\n",
    "g"
   ]
  },
  {
   "cell_type": "code",
   "execution_count": null,
   "id": "6eeae941-21bf-4938-ba1b-9323ebd4979f",
   "metadata": {},
   "outputs": [],
   "source": []
  },
  {
   "cell_type": "markdown",
   "id": "00c07261-5327-45c1-a918-3f30ad53f57d",
   "metadata": {},
   "source": [
    "#### 6.Bitwise operator "
   ]
  },
  {
   "cell_type": "code",
   "execution_count": 79,
   "id": "b3bbd68d-ed44-4c95-85fa-901a994f189e",
   "metadata": {},
   "outputs": [
    {
     "data": {
      "text/plain": [
       "-17"
      ]
     },
     "execution_count": 79,
     "metadata": {},
     "output_type": "execute_result"
    }
   ],
   "source": [
    "~16   ## comliment "
   ]
  },
  {
   "cell_type": "code",
   "execution_count": 80,
   "id": "2d383a9e-9148-40b6-ac1e-91f68735d222",
   "metadata": {},
   "outputs": [
    {
     "data": {
      "text/plain": [
       "-56"
      ]
     },
     "execution_count": 80,
     "metadata": {},
     "output_type": "execute_result"
    }
   ],
   "source": [
    "~55"
   ]
  },
  {
   "cell_type": "code",
   "execution_count": 81,
   "id": "e1efcb78-55e5-4e8f-bc1b-0c9700acdbc9",
   "metadata": {},
   "outputs": [
    {
     "data": {
      "text/plain": [
       "22"
      ]
     },
     "execution_count": 81,
     "metadata": {},
     "output_type": "execute_result"
    }
   ],
   "source": [
    "22 & 23   #### & "
   ]
  },
  {
   "cell_type": "code",
   "execution_count": 1,
   "id": "bdb89984-991e-49f5-97cd-d406333e4309",
   "metadata": {},
   "outputs": [
    {
     "data": {
      "text/plain": [
       "23"
      ]
     },
     "execution_count": 1,
     "metadata": {},
     "output_type": "execute_result"
    }
   ],
   "source": [
    "22 | 23"
   ]
  },
  {
   "cell_type": "code",
   "execution_count": 83,
   "id": "7562c7b2-da0d-47f4-b22f-7d4045a3b9ad",
   "metadata": {},
   "outputs": [
    {
     "data": {
      "text/plain": [
       "18"
      ]
     },
     "execution_count": 83,
     "metadata": {},
     "output_type": "execute_result"
    }
   ],
   "source": [
    "26 & 23"
   ]
  },
  {
   "cell_type": "code",
   "execution_count": 84,
   "id": "bd7c102c-8101-4d7d-bc6e-9f239d3097b2",
   "metadata": {},
   "outputs": [
    {
     "data": {
      "text/plain": [
       "23"
      ]
     },
     "execution_count": 84,
     "metadata": {},
     "output_type": "execute_result"
    }
   ],
   "source": [
    "22 | 23   #### |"
   ]
  },
  {
   "cell_type": "code",
   "execution_count": 85,
   "id": "b206f97a-f9bc-4cc5-bc04-6b82644ff5be",
   "metadata": {},
   "outputs": [
    {
     "data": {
      "text/plain": [
       "31"
      ]
     },
     "execution_count": 85,
     "metadata": {},
     "output_type": "execute_result"
    }
   ],
   "source": [
    " 26 | 23"
   ]
  },
  {
   "cell_type": "code",
   "execution_count": 86,
   "id": "0e5d19ea-76c8-46de-8565-59f46317b85f",
   "metadata": {},
   "outputs": [
    {
     "data": {
      "text/plain": [
       "0"
      ]
     },
     "execution_count": 86,
     "metadata": {},
     "output_type": "execute_result"
    }
   ],
   "source": [
    "1 & 0"
   ]
  },
  {
   "cell_type": "code",
   "execution_count": 87,
   "id": "a5a04421-d974-4ee0-a5cb-ca75bcc08c75",
   "metadata": {},
   "outputs": [
    {
     "data": {
      "text/plain": [
       "1"
      ]
     },
     "execution_count": 87,
     "metadata": {},
     "output_type": "execute_result"
    }
   ],
   "source": [
    "1 | 0"
   ]
  },
  {
   "cell_type": "code",
   "execution_count": 89,
   "id": "dd989efd-517b-4396-9f9b-e0a16489de88",
   "metadata": {},
   "outputs": [
    {
     "data": {
      "text/plain": [
       "15"
      ]
     },
     "execution_count": 89,
     "metadata": {},
     "output_type": "execute_result"
    }
   ],
   "source": [
    " 23 ^ 24    # xor Sets each bit to 1 if only one is 1"
   ]
  },
  {
   "cell_type": "code",
   "execution_count": 91,
   "id": "68f3621d-b500-4446-b059-f87407324fca",
   "metadata": {},
   "outputs": [
    {
     "data": {
      "text/plain": [
       "40"
      ]
     },
     "execution_count": 91,
     "metadata": {},
     "output_type": "execute_result"
    }
   ],
   "source": [
    "10 << 2   #<< (Left Shift)\tShifts bits to the left (multiply by 2)\n"
   ]
  },
  {
   "cell_type": "code",
   "execution_count": 92,
   "id": "8ac39064-38f3-4068-b6ef-7f657d81f0ae",
   "metadata": {},
   "outputs": [
    {
     "data": {
      "text/plain": [
       "2"
      ]
     },
     "execution_count": 92,
     "metadata": {},
     "output_type": "execute_result"
    }
   ],
   "source": [
    "10 >> 2 #<< (right shift)  shifts bits to the right (divided by 2)"
   ]
  },
  {
   "cell_type": "code",
   "execution_count": null,
   "id": "e6c6e839-11d1-4585-a3a6-e91a5de21b2b",
   "metadata": {},
   "outputs": [],
   "source": []
  }
 ],
 "metadata": {
  "kernelspec": {
   "display_name": "Python [conda env:base] *",
   "language": "python",
   "name": "conda-base-py"
  },
  "language_info": {
   "codemirror_mode": {
    "name": "ipython",
    "version": 3
   },
   "file_extension": ".py",
   "mimetype": "text/x-python",
   "name": "python",
   "nbconvert_exporter": "python",
   "pygments_lexer": "ipython3",
   "version": "3.12.7"
  }
 },
 "nbformat": 4,
 "nbformat_minor": 5
}
