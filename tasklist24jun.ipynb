{
 "cells": [
  {
   "cell_type": "markdown",
   "id": "aec9309e-0207-4cdd-bb2a-7274401a4dc2",
   "metadata": {},
   "source": [
    "# list"
   ]
  },
  {
   "cell_type": "code",
   "execution_count": 1,
   "id": "2dd26254-eb53-4c47-8a46-e8ba815b396b",
   "metadata": {},
   "outputs": [
    {
     "data": {
      "text/plain": [
       "'abc def ghi'"
      ]
     },
     "execution_count": 1,
     "metadata": {},
     "output_type": "execute_result"
    }
   ],
   "source": [
    "txt =\" abc def ghi\"\n",
    "txt.strip()"
   ]
  },
  {
   "cell_type": "code",
   "execution_count": 4,
   "id": "160f76d6-148f-40b3-a35c-10c5726d533c",
   "metadata": {},
   "outputs": [
    {
     "data": {
      "text/plain": [
       "'abc def ghi      '"
      ]
     },
     "execution_count": 4,
     "metadata": {},
     "output_type": "execute_result"
    }
   ],
   "source": [
    "txt =\"    abc def ghi      \"\n",
    "txt.lstrip()"
   ]
  },
  {
   "cell_type": "code",
   "execution_count": 5,
   "id": "82529bfb-8701-46ed-ae7a-d55da2129b39",
   "metadata": {},
   "outputs": [
    {
     "data": {
      "text/plain": [
       "'      abc df ghi jks ududh'"
      ]
     },
     "execution_count": 5,
     "metadata": {},
     "output_type": "execute_result"
    }
   ],
   "source": [
    "txt=\"      abc df ghi jks ududh          \"\n",
    "txt.rstrip()"
   ]
  },
  {
   "cell_type": "markdown",
   "id": "8b8b5e6f-1656-464b-8f0c-525c130ef9a0",
   "metadata": {},
   "source": [
    "# list creation"
   ]
  },
  {
   "cell_type": "code",
   "execution_count": 1,
   "id": "22f913b7-8022-4bd2-bcd7-582607e80c4a",
   "metadata": {},
   "outputs": [],
   "source": [
    "list1 =[]    #empty list"
   ]
  },
  {
   "cell_type": "code",
   "execution_count": 7,
   "id": "bc5f5363-b7ef-448d-8d24-73e0dcd13c4e",
   "metadata": {},
   "outputs": [
    {
     "name": "stdout",
     "output_type": "stream",
     "text": [
      "<class 'list'>\n"
     ]
    }
   ],
   "source": [
    "print (type (list1))"
   ]
  },
  {
   "cell_type": "code",
   "execution_count": 10,
   "id": "bd279860-2cb8-46a6-8f70-2c6b6364a691",
   "metadata": {},
   "outputs": [
    {
     "data": {
      "text/plain": [
       "[10, 20, 30, 45, 24, 87, 96]"
      ]
     },
     "execution_count": 10,
     "metadata": {},
     "output_type": "execute_result"
    }
   ],
   "source": [
    "list2 = [10,20,30,45,24,87,96]    #list of integer\n",
    "list2"
   ]
  },
  {
   "cell_type": "code",
   "execution_count": 14,
   "id": "f8277a28-3579-4391-8249-2161abf21c2e",
   "metadata": {},
   "outputs": [
    {
     "data": {
      "text/plain": [
       "[28.33, 56.37, 67.38, 908.34]"
      ]
     },
     "execution_count": 14,
     "metadata": {},
     "output_type": "execute_result"
    }
   ],
   "source": [
    "list3 = [28.33,56.37,67.38,908.34]    #list of float\n",
    "list3"
   ]
  },
  {
   "cell_type": "code",
   "execution_count": 13,
   "id": "20c935db-91fc-4744-9c40-9322936f6cc8",
   "metadata": {},
   "outputs": [
    {
     "data": {
      "text/plain": [
       "['rtr', 'ewty', 'yuhg', 'hfsu', 'dusk']"
      ]
     },
     "execution_count": 13,
     "metadata": {},
     "output_type": "execute_result"
    }
   ],
   "source": [
    "list4= [ \"rtr\",\"ewty\",\"yuhg\",\"hfsu\",\"dusk\"]     #list of string\n",
    "list4"
   ]
  },
  {
   "cell_type": "code",
   "execution_count": 17,
   "id": "a1edb15f-529f-4f85-8d5d-3dc904b4954f",
   "metadata": {},
   "outputs": [
    {
     "data": {
      "text/plain": [
       "['ram', 45, [67, 82], [54, 67], [56, 90]]"
      ]
     },
     "execution_count": 17,
     "metadata": {},
     "output_type": "execute_result"
    }
   ],
   "source": [
    "list4 = ['ram',45,[67,82],[54,67],[56,90]]   #nested list\n",
    "list4"
   ]
  },
  {
   "cell_type": "code",
   "execution_count": 18,
   "id": "91abb8dc-0cc8-4e58-b52f-3b9d4ee37cbb",
   "metadata": {},
   "outputs": [
    {
     "data": {
      "text/plain": [
       "['rsg', 67.56, 90]"
      ]
     },
     "execution_count": 18,
     "metadata": {},
     "output_type": "execute_result"
    }
   ],
   "source": [
    "list5= ['rsg',67.56,90]    #mixed datatype list\n",
    "list5"
   ]
  },
  {
   "cell_type": "code",
   "execution_count": 19,
   "id": "e3f8dc9b-3baa-46e1-a34c-373f4f6a8e1e",
   "metadata": {},
   "outputs": [
    {
     "data": {
      "text/plain": [
       "['ram', 56, [45, 37], [76, 30], {'govind', 'radha'}]"
      ]
     },
     "execution_count": 19,
     "metadata": {},
     "output_type": "execute_result"
    }
   ],
   "source": [
    "list6 =['ram',56,[45,37],[76,30],{'radha','govind'}]   #nested list\n",
    "list6"
   ]
  },
  {
   "cell_type": "code",
   "execution_count": 20,
   "id": "d4a80432-3503-45cf-b6c5-7c0f0a2d8818",
   "metadata": {},
   "outputs": [
    {
     "data": {
      "text/plain": [
       "5"
      ]
     },
     "execution_count": 20,
     "metadata": {},
     "output_type": "execute_result"
    }
   ],
   "source": [
    "len(list6)     #length of list"
   ]
  },
  {
   "cell_type": "code",
   "execution_count": 21,
   "id": "6ec8d770-8356-4578-8c67-3ef47bac4015",
   "metadata": {},
   "outputs": [
    {
     "data": {
      "text/plain": [
       "5"
      ]
     },
     "execution_count": 21,
     "metadata": {},
     "output_type": "execute_result"
    }
   ],
   "source": [
    "len (list4)"
   ]
  },
  {
   "cell_type": "code",
   "execution_count": 27,
   "id": "c92ebf66-29d4-4402-a117-4bf2b2203c0a",
   "metadata": {},
   "outputs": [
    {
     "data": {
      "text/plain": [
       "4"
      ]
     },
     "execution_count": 27,
     "metadata": {},
     "output_type": "execute_result"
    }
   ],
   "source": [
    "len(list3)"
   ]
  },
  {
   "cell_type": "code",
   "execution_count": 23,
   "id": "095093b1-f798-4585-8057-bef75340c6a2",
   "metadata": {},
   "outputs": [
    {
     "data": {
      "text/plain": [
       "3"
      ]
     },
     "execution_count": 23,
     "metadata": {},
     "output_type": "execute_result"
    }
   ],
   "source": [
    "len(list5)"
   ]
  },
  {
   "cell_type": "code",
   "execution_count": 24,
   "id": "cd876078-a0a6-4c62-b259-2c9b7f847b77",
   "metadata": {},
   "outputs": [
    {
     "data": {
      "text/plain": [
       "45"
      ]
     },
     "execution_count": 24,
     "metadata": {},
     "output_type": "execute_result"
    }
   ],
   "source": [
    "list2[3]   #retrive the index"
   ]
  },
  {
   "cell_type": "code",
   "execution_count": 26,
   "id": "267833e0-961a-48d9-9a60-48b213122cae",
   "metadata": {},
   "outputs": [
    {
     "data": {
      "text/plain": [
       "[54, 67]"
      ]
     },
     "execution_count": 26,
     "metadata": {},
     "output_type": "execute_result"
    }
   ],
   "source": [
    "list4[3]"
   ]
  },
  {
   "cell_type": "code",
   "execution_count": 28,
   "id": "b1522dd3-a9e1-4438-a6b8-9474320cf074",
   "metadata": {},
   "outputs": [
    {
     "data": {
      "text/plain": [
       "{'govind', 'radha'}"
      ]
     },
     "execution_count": 28,
     "metadata": {},
     "output_type": "execute_result"
    }
   ],
   "source": [
    "list6[4]"
   ]
  },
  {
   "cell_type": "code",
   "execution_count": 30,
   "id": "dfed69d1-cf6f-4e2a-9e0a-8688e9be8b74",
   "metadata": {},
   "outputs": [
    {
     "data": {
      "text/plain": [
       "908.34"
      ]
     },
     "execution_count": 30,
     "metadata": {},
     "output_type": "execute_result"
    }
   ],
   "source": [
    "list3[3]"
   ]
  },
  {
   "cell_type": "code",
   "execution_count": 32,
   "id": "fbe06f48-00fb-4c8b-92bf-85f922b67ba2",
   "metadata": {},
   "outputs": [
    {
     "data": {
      "text/plain": [
       "90"
      ]
     },
     "execution_count": 32,
     "metadata": {},
     "output_type": "execute_result"
    }
   ],
   "source": [
    "list5[2]"
   ]
  },
  {
   "cell_type": "code",
   "execution_count": 42,
   "id": "d6537a94-ad98-49c5-bbff-b3e60d80ba0b",
   "metadata": {},
   "outputs": [
    {
     "data": {
      "text/plain": [
       "['ram', 45, [67, 82], [54, 67], [56, 90]]"
      ]
     },
     "execution_count": 42,
     "metadata": {},
     "output_type": "execute_result"
    }
   ],
   "source": [
    "list4"
   ]
  },
  {
   "cell_type": "markdown",
   "id": "d6b28b94-1711-419e-8a16-f277a920d8d7",
   "metadata": {},
   "source": [
    "# indexing"
   ]
  },
  {
   "cell_type": "code",
   "execution_count": 44,
   "id": "de9cea19-6bd0-4ee4-8cb8-0f080284f09a",
   "metadata": {},
   "outputs": [
    {
     "data": {
      "text/plain": [
       "'a'"
      ]
     },
     "execution_count": 44,
     "metadata": {},
     "output_type": "execute_result"
    }
   ],
   "source": [
    "list4[0][1] #nested indexing"
   ]
  },
  {
   "cell_type": "code",
   "execution_count": 41,
   "id": "79874f24-f701-475d-b16d-04189c90fe5b",
   "metadata": {},
   "outputs": [
    {
     "data": {
      "text/plain": [
       "['ram', 56, [45, 37], [76, 30], {'govind', 'radha'}]"
      ]
     },
     "execution_count": 41,
     "metadata": {},
     "output_type": "execute_result"
    }
   ],
   "source": [
    "list6"
   ]
  },
  {
   "cell_type": "code",
   "execution_count": 56,
   "id": "b0fbbfff-fc24-4ce4-bc3d-7a85f7711b95",
   "metadata": {},
   "outputs": [
    {
     "ename": "TypeError",
     "evalue": "'set' object is not subscriptable",
     "output_type": "error",
     "traceback": [
      "\u001b[1;31m---------------------------------------------------------------------------\u001b[0m",
      "\u001b[1;31mTypeError\u001b[0m                                 Traceback (most recent call last)",
      "Cell \u001b[1;32mIn[56], line 1\u001b[0m\n\u001b[1;32m----> 1\u001b[0m list6 [\u001b[38;5;241m4\u001b[39m][\u001b[38;5;241m0\u001b[39m]\n",
      "\u001b[1;31mTypeError\u001b[0m: 'set' object is not subscriptable"
     ]
    }
   ],
   "source": [
    "list6 [4][0]"
   ]
  },
  {
   "cell_type": "code",
   "execution_count": 58,
   "id": "214ecb23-d02c-4ae9-9e2e-629069c080d1",
   "metadata": {},
   "outputs": [
    {
     "data": {
      "text/plain": [
       "['ram',\n",
       " 'sita',\n",
       " 'laxman',\n",
       " ['dashrad', 'kaikai', 'kaushlya', 'saumitra'],\n",
       " ['radha', 'govind', 'mira', 'rukmini'],\n",
       " ['arjun', 'draupadi', 'bheem', 'nakul', 'sahdev', 'yudhistrir']]"
      ]
     },
     "execution_count": 58,
     "metadata": {},
     "output_type": "execute_result"
    }
   ],
   "source": [
    "list7 = ['ram','sita','laxman',['dashrad','kaikai','kaushlya','saumitra'],\n",
    "         ['radha','govind','mira','rukmini'],['arjun','draupadi','bheem','nakul','sahdev','yudhistrir']]\n",
    "list7"
   ]
  },
  {
   "cell_type": "code",
   "execution_count": 59,
   "id": "73efa917-2f3a-481f-a87d-9b403b323f70",
   "metadata": {},
   "outputs": [
    {
     "data": {
      "text/plain": [
       "'rukmini'"
      ]
     },
     "execution_count": 59,
     "metadata": {},
     "output_type": "execute_result"
    }
   ],
   "source": [
    "list7 [4][3]"
   ]
  },
  {
   "cell_type": "code",
   "execution_count": 60,
   "id": "cc0ec042-78dc-4802-bfef-7da9e134bd1f",
   "metadata": {},
   "outputs": [
    {
     "data": {
      "text/plain": [
       "'x'"
      ]
     },
     "execution_count": 60,
     "metadata": {},
     "output_type": "execute_result"
    }
   ],
   "source": [
    "list7 [2][2]"
   ]
  },
  {
   "cell_type": "code",
   "execution_count": 62,
   "id": "e0d68422-6e1b-4fd3-bcc9-ab18236c1ed9",
   "metadata": {},
   "outputs": [
    {
     "data": {
      "text/plain": [
       "'bheem'"
      ]
     },
     "execution_count": 62,
     "metadata": {},
     "output_type": "execute_result"
    }
   ],
   "source": [
    "list7 [5][2]"
   ]
  },
  {
   "cell_type": "code",
   "execution_count": 63,
   "id": "3e38d3d1-7615-4c6d-9242-1e52a83d9672",
   "metadata": {},
   "outputs": [
    {
     "data": {
      "text/plain": [
       "'sahdev'"
      ]
     },
     "execution_count": 63,
     "metadata": {},
     "output_type": "execute_result"
    }
   ],
   "source": [
    "list7 [5][4]"
   ]
  },
  {
   "cell_type": "code",
   "execution_count": 64,
   "id": "905d6d31-de46-4634-8fbc-b02637ab0644",
   "metadata": {},
   "outputs": [
    {
     "data": {
      "text/plain": [
       "['arjun', 'draupadi', 'bheem', 'nakul', 'sahdev', 'yudhistrir']"
      ]
     },
     "execution_count": 64,
     "metadata": {},
     "output_type": "execute_result"
    }
   ],
   "source": [
    "list7 [-1]   #last item of list"
   ]
  },
  {
   "cell_type": "code",
   "execution_count": 65,
   "id": "cbd452eb-5828-41c3-a9c1-4e7d415369ec",
   "metadata": {},
   "outputs": [
    {
     "data": {
      "text/plain": [
       "'sahdev'"
      ]
     },
     "execution_count": 65,
     "metadata": {},
     "output_type": "execute_result"
    }
   ],
   "source": [
    "list7 [-1][-2]"
   ]
  },
  {
   "cell_type": "code",
   "execution_count": 66,
   "id": "cbaf8c2a-182b-463b-b336-56cdc04a32bd",
   "metadata": {},
   "outputs": [
    {
     "data": {
      "text/plain": [
       "'bheem'"
      ]
     },
     "execution_count": 66,
     "metadata": {},
     "output_type": "execute_result"
    }
   ],
   "source": [
    "list7 [-1][-4]  #backwaed indexing"
   ]
  },
  {
   "cell_type": "code",
   "execution_count": 67,
   "id": "fa1d6581-d7cc-4656-8c3f-8150bd6441d0",
   "metadata": {},
   "outputs": [
    {
     "data": {
      "text/plain": [
       "'govind'"
      ]
     },
     "execution_count": 67,
     "metadata": {},
     "output_type": "execute_result"
    }
   ],
   "source": [
    "list7[-2][-3]"
   ]
  },
  {
   "cell_type": "markdown",
   "id": "bd4eb875-8858-4827-9055-dbd9d03c0e01",
   "metadata": {},
   "source": [
    "# slicing"
   ]
  },
  {
   "cell_type": "code",
   "execution_count": 68,
   "id": "b184e160-362d-41b1-ae9f-bc72ae2483b3",
   "metadata": {},
   "outputs": [
    {
     "data": {
      "text/plain": [
       "['0ne', 'two', 'three', 'four', 'five', 'six', 'six']"
      ]
     },
     "execution_count": 68,
     "metadata": {},
     "output_type": "execute_result"
    }
   ],
   "source": [
    "mylist = ['0ne','two','three','four','five','six','six']\n",
    "mylist"
   ]
  },
  {
   "cell_type": "code",
   "execution_count": 69,
   "id": "a4a284a1-9aac-45f3-aae2-fe47089acedf",
   "metadata": {},
   "outputs": [
    {
     "data": {
      "text/plain": [
       "['0ne', 'two', 'three']"
      ]
     },
     "execution_count": 69,
     "metadata": {},
     "output_type": "execute_result"
    }
   ],
   "source": [
    "mylist[0:3]"
   ]
  },
  {
   "cell_type": "code",
   "execution_count": 70,
   "id": "7b8b3a27-78e8-4379-912f-768a01d46507",
   "metadata": {},
   "outputs": [
    {
     "data": {
      "text/plain": [
       "['two', 'three', 'four', 'five']"
      ]
     },
     "execution_count": 70,
     "metadata": {},
     "output_type": "execute_result"
    }
   ],
   "source": [
    "mylist[1:5]"
   ]
  },
  {
   "cell_type": "code",
   "execution_count": 71,
   "id": "82f0385b-064c-4089-b37d-dfbe0c0334bb",
   "metadata": {},
   "outputs": [
    {
     "data": {
      "text/plain": [
       "['three', 'four', 'five', 'six', 'six']"
      ]
     },
     "execution_count": 71,
     "metadata": {},
     "output_type": "execute_result"
    }
   ],
   "source": [
    "mylist[2:7]"
   ]
  },
  {
   "cell_type": "code",
   "execution_count": 72,
   "id": "ffbd7a4a-9427-4974-86a1-2a226eda861e",
   "metadata": {},
   "outputs": [
    {
     "data": {
      "text/plain": [
       "['two', 'three', 'four']"
      ]
     },
     "execution_count": 72,
     "metadata": {},
     "output_type": "execute_result"
    }
   ],
   "source": [
    "mylist[1:4]"
   ]
  },
  {
   "cell_type": "code",
   "execution_count": 73,
   "id": "53cd14cb-6986-4113-b3cd-29dac119bf43",
   "metadata": {},
   "outputs": [
    {
     "data": {
      "text/plain": [
       "['two', 'three', 'four', 'five']"
      ]
     },
     "execution_count": 73,
     "metadata": {},
     "output_type": "execute_result"
    }
   ],
   "source": [
    "mylist[1:5]"
   ]
  },
  {
   "cell_type": "code",
   "execution_count": 74,
   "id": "e5843bed-9887-420f-af95-798702bab8de",
   "metadata": {},
   "outputs": [
    {
     "data": {
      "text/plain": [
       "['0ne', 'two', 'three', 'four', 'five', 'six', 'six']"
      ]
     },
     "execution_count": 74,
     "metadata": {},
     "output_type": "execute_result"
    }
   ],
   "source": [
    "[mylist[ :7]"
   ]
  },
  {
   "cell_type": "code",
   "execution_count": 75,
   "id": "4be0f37c-ad27-42b1-bce5-b2afe574fcd4",
   "metadata": {},
   "outputs": [
    {
     "data": {
      "text/plain": [
       "['0ne', 'two', 'three']"
      ]
     },
     "execution_count": 75,
     "metadata": {},
     "output_type": "execute_result"
    }
   ],
   "source": [
    "mylist[:3]"
   ]
  },
  {
   "cell_type": "code",
   "execution_count": 76,
   "id": "f7ce24b2-a657-4592-8c94-782d71048789",
   "metadata": {},
   "outputs": [
    {
     "data": {
      "text/plain": [
       "['0ne', 'two', 'three', 'four', 'five', 'six', 'six']"
      ]
     },
     "execution_count": 76,
     "metadata": {},
     "output_type": "execute_result"
    }
   ],
   "source": [
    "mylist[:44]"
   ]
  },
  {
   "cell_type": "code",
   "execution_count": 78,
   "id": "9859fce5-a875-4f29-8776-6147656238d3",
   "metadata": {},
   "outputs": [
    {
     "data": {
      "text/plain": [
       "['0ne', 'two', 'three', 'four', 'five', 'six', 'six']"
      ]
     },
     "execution_count": 78,
     "metadata": {},
     "output_type": "execute_result"
    }
   ],
   "source": [
    "mylist"
   ]
  },
  {
   "cell_type": "code",
   "execution_count": 79,
   "id": "fa888e70-0cea-4dc8-a80a-3e539ac20c6e",
   "metadata": {},
   "outputs": [
    {
     "data": {
      "text/plain": [
       "['0ne', 'two']"
      ]
     },
     "execution_count": 79,
     "metadata": {},
     "output_type": "execute_result"
    }
   ],
   "source": [
    "mylist[ :2]"
   ]
  },
  {
   "cell_type": "code",
   "execution_count": 80,
   "id": "62ad59cb-ed61-4f3e-b3e3-b5242e54dc01",
   "metadata": {},
   "outputs": [
    {
     "data": {
      "text/plain": [
       "['0ne', 'two', 'three', 'four', 'five', 'six']"
      ]
     },
     "execution_count": 80,
     "metadata": {},
     "output_type": "execute_result"
    }
   ],
   "source": [
    "mylist[:6]"
   ]
  },
  {
   "cell_type": "code",
   "execution_count": 81,
   "id": "67fca41a-70bc-44d0-a6e7-92c3567e6d47",
   "metadata": {},
   "outputs": [
    {
     "data": {
      "text/plain": [
       "'six'"
      ]
     },
     "execution_count": 81,
     "metadata": {},
     "output_type": "execute_result"
    }
   ],
   "source": [
    "mylist[-1]"
   ]
  },
  {
   "cell_type": "code",
   "execution_count": 82,
   "id": "f9719ac0-d1b0-4337-99cf-9bee62228ef8",
   "metadata": {},
   "outputs": [
    {
     "data": {
      "text/plain": [
       "'six'"
      ]
     },
     "execution_count": 82,
     "metadata": {},
     "output_type": "execute_result"
    }
   ],
   "source": [
    "mylist[-2]"
   ]
  },
  {
   "cell_type": "code",
   "execution_count": 83,
   "id": "61cac08d-c1e4-4b91-991a-dbdf197dc398",
   "metadata": {},
   "outputs": [
    {
     "data": {
      "text/plain": [
       "'five'"
      ]
     },
     "execution_count": 83,
     "metadata": {},
     "output_type": "execute_result"
    }
   ],
   "source": [
    "mylist[-3]"
   ]
  },
  {
   "cell_type": "code",
   "execution_count": 84,
   "id": "fe5498be-3055-4235-84f3-2c3a6c7acc9e",
   "metadata": {},
   "outputs": [
    {
     "data": {
      "text/plain": [
       "['0ne', 'two', 'three', 'four', 'five', 'six', 'six']"
      ]
     },
     "execution_count": 84,
     "metadata": {},
     "output_type": "execute_result"
    }
   ],
   "source": [
    "mylist[:]"
   ]
  },
  {
   "cell_type": "code",
   "execution_count": 85,
   "id": "70350a89-2201-41d0-a6dd-c51cdecf8583",
   "metadata": {},
   "outputs": [
    {
     "data": {
      "text/plain": [
       "['five', 'six', 'six']"
      ]
     },
     "execution_count": 85,
     "metadata": {},
     "output_type": "execute_result"
    }
   ],
   "source": [
    "mylist[-3:]"
   ]
  },
  {
   "cell_type": "code",
   "execution_count": 86,
   "id": "107e4c18-ed61-48e7-90d1-5f63ea27a89c",
   "metadata": {},
   "outputs": [
    {
     "data": {
      "text/plain": [
       "['four', 'five', 'six', 'six']"
      ]
     },
     "execution_count": 86,
     "metadata": {},
     "output_type": "execute_result"
    }
   ],
   "source": [
    "mylist[-4:]"
   ]
  },
  {
   "cell_type": "code",
   "execution_count": 87,
   "id": "41a56119-4c3c-4ad6-9086-439b201a530d",
   "metadata": {},
   "outputs": [
    {
     "data": {
      "text/plain": [
       "['three', 'four', 'five', 'six', 'six']"
      ]
     },
     "execution_count": 87,
     "metadata": {},
     "output_type": "execute_result"
    }
   ],
   "source": [
    "mylist[-5:]"
   ]
  },
  {
   "cell_type": "markdown",
   "id": "c483a9c1-640b-460b-9901-fc7cc666b3c9",
   "metadata": {},
   "source": [
    "# append, remove & change items"
   ]
  },
  {
   "cell_type": "code",
   "execution_count": 88,
   "id": "d35665a3-8f88-4062-84ac-ee9156350682",
   "metadata": {},
   "outputs": [
    {
     "data": {
      "text/plain": [
       "['0ne', 'two', 'three', 'four', 'five', 'six', 'six']"
      ]
     },
     "execution_count": 88,
     "metadata": {},
     "output_type": "execute_result"
    }
   ],
   "source": [
    "mylist"
   ]
  },
  {
   "cell_type": "code",
   "execution_count": 92,
   "id": "ef408463-c571-4eb8-a573-e4f45e42f314",
   "metadata": {},
   "outputs": [
    {
     "data": {
      "text/plain": [
       "['0ne', 'two', 'three', 'four', 'five', 'six', 'six', 'seven']"
      ]
     },
     "execution_count": 92,
     "metadata": {},
     "output_type": "execute_result"
    }
   ],
   "source": [
    "mylist.append('seven')  #add item at last of list\n",
    "mylist"
   ]
  },
  {
   "cell_type": "code",
   "execution_count": 94,
   "id": "34dfeb2b-543e-48f9-8cfb-d835f8da7a96",
   "metadata": {},
   "outputs": [
    {
     "data": {
      "text/plain": [
       "['0ne', 'two', 'three', 'four', 'five', 'six', 'six', 'seven', 'eight']"
      ]
     },
     "execution_count": 94,
     "metadata": {},
     "output_type": "execute_result"
    }
   ],
   "source": [
    "mylist.append('eight')\n",
    "mylist"
   ]
  },
  {
   "cell_type": "code",
   "execution_count": 96,
   "id": "164e93cb-7184-459f-b276-cce6e2739103",
   "metadata": {},
   "outputs": [
    {
     "data": {
      "text/plain": [
       "['0ne',\n",
       " 'two',\n",
       " 'three',\n",
       " 'four',\n",
       " 'five',\n",
       " 'six',\n",
       " 'six',\n",
       " 'seven',\n",
       " 'eight',\n",
       " 'nine',\n",
       " 'nine']"
      ]
     },
     "execution_count": 96,
     "metadata": {},
     "output_type": "execute_result"
    }
   ],
   "source": [
    "mylist.append('nine')\n",
    "mylist"
   ]
  },
  {
   "cell_type": "code",
   "execution_count": 98,
   "id": "8779ce4c-7a03-4a1b-8d67-ca20bbb79078",
   "metadata": {},
   "outputs": [
    {
     "data": {
      "text/plain": [
       "['0ne',\n",
       " 'two',\n",
       " 'three',\n",
       " 'four',\n",
       " 'five',\n",
       " 'six',\n",
       " 'six',\n",
       " 'seven',\n",
       " 'laxman',\n",
       " 'eight',\n",
       " 'nine',\n",
       " 'nine']"
      ]
     },
     "execution_count": 98,
     "metadata": {},
     "output_type": "execute_result"
    }
   ],
   "source": [
    "mylist.insert(8,'laxman')    #add item at 8th index\n",
    "mylist"
   ]
  },
  {
   "cell_type": "code",
   "execution_count": 100,
   "id": "43bf6d68-c15a-43b1-9655-a9cb4d6d2cfc",
   "metadata": {},
   "outputs": [
    {
     "data": {
      "text/plain": [
       "['0ne',\n",
       " 'two',\n",
       " 'TWO',\n",
       " 'three',\n",
       " 'four',\n",
       " 'five',\n",
       " 'six',\n",
       " 'six',\n",
       " 'seven',\n",
       " 'laxman',\n",
       " 'eight',\n",
       " 'nine',\n",
       " 'nine']"
      ]
     },
     "execution_count": 100,
     "metadata": {},
     "output_type": "execute_result"
    }
   ],
   "source": [
    "mylist.insert(2,'TWO')\n",
    "mylist"
   ]
  },
  {
   "cell_type": "code",
   "execution_count": 101,
   "id": "bdeef6aa-0edf-411a-a4dc-fc44db8c7b8a",
   "metadata": {},
   "outputs": [
    {
     "data": {
      "text/plain": [
       "['0ne',\n",
       " 'two',\n",
       " 'TWO',\n",
       " 'three',\n",
       " 'four',\n",
       " 'five',\n",
       " 'six',\n",
       " 'six',\n",
       " 'seven',\n",
       " 'radha',\n",
       " 'laxman',\n",
       " 'eight',\n",
       " 'nine',\n",
       " 'nine']"
      ]
     },
     "execution_count": 101,
     "metadata": {},
     "output_type": "execute_result"
    }
   ],
   "source": [
    "mylist.insert(9,'radha')\n",
    "mylist"
   ]
  },
  {
   "cell_type": "code",
   "execution_count": 106,
   "id": "ed7c7fc4-5572-4428-b2b5-1dd1ef308a3b",
   "metadata": {},
   "outputs": [
    {
     "data": {
      "text/plain": [
       "['0ne',\n",
       " 'two',\n",
       " 'TWO',\n",
       " 'three',\n",
       " 'four',\n",
       " 'five',\n",
       " 'six',\n",
       " 'six',\n",
       " 'seven',\n",
       " 'radha',\n",
       " 'eight',\n",
       " 'nine',\n",
       " 'nine']"
      ]
     },
     "execution_count": 106,
     "metadata": {},
     "output_type": "execute_result"
    }
   ],
   "source": [
    "mylist.remove('laxman') #remove item laxman\n",
    "mylist"
   ]
  },
  {
   "cell_type": "code",
   "execution_count": 107,
   "id": "ffc31c94-cb10-459d-b008-8cd266626ba4",
   "metadata": {},
   "outputs": [
    {
     "data": {
      "text/plain": [
       "['0ne',\n",
       " 'two',\n",
       " 'three',\n",
       " 'four',\n",
       " 'five',\n",
       " 'six',\n",
       " 'six',\n",
       " 'seven',\n",
       " 'radha',\n",
       " 'eight',\n",
       " 'nine',\n",
       " 'nine']"
      ]
     },
     "execution_count": 107,
     "metadata": {},
     "output_type": "execute_result"
    }
   ],
   "source": [
    "mylist.remove('TWO')\n",
    "mylist"
   ]
  },
  {
   "cell_type": "code",
   "execution_count": 108,
   "id": "754c4501-183d-4fd5-a4b0-bb9628a4038d",
   "metadata": {},
   "outputs": [
    {
     "data": {
      "text/plain": [
       "['0ne',\n",
       " 'two',\n",
       " 'three',\n",
       " 'four',\n",
       " 'five',\n",
       " 'six',\n",
       " 'seven',\n",
       " 'radha',\n",
       " 'eight',\n",
       " 'nine',\n",
       " 'nine']"
      ]
     },
     "execution_count": 108,
     "metadata": {},
     "output_type": "execute_result"
    }
   ],
   "source": [
    "mylist.remove('six')\n",
    "mylist"
   ]
  },
  {
   "cell_type": "code",
   "execution_count": 109,
   "id": "c0d8f3ae-2537-4ed5-854b-e71c38343dcc",
   "metadata": {},
   "outputs": [
    {
     "data": {
      "text/plain": [
       "['0ne',\n",
       " 'two',\n",
       " 'three',\n",
       " 'four',\n",
       " 'five',\n",
       " 'six',\n",
       " 'seven',\n",
       " 'radha',\n",
       " 'eight',\n",
       " 'nine']"
      ]
     },
     "execution_count": 109,
     "metadata": {},
     "output_type": "execute_result"
    }
   ],
   "source": [
    "mylist.pop()    #remove last item\n",
    "mylist"
   ]
  },
  {
   "cell_type": "code",
   "execution_count": 110,
   "id": "f0a034cc-1d60-48ad-97e7-89e66b1b0228",
   "metadata": {},
   "outputs": [
    {
     "data": {
      "text/plain": [
       "['0ne', 'two', 'three', 'four', 'five', 'seven', 'radha', 'eight', 'nine']"
      ]
     },
     "execution_count": 110,
     "metadata": {},
     "output_type": "execute_result"
    }
   ],
   "source": [
    "mylist.pop(5)  #remove item at index location 5\n",
    "mylist"
   ]
  },
  {
   "cell_type": "code",
   "execution_count": 111,
   "id": "ef577d96-df20-4aa1-a6e7-bc6ea87725b3",
   "metadata": {},
   "outputs": [
    {
     "data": {
      "text/plain": [
       "['0ne', 'two', 'three', 'four', 'seven', 'radha', 'eight', 'nine']"
      ]
     },
     "execution_count": 111,
     "metadata": {},
     "output_type": "execute_result"
    }
   ],
   "source": [
    "mylist.pop(4)\n",
    "mylist"
   ]
  },
  {
   "cell_type": "code",
   "execution_count": 112,
   "id": "72d6a972-a20f-4d64-a542-643a14e599ad",
   "metadata": {},
   "outputs": [
    {
     "data": {
      "text/plain": [
       "['0ne', 'two', 'three', 'four', 'radha', 'eight', 'nine']"
      ]
     },
     "execution_count": 112,
     "metadata": {},
     "output_type": "execute_result"
    }
   ],
   "source": [
    "del mylist[4]   #remove item at index location 4\n",
    "mylist"
   ]
  },
  {
   "cell_type": "code",
   "execution_count": 114,
   "id": "dd3be32b-7a74-4a1f-9b48-387232b89fe7",
   "metadata": {},
   "outputs": [
    {
     "data": {
      "text/plain": [
       "['0ne', 'two', 'three', 'radha', 'eight', 'nine']"
      ]
     },
     "execution_count": 114,
     "metadata": {},
     "output_type": "execute_result"
    }
   ],
   "source": [
    "del mylist[3]\n",
    "mylist"
   ]
  },
  {
   "cell_type": "code",
   "execution_count": 115,
   "id": "731809f6-009e-4443-b2ef-724139ab6101",
   "metadata": {},
   "outputs": [
    {
     "data": {
      "text/plain": [
       "[1, 2, 3, 'radha', 'eight', 'nine']"
      ]
     },
     "execution_count": 115,
     "metadata": {},
     "output_type": "execute_result"
    }
   ],
   "source": [
    "mylist[0]=1    #change value from list\n",
    "mylist[1]=2\n",
    "mylist[2]=3\n",
    "mylist"
   ]
  },
  {
   "cell_type": "code",
   "execution_count": 117,
   "id": "bca06573-8c6b-4ce3-b53d-735d63294139",
   "metadata": {},
   "outputs": [
    {
     "data": {
      "text/plain": [
       "[1, 2, 3, 4, 5, 6]"
      ]
     },
     "execution_count": 117,
     "metadata": {},
     "output_type": "execute_result"
    }
   ],
   "source": [
    "mylist[3]=4\n",
    "mylist[4]=5\n",
    "mylist[5]=6\n",
    "mylist"
   ]
  },
  {
   "cell_type": "code",
   "execution_count": 118,
   "id": "a6912276-3ddd-46c5-a308-73a626314ea5",
   "metadata": {},
   "outputs": [
    {
     "data": {
      "text/plain": [
       "[]"
      ]
     },
     "execution_count": 118,
     "metadata": {},
     "output_type": "execute_result"
    }
   ],
   "source": [
    "mylist.clear()    #clear the list\n",
    "mylist"
   ]
  },
  {
   "cell_type": "code",
   "execution_count": 119,
   "id": "1caccf21-f26d-462e-b600-da9d2d138ccc",
   "metadata": {},
   "outputs": [
    {
     "data": {
      "text/plain": [
       "[]"
      ]
     },
     "execution_count": 119,
     "metadata": {},
     "output_type": "execute_result"
    }
   ],
   "source": [
    "mylist.clear()\n",
    "mylist"
   ]
  },
  {
   "cell_type": "code",
   "execution_count": 120,
   "id": "2cc320ba-3d28-4813-9865-6dbce256a81c",
   "metadata": {},
   "outputs": [
    {
     "ename": "NameError",
     "evalue": "name 'mylist' is not defined",
     "output_type": "error",
     "traceback": [
      "\u001b[1;31m---------------------------------------------------------------------------\u001b[0m",
      "\u001b[1;31mNameError\u001b[0m                                 Traceback (most recent call last)",
      "Cell \u001b[1;32mIn[120], line 2\u001b[0m\n\u001b[0;32m      1\u001b[0m \u001b[38;5;28;01mdel\u001b[39;00m mylist\n\u001b[1;32m----> 2\u001b[0m mylist\n",
      "\u001b[1;31mNameError\u001b[0m: name 'mylist' is not defined"
     ]
    }
   ],
   "source": [
    "del mylist    #delete the whole list\n",
    "mylist"
   ]
  },
  {
   "cell_type": "markdown",
   "id": "7e446b05-af42-4338-ba9b-777d68ec43a6",
   "metadata": {},
   "source": [
    "# copy list"
   ]
  },
  {
   "cell_type": "code",
   "execution_count": 121,
   "id": "611c7786-2dc8-4c2b-b28f-b798d14ea6fb",
   "metadata": {},
   "outputs": [
    {
     "data": {
      "text/plain": [
       "['0ne', 'two', 'three', 'four', 'five', 'six', 'seven', 'eight', 'nine']"
      ]
     },
     "execution_count": 121,
     "metadata": {},
     "output_type": "execute_result"
    }
   ],
   "source": [
    "mylist = ['0ne', 'two', 'three', 'four', 'five', 'six','seven', 'eight', 'nine']\n",
    "mylist\n"
   ]
  },
  {
   "cell_type": "code",
   "execution_count": 123,
   "id": "bcd669fe-b2a0-477f-8823-3d33cd235c25",
   "metadata": {},
   "outputs": [],
   "source": [
    "mylist1 = mylist   #create the new list"
   ]
  },
  {
   "cell_type": "code",
   "execution_count": 127,
   "id": "e6372987-348f-4cec-93ae-2f8b4043bf70",
   "metadata": {},
   "outputs": [
    {
     "data": {
      "text/plain": [
       "(2527795429440, 2527795429440)"
      ]
     },
     "execution_count": 127,
     "metadata": {},
     "output_type": "execute_result"
    }
   ],
   "source": [
    "id(mylist),id(mylist1)    #both id have same address"
   ]
  },
  {
   "cell_type": "code",
   "execution_count": 128,
   "id": "82527f2d-a211-4ba0-968f-9ef799f13e7d",
   "metadata": {},
   "outputs": [],
   "source": [
    "mylist2 = mylist.copy()     #copy the list"
   ]
  },
  {
   "cell_type": "code",
   "execution_count": 129,
   "id": "6a383a4d-8aa3-43a1-848c-7cdd7832060e",
   "metadata": {},
   "outputs": [
    {
     "data": {
      "text/plain": [
       "2527795212736"
      ]
     },
     "execution_count": 129,
     "metadata": {},
     "output_type": "execute_result"
    }
   ],
   "source": [
    "id(mylist2)   #this id adress will bw different"
   ]
  },
  {
   "cell_type": "code",
   "execution_count": 132,
   "id": "f4477c3f-9435-4701-bae0-5d5bd4a13221",
   "metadata": {},
   "outputs": [
    {
     "data": {
      "text/plain": [
       "[1, 'two', 'three', 'four', 'five', 'six', 'seven', 'eight', 'nine']"
      ]
     },
     "execution_count": 132,
     "metadata": {},
     "output_type": "execute_result"
    }
   ],
   "source": [
    "mylist[0]=1\n",
    "mylist"
   ]
  },
  {
   "cell_type": "code",
   "execution_count": 133,
   "id": "84675f40-9e8a-4656-b8ea-ce0e76ba5791",
   "metadata": {},
   "outputs": [
    {
     "data": {
      "text/plain": [
       "[1, 'two', 'three', 'four', 'five', 'six', 'seven', 'eight', 'nine']"
      ]
     },
     "execution_count": 133,
     "metadata": {},
     "output_type": "execute_result"
    }
   ],
   "source": [
    "mylist1"
   ]
  },
  {
   "cell_type": "code",
   "execution_count": 134,
   "id": "a922c9c0-95fa-456e-96fe-feedc60a252f",
   "metadata": {},
   "outputs": [
    {
     "data": {
      "text/plain": [
       "['0ne', 'two', 'three', 'four', 'five', 'six', 'seven', 'eight', 'nine']"
      ]
     },
     "execution_count": 134,
     "metadata": {},
     "output_type": "execute_result"
    }
   ],
   "source": [
    "mylist2"
   ]
  },
  {
   "cell_type": "code",
   "execution_count": 135,
   "id": "d4b06583-1fe0-4dda-8b6d-8b01d720ea70",
   "metadata": {},
   "outputs": [
    {
     "data": {
      "text/plain": [
       "[1, 'two', 'three', 'four', 'five', 'six', 'seven', 'eight', 'nine']"
      ]
     },
     "execution_count": 135,
     "metadata": {},
     "output_type": "execute_result"
    }
   ],
   "source": [
    "mylist"
   ]
  },
  {
   "cell_type": "markdown",
   "id": "5899cc5f-9718-4b9c-b4f3-d4af052320d1",
   "metadata": {},
   "source": [
    "# join list"
   ]
  },
  {
   "cell_type": "code",
   "execution_count": 1,
   "id": "4b84aab1-b195-4ff0-a469-3c7a5e8811eb",
   "metadata": {},
   "outputs": [],
   "source": [
    "list1 = ['one','two','three','four','five']\n",
    "list2 = ['six','seven', 'eight','nine','ten']"
   ]
  },
  {
   "cell_type": "code",
   "execution_count": 2,
   "id": "d00e7750-e579-4391-8224-e74a042608dc",
   "metadata": {},
   "outputs": [
    {
     "data": {
      "text/plain": [
       "['one', 'two', 'three', 'four', 'five', 'six', 'seven', 'eight', 'nine', 'ten']"
      ]
     },
     "execution_count": 2,
     "metadata": {},
     "output_type": "execute_result"
    }
   ],
   "source": [
    "list3 = list1 + list2   #join list with the help of + operator\n",
    "list3"
   ]
  },
  {
   "cell_type": "code",
   "execution_count": 3,
   "id": "763eefb5-5ad9-498a-bdd5-50ce2840b40e",
   "metadata": {},
   "outputs": [
    {
     "data": {
      "text/plain": [
       "['one', 'two', 'three', 'four', 'five', 'six', 'seven', 'eight', 'nine', 'ten']"
      ]
     },
     "execution_count": 3,
     "metadata": {},
     "output_type": "execute_result"
    }
   ],
   "source": [
    "list1.extend(list2)   #append list2 with list1\n",
    "list1"
   ]
  },
  {
   "cell_type": "code",
   "execution_count": 5,
   "id": "579c8df5-f7cd-4743-a13c-9b8f932dc4c6",
   "metadata": {},
   "outputs": [
    {
     "data": {
      "text/plain": [
       "['one', 'two', 'three', 'four', 'five', 'six', 'seven', 'eight', 'nine', 'ten']"
      ]
     },
     "execution_count": 5,
     "metadata": {},
     "output_type": "execute_result"
    }
   ],
   "source": [
    "list3"
   ]
  },
  {
   "cell_type": "markdown",
   "id": "249ddabb-a87c-4928-854c-36f757eca6e6",
   "metadata": {},
   "source": [
    "# list membership"
   ]
  },
  {
   "cell_type": "code",
   "execution_count": 9,
   "id": "68dc4962-7474-4139-97d3-a0ade6967679",
   "metadata": {},
   "outputs": [
    {
     "data": {
      "text/plain": [
       "['one', 'two', 'three', 'four', 'five', 'six', 'seven', 'eight', 'nine', 'ten']"
      ]
     },
     "execution_count": 9,
     "metadata": {},
     "output_type": "execute_result"
    }
   ],
   "source": [
    "list1"
   ]
  },
  {
   "cell_type": "code",
   "execution_count": 11,
   "id": "93ebf304-7f3b-4589-ac75-4716cd768875",
   "metadata": {},
   "outputs": [
    {
     "data": {
      "text/plain": [
       "True"
      ]
     },
     "execution_count": 11,
     "metadata": {},
     "output_type": "execute_result"
    }
   ],
   "source": [
    "'one'in list1   #checks one exist or not"
   ]
  },
  {
   "cell_type": "code",
   "execution_count": 12,
   "id": "6db08c18-79a1-4c45-a66c-9cced651bd7b",
   "metadata": {},
   "outputs": [
    {
     "data": {
      "text/plain": [
       "False"
      ]
     },
     "execution_count": 12,
     "metadata": {},
     "output_type": "execute_result"
    }
   ],
   "source": [
    "' one ' in list1"
   ]
  },
  {
   "cell_type": "code",
   "execution_count": 13,
   "id": "a7fc5c65-f255-4f64-bfee-44e028ed0988",
   "metadata": {},
   "outputs": [
    {
     "data": {
      "text/plain": [
       "True"
      ]
     },
     "execution_count": 13,
     "metadata": {},
     "output_type": "execute_result"
    }
   ],
   "source": [
    "'ten' in list1"
   ]
  },
  {
   "cell_type": "code",
   "execution_count": 14,
   "id": "70abb6d5-0667-4059-828b-b80203201c4d",
   "metadata": {},
   "outputs": [
    {
     "data": {
      "text/plain": [
       "False"
      ]
     },
     "execution_count": 14,
     "metadata": {},
     "output_type": "execute_result"
    }
   ],
   "source": [
    "'eleven' in list1"
   ]
  },
  {
   "cell_type": "code",
   "execution_count": 16,
   "id": "bf60934a-dce7-430d-bacf-8bfa74002f2d",
   "metadata": {},
   "outputs": [
    {
     "name": "stdout",
     "output_type": "stream",
     "text": [
      "four is present in list\n"
     ]
    }
   ],
   "source": [
    "if 'four' in list1 :      # check four exist or not\n",
    "   print('four is present in list')\n",
    "else:\n",
    "   print ('four is not presnt in list')"
   ]
  },
  {
   "cell_type": "code",
   "execution_count": 18,
   "id": "32c33e10-4c00-4026-9c4d-c64d5c289626",
   "metadata": {},
   "outputs": [
    {
     "name": "stdout",
     "output_type": "stream",
     "text": [
      "eleven is not present in list\n"
     ]
    }
   ],
   "source": [
    "if 'eleven' in list1 :\n",
    "    print('eleven is present in list')\n",
    "else:\n",
    "    print ('eleven is not present in list')"
   ]
  },
  {
   "cell_type": "code",
   "execution_count": 19,
   "id": "d6b3c8b3-73d1-4aca-af9e-e63401e1d4f2",
   "metadata": {},
   "outputs": [
    {
     "name": "stdout",
     "output_type": "stream",
     "text": [
      "nineteen is not present\n"
     ]
    }
   ],
   "source": [
    "if ' nineteen' in list1:\n",
    "    print('nineteen is presnt')\n",
    "else:\n",
    "    print('nineteen is not present')"
   ]
  },
  {
   "cell_type": "code",
   "execution_count": 20,
   "id": "f5e9852d-a9ba-4b78-bdcb-42e778f5738b",
   "metadata": {},
   "outputs": [
    {
     "name": "stdout",
     "output_type": "stream",
     "text": [
      "six is present\n"
     ]
    }
   ],
   "source": [
    "if 'six' in list1:\n",
    "    print('six is present')\n",
    "else:\n",
    "    print('six is not present')"
   ]
  },
  {
   "cell_type": "markdown",
   "id": "a3c5aefa-4eae-4aa6-aecf-dd78d098ce6b",
   "metadata": {},
   "source": [
    "# reverse & sort list"
   ]
  },
  {
   "cell_type": "code",
   "execution_count": 22,
   "id": "e459431f-3385-4fa4-a16a-bda641b110f9",
   "metadata": {},
   "outputs": [
    {
     "data": {
      "text/plain": [
       "['one', 'two', 'three', 'four', 'five', 'six', 'seven', 'eight', 'nine', 'ten']"
      ]
     },
     "execution_count": 22,
     "metadata": {},
     "output_type": "execute_result"
    }
   ],
   "source": [
    "list1"
   ]
  },
  {
   "cell_type": "code",
   "execution_count": 27,
   "id": "2789f016-4bcd-4a16-b158-f51939bc89d0",
   "metadata": {},
   "outputs": [
    {
     "data": {
      "text/plain": [
       "['ten', 'nine', 'eight', 'seven', 'six', 'five', 'four', 'three', 'two', 'one']"
      ]
     },
     "execution_count": 27,
     "metadata": {},
     "output_type": "execute_result"
    }
   ],
   "source": [
    "list1.reverse()    #reverse the list\n",
    "list1\n"
   ]
  },
  {
   "cell_type": "code",
   "execution_count": 28,
   "id": "c0a0e3ca-cfd5-4fa2-988f-5686f9503f17",
   "metadata": {},
   "outputs": [
    {
     "data": {
      "text/plain": [
       "['one', 'two', 'three', 'four', 'five', 'six', 'seven', 'eight', 'nine', 'ten']"
      ]
     },
     "execution_count": 28,
     "metadata": {},
     "output_type": "execute_result"
    }
   ],
   "source": [
    "list1.reverse()\n",
    "list1"
   ]
  },
  {
   "cell_type": "code",
   "execution_count": 29,
   "id": "0cbd33e8-a574-428d-ae60-e52c2d9893fa",
   "metadata": {},
   "outputs": [
    {
     "data": {
      "text/plain": [
       "['ten', 'nine', 'eight', 'seven', 'six', 'five', 'four', 'three', 'two', 'one']"
      ]
     },
     "execution_count": 29,
     "metadata": {},
     "output_type": "execute_result"
    }
   ],
   "source": [
    "list1.reverse()\n",
    "list1"
   ]
  },
  {
   "cell_type": "code",
   "execution_count": 30,
   "id": "7d99f9d7-c57d-4b1b-a9a1-478b806ef13f",
   "metadata": {},
   "outputs": [
    {
     "data": {
      "text/plain": [
       "list[slice(None, None, -1)]"
      ]
     },
     "execution_count": 30,
     "metadata": {},
     "output_type": "execute_result"
    }
   ],
   "source": [
    "list1 = list[::-1]\n",
    "list1"
   ]
  },
  {
   "cell_type": "code",
   "execution_count": 31,
   "id": "9f5d576b-dae4-468c-83ae-ec661c6f116f",
   "metadata": {},
   "outputs": [
    {
     "ename": "TypeError",
     "evalue": "list[slice(None, None, -1)] is not a generic class",
     "output_type": "error",
     "traceback": [
      "\u001b[1;31m---------------------------------------------------------------------------\u001b[0m",
      "\u001b[1;31mTypeError\u001b[0m                                 Traceback (most recent call last)",
      "Cell \u001b[1;32mIn[31], line 1\u001b[0m\n\u001b[1;32m----> 1\u001b[0m list1 \u001b[38;5;241m=\u001b[39mlist1[::\u001b[38;5;241m-\u001b[39m\u001b[38;5;241m1\u001b[39m]\n\u001b[0;32m      2\u001b[0m list1\n",
      "\u001b[1;31mTypeError\u001b[0m: list[slice(None, None, -1)] is not a generic class"
     ]
    }
   ],
   "source": [
    "list1 =list1[::-1]\n",
    "list1"
   ]
  },
  {
   "cell_type": "code",
   "execution_count": 33,
   "id": "0864a3d8-2eea-4d3e-a601-b7ca2e93f2a8",
   "metadata": {},
   "outputs": [
    {
     "data": {
      "text/plain": [
       "[9, 15, 20, 56, 86, 95]"
      ]
     },
     "execution_count": 33,
     "metadata": {},
     "output_type": "execute_result"
    }
   ],
   "source": [
    "mylist3 = [9,20,86,95,56,15]    #sort in ascending order\n",
    "mylist3.sort()\n",
    "mylist3"
   ]
  },
  {
   "cell_type": "code",
   "execution_count": 34,
   "id": "b74cf7a8-b068-4a55-9f60-cad35d41bf43",
   "metadata": {},
   "outputs": [
    {
     "data": {
      "text/plain": [
       "[95, 86, 56, 20, 15, 9]"
      ]
     },
     "execution_count": 34,
     "metadata": {},
     "output_type": "execute_result"
    }
   ],
   "source": [
    "mylist3 = [9,20,86,95,56,15]    #sort in descending order\n",
    "mylist3.sort(reverse = True)\n",
    "mylist3"
   ]
  },
  {
   "cell_type": "code",
   "execution_count": 36,
   "id": "038477cc-50af-49e7-927c-8b8c23ae01c5",
   "metadata": {},
   "outputs": [
    {
     "data": {
      "text/plain": [
       "[28, 47, 67, 84, 92, 93]"
      ]
     },
     "execution_count": 36,
     "metadata": {},
     "output_type": "execute_result"
    }
   ],
   "source": [
    "mylist4 = [28,84,93,67,92,47]\n",
    "sorted (mylist4)"
   ]
  },
  {
   "cell_type": "code",
   "execution_count": 37,
   "id": "602b2fab-3ca2-4440-bf8e-652697fed74e",
   "metadata": {},
   "outputs": [
    {
     "data": {
      "text/plain": [
       "[28, 84, 93, 67, 92, 47]"
      ]
     },
     "execution_count": 37,
     "metadata": {},
     "output_type": "execute_result"
    }
   ],
   "source": [
    "mylist4"
   ]
  },
  {
   "cell_type": "markdown",
   "id": "cda581b3-6e55-4482-a265-fa4b6e869c1c",
   "metadata": {},
   "source": [
    "## loop through list"
   ]
  },
  {
   "cell_type": "code",
   "execution_count": 8,
   "id": "f0f082ce-ee41-4454-bbee-9ee420e80b1a",
   "metadata": {},
   "outputs": [
    {
     "data": {
      "text/plain": [
       "['one', ' two', 'three', 'four', 'five']"
      ]
     },
     "execution_count": 8,
     "metadata": {},
     "output_type": "execute_result"
    }
   ],
   "source": [
    "list1 = ['one',' two', 'three','four','five' ]\n",
    "list1"
   ]
  },
  {
   "cell_type": "code",
   "execution_count": 9,
   "id": "5e8533c2-aeb5-4d79-827b-13589176c5c8",
   "metadata": {},
   "outputs": [
    {
     "name": "stdout",
     "output_type": "stream",
     "text": [
      "one\n",
      " two\n",
      "three\n",
      "four\n",
      "five\n"
     ]
    }
   ],
   "source": [
    "for i in list1:\n",
    "    print(i)\n",
    "    \n"
   ]
  },
  {
   "cell_type": "code",
   "execution_count": 12,
   "id": "66b5872d-6b7e-490a-86c1-2e849d45a724",
   "metadata": {},
   "outputs": [
    {
     "name": "stdout",
     "output_type": "stream",
     "text": [
      "(0, 'one')\n",
      "(1, ' two')\n",
      "(2, 'three')\n",
      "(3, 'four')\n",
      "(4, 'five')\n"
     ]
    }
   ],
   "source": [
    "for i in enumerate(list1):\n",
    "    print(i)"
   ]
  },
  {
   "cell_type": "code",
   "execution_count": 14,
   "id": "49cafcfa-69d3-44f8-b702-9155653d8c22",
   "metadata": {},
   "outputs": [
    {
     "data": {
      "text/plain": [
       "['saloni', 'arya', 'shrushti', 'jaya', 'atmaram']"
      ]
     },
     "execution_count": 14,
     "metadata": {},
     "output_type": "execute_result"
    }
   ],
   "source": [
    "list2 = ['saloni','arya','shrushti','jaya','atmaram']\n",
    "list2"
   ]
  },
  {
   "cell_type": "code",
   "execution_count": 15,
   "id": "d4701934-594e-4c83-9b1f-671d299b3592",
   "metadata": {},
   "outputs": [
    {
     "name": "stdout",
     "output_type": "stream",
     "text": [
      "saloni\n",
      "arya\n",
      "shrushti\n",
      "jaya\n",
      "atmaram\n"
     ]
    }
   ],
   "source": [
    "for i in list2:\n",
    "    print(i)"
   ]
  },
  {
   "cell_type": "code",
   "execution_count": 16,
   "id": "6c66ce57-7d34-4785-b7f3-faa549759ae5",
   "metadata": {},
   "outputs": [
    {
     "name": "stdout",
     "output_type": "stream",
     "text": [
      "(0, 'saloni')\n",
      "(1, 'arya')\n",
      "(2, 'shrushti')\n",
      "(3, 'jaya')\n",
      "(4, 'atmaram')\n"
     ]
    }
   ],
   "source": [
    "for i in enumerate(list2):\n",
    "    print(i)"
   ]
  },
  {
   "cell_type": "markdown",
   "id": "a9c83112-eeab-4f0f-a92f-17dfeca9ab7b",
   "metadata": {},
   "source": [
    "# count"
   ]
  },
  {
   "cell_type": "code",
   "execution_count": 21,
   "id": "f06017b7-3e34-42f4-89cf-1c5da4435a4c",
   "metadata": {},
   "outputs": [
    {
     "data": {
      "text/plain": [
       "['ram',\n",
       " 'radha',\n",
       " 'kanha',\n",
       " 'sham',\n",
       " 'govind',\n",
       " 'govind',\n",
       " 'radha',\n",
       " 'radha',\n",
       " 'radha',\n",
       " 'sham',\n",
       " 'sham',\n",
       " 'sham',\n",
       " 'sham',\n",
       " 'ram']"
      ]
     },
     "execution_count": 21,
     "metadata": {},
     "output_type": "execute_result"
    }
   ],
   "source": [
    "list11 = ['ram','radha','kanha','sham','govind','govind','radha','radha','radha','sham','sham','sham','sham','ram']\n",
    "list11"
   ]
  },
  {
   "cell_type": "code",
   "execution_count": 24,
   "id": "2484750f-9433-43e2-af05-712f02590571",
   "metadata": {},
   "outputs": [
    {
     "data": {
      "text/plain": [
       "2"
      ]
     },
     "execution_count": 24,
     "metadata": {},
     "output_type": "execute_result"
    }
   ],
   "source": [
    "list11.count('ram')    #count ram in list\n"
   ]
  },
  {
   "cell_type": "markdown",
   "id": "a3f67c6f-4991-4a96-ab85-9b0d96a6625b",
   "metadata": {},
   "source": [
    "# all / any"
   ]
  },
  {
   "cell_type": "code",
   "execution_count": 2,
   "id": "b338e5bb-a89c-4425-a18d-af8fc53746cc",
   "metadata": {},
   "outputs": [],
   "source": [
    "q =[1,0,6,5,8,9]"
   ]
  },
  {
   "cell_type": "code",
   "execution_count": 3,
   "id": "f2e9be48-4d35-47c4-a14b-91b4a303724d",
   "metadata": {},
   "outputs": [
    {
     "data": {
      "text/plain": [
       "False"
      ]
     },
     "execution_count": 3,
     "metadata": {},
     "output_type": "execute_result"
    }
   ],
   "source": [
    "all (q) #value 0 in list"
   ]
  },
  {
   "cell_type": "code",
   "execution_count": 4,
   "id": "5ad2fcab-6e96-4a47-8039-a7c813a2ad16",
   "metadata": {},
   "outputs": [
    {
     "data": {
      "text/plain": [
       "True"
      ]
     },
     "execution_count": 4,
     "metadata": {},
     "output_type": "execute_result"
    }
   ],
   "source": [
    "any (q) #return true"
   ]
  },
  {
   "cell_type": "code",
   "execution_count": 5,
   "id": "3b73ac6c-649a-4d14-a3a6-028e969aad77",
   "metadata": {},
   "outputs": [],
   "source": [
    "d = [6,False,True,8,9,5]   "
   ]
  },
  {
   "cell_type": "code",
   "execution_count": 6,
   "id": "f9c9db41-7edd-494b-b2b3-596f0409c337",
   "metadata": {},
   "outputs": [
    {
     "data": {
      "text/plain": [
       "False"
      ]
     },
     "execution_count": 6,
     "metadata": {},
     "output_type": "execute_result"
    }
   ],
   "source": [
    "all (d) #return false as one value is false"
   ]
  },
  {
   "cell_type": "code",
   "execution_count": 7,
   "id": "64975609-92f1-48a0-a5f2-5f7ee7a4b5a2",
   "metadata": {},
   "outputs": [
    {
     "data": {
      "text/plain": [
       "True"
      ]
     },
     "execution_count": 7,
     "metadata": {},
     "output_type": "execute_result"
    }
   ],
   "source": [
    "any (d) #return true as true value in the list"
   ]
  },
  {
   "cell_type": "code",
   "execution_count": null,
   "id": "8933ba96-db70-44a4-a58e-28efb1429852",
   "metadata": {},
   "outputs": [],
   "source": []
  }
 ],
 "metadata": {
  "kernelspec": {
   "display_name": "Python [conda env:base] *",
   "language": "python",
   "name": "conda-base-py"
  },
  "language_info": {
   "codemirror_mode": {
    "name": "ipython",
    "version": 3
   },
   "file_extension": ".py",
   "mimetype": "text/x-python",
   "name": "python",
   "nbconvert_exporter": "python",
   "pygments_lexer": "ipython3",
   "version": "3.12.7"
  }
 },
 "nbformat": 4,
 "nbformat_minor": 5
}
